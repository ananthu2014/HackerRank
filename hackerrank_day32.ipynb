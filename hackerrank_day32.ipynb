{
 "cells": [
  {
   "cell_type": "code",
   "execution_count": null,
   "id": "0cbd64a4",
   "metadata": {},
   "outputs": [],
   "source": [
    "import re\n",
    "\n",
    "for _ in range(int(input())):  # Use _ for throwaway variable in loop\n",
    "    number = input()\n",
    "    pattern = r'^[456]\\d{3}(-?\\d{4}){3}$'\n",
    "    if not re.match(pattern, number):\n",
    "        print('Invalid')\n",
    "    else:\n",
    "        number = number.replace('-', '')\n",
    "        valid = True  # Assume the number is valid until proven otherwise\n",
    "        for i in range(len(number) - 3):\n",
    "            if number[i] == number[i + 1] == number[i + 2] == number[i + 3]:\n",
    "                valid = False  # Found 4 consecutive digits, mark as invalid\n",
    "                break  # No need to check further\n",
    "        if valid:\n",
    "            print('Valid')\n",
    "        else:\n",
    "            print('Invalid')\n"
   ]
  },
  {
   "cell_type": "markdown",
   "id": "7f4efcdf",
   "metadata": {},
   "source": [
    "When you see @wrapper used like this in Python, it indicates that wrapper is a decorator being applied to the function defined immediately below it, in this case, the sort_phone function. Decorators are a powerful feature in Python that allow you to modify or enhance the behavior of functions or methods without changing their code.\n",
    "How Decorators Work\n",
    "\n",
    "A decorator is itself a function that takes another function as input (the one it decorates) and returns a new function with enhanced or modified behavior. The original function is passed to the decorator as an argument, and the decorator returns a new function that includes the original behavior plus some additional behavior.\n",
    "\n",
    "In your example, @wrapper applies the wrapper decorator to the sort_phone function. Here's a simplified version of what's happening:\n",
    "\n",
    "python\n",
    "\n",
    "def wrapper(func):\n",
    "    def wrapped(*args, **kwargs):\n",
    "        # Do something before calling the original function\n",
    "        result = func(*args, **kwargs)  # Call the original function\n",
    "        # Do something after calling the original function\n",
    "        return result\n",
    "    return wrapped\n",
    "\n",
    "Applying the Decorator\n",
    "\n",
    "When you define a function and prepend it with @decorator_name, like so:\n",
    "\n",
    "python\n",
    "\n",
    "@wrapper\n",
    "def sort_phone(l):\n",
    "    print(*sorted(l), sep='\\n')\n",
    "\n",
    "It's syntactic sugar for the following operation:\n",
    "\n",
    "python\n",
    "\n",
    "def sort_phone(l):\n",
    "    print(*sorted(l), sep='\\n')\n",
    "\n",
    "sort_phone = wrapper(sort_phone)\n",
    "\n",
    "This means the sort_phone function is wrapped by the wrapper function, effectively replacing sort_phone with the version returned by wrapper, which can add additional functionality before or after the original function's execution.\n",
    "Practical Use\n",
    "\n",
    "Decorators are widely used in Python for a variety of tasks, such as:\n",
    "\n",
    "    Logging\n",
    "    Access control and authentication\n",
    "    Instrumentation and timing functions\n",
    "    Caching results of expensive function calls\n",
    "    Modifying or augmenting function behavior in other ways\n",
    "\n",
    "The use of @wrapper in your code snippet suggests that wrapper is intended to modify or enhance how sort_phone works, possibly by preprocessing input, postprocessing output, handling exceptions, logging, or other tasks that you want to apply to the sort_phone function behavior systematically.\n"
   ]
  },
  {
   "cell_type": "code",
   "execution_count": 12,
   "id": "f377b541",
   "metadata": {},
   "outputs": [],
   "source": [
    "def my_decorator(func):\n",
    "    def wrapper():\n",
    "        func()  # Call the original function\n",
    "        print(\"Goodbye!\")  # Add something new\n",
    "    return wrapper\n",
    "@my_decorator\n",
    "def say_hello():\n",
    "    print(\"Hello!\")\n"
   ]
  },
  {
   "cell_type": "code",
   "execution_count": 14,
   "id": "3f361f9b",
   "metadata": {},
   "outputs": [],
   "source": [
    "#say_hello = my_decorator(say_hello) this is what actually happens\n"
   ]
  },
  {
   "cell_type": "code",
   "execution_count": 15,
   "id": "e55a62f0",
   "metadata": {},
   "outputs": [
    {
     "name": "stdout",
     "output_type": "stream",
     "text": [
      "Hello!\n",
      "Goodbye!\n"
     ]
    }
   ],
   "source": [
    "say_hello()"
   ]
  },
  {
   "cell_type": "code",
   "execution_count": null,
   "id": "ff38cfc2",
   "metadata": {},
   "outputs": [],
   "source": [
    "def wrapper(f):\n",
    "    def fun(l):\n",
    "        s = sorted([i[-10:] for i in l])\n",
    "        for i in s:\n",
    "            print(\"+91 \"+i[0:5]+\" \"+i[5:])\n",
    "    return fun\n",
    "\n",
    "@wrapper\n",
    "def sort_phone(l):\n",
    "    print(*sorted(l), sep='\\n')\n",
    "\n",
    "if __name__ == '__main__':\n",
    "    l = [input() for _ in range(int(input()))]\n",
    "    sort_phone(l) "
   ]
  }
 ],
 "metadata": {
  "kernelspec": {
   "display_name": "Python 3 (ipykernel)",
   "language": "python",
   "name": "python3"
  },
  "language_info": {
   "codemirror_mode": {
    "name": "ipython",
    "version": 3
   },
   "file_extension": ".py",
   "mimetype": "text/x-python",
   "name": "python",
   "nbconvert_exporter": "python",
   "pygments_lexer": "ipython3",
   "version": "3.11.5"
  }
 },
 "nbformat": 4,
 "nbformat_minor": 5
}
