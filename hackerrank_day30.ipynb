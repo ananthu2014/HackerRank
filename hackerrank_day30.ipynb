{
 "cells": [
  {
   "cell_type": "code",
   "execution_count": null,
   "id": "5553ae94",
   "metadata": {},
   "outputs": [],
   "source": [
    "'''html parsing'''\n",
    "from html.parser import HTMLParser\n",
    "\n",
    "class MyHTMLParser(HTMLParser):\n",
    "  \n",
    "    def handle_data(self, data):\n",
    "        if data != '\\n': \n",
    "            print(\">>> Data\\n\"+ data)\n",
    "        \n",
    "    def handle_comment(self, data):\n",
    "        data = data.split('\\n')\n",
    "        if len(data)>1:\n",
    "            print('>>> Multi-line Comment\\n'+'\\n'.join(data))\n",
    "        else:\n",
    "            print('>>> Single-line Comment\\n'+ data[0])\n",
    "              \n",
    "  \n",
    "html = \"\"       \n",
    "for i in range(int(input())):\n",
    "    html += input().rstrip()\n",
    "    html += '\\n'\n",
    "    \n",
    "parser = MyHTMLParser()\n",
    "parser.feed(html)\n",
    "parser.close()"
   ]
  },
  {
   "cell_type": "code",
   "execution_count": null,
   "id": "d6c84b9a",
   "metadata": {},
   "outputs": [],
   "source": [
    "from html.parser import HTMLParser\n",
    "\n",
    "\n",
    "class MyHTMLParser(HTMLParser):\n",
    "    \n",
    "    def handle_starttag(self, tag, attrs):\n",
    "        print(tag)\n",
    "        if len(attrs):\n",
    "            for att in attrs:\n",
    "                print(\"->\", att[0], \">\", att[1])\n",
    "\n",
    "parse = MyHTMLParser()               \n",
    "for _ in range(int(input())):\n",
    "    parse.feed(input())\n",
    "\n",
    "parse.close()"
   ]
  }
 ],
 "metadata": {
  "kernelspec": {
   "display_name": "Python 3 (ipykernel)",
   "language": "python",
   "name": "python3"
  },
  "language_info": {
   "codemirror_mode": {
    "name": "ipython",
    "version": 3
   },
   "file_extension": ".py",
   "mimetype": "text/x-python",
   "name": "python",
   "nbconvert_exporter": "python",
   "pygments_lexer": "ipython3",
   "version": "3.11.5"
  }
 },
 "nbformat": 4,
 "nbformat_minor": 5
}
