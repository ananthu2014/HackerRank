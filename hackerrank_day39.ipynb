{
 "cells": [
  {
   "cell_type": "code",
   "execution_count": null,
   "id": "dbdf757e",
   "metadata": {},
   "outputs": [],
   "source": [
    "mean\n",
    "\n",
    "The mean tool computes the arithmetic mean along the specified axis.\n",
    "\n",
    "import numpy\n",
    "\n",
    "my_array = numpy.array([ [1, 2], [3, 4] ])\n",
    "\n",
    "print numpy.mean(my_array, axis = 0)        #Output : [ 2.  3.]\n",
    "print numpy.mean(my_array, axis = 1)        #Output : [ 1.5  3.5]\n",
    "print numpy.mean(my_array, axis = None)     #Output : 2.5\n",
    "print numpy.mean(my_array)                  #Output : 2.5\n",
    "\n",
    "By default, the axis is None. Therefore, it computes the mean of the flattened array.\n",
    "\n",
    "var\n",
    "\n",
    "The var tool computes the arithmetic variance along the specified axis.\n",
    "\n",
    "import numpy\n",
    "\n",
    "my_array = numpy.array([ [1, 2], [3, 4] ])\n",
    "\n",
    "print numpy.var(my_array, axis = 0)         #Output : [ 1.  1.]\n",
    "print numpy.var(my_array, axis = 1)         #Output : [ 0.25  0.25]\n",
    "print numpy.var(my_array, axis = None)      #Output : 1.25\n",
    "print numpy.var(my_array)                   #Output : 1.25\n",
    "\n",
    "By default, the axis is None. Therefore, it computes the variance of the flattened array.\n",
    "\n",
    "std\n",
    "\n",
    "The std tool computes the arithmetic standard deviation along the specified axis.\n",
    "\n",
    "import numpy\n",
    "\n",
    "my_array = numpy.array([ [1, 2], [3, 4] ])\n",
    "\n",
    "print numpy.std(my_array, axis = 0)         #Output : [ 1.  1.]\n",
    "print numpy.std(my_array, axis = 1)         #Output : [ 0.5  0.5]\n",
    "print numpy.std(my_array, axis = None)      #Output : 1.11803398875\n",
    "print numpy.std(my_array)                   #Output : 1.11803398875\n",
    " "
   ]
  },
  {
   "cell_type": "code",
   "execution_count": null,
   "id": "75afdfc5",
   "metadata": {},
   "outputs": [],
   "source": [
    "import numpy as np\n",
    "\n",
    "N, _ = map(int, input().split())\n",
    "\n",
    "arr = np.array([list(map(int, input().split())) for _ in range(N)])\n",
    "\n",
    "print(np.mean(arr, axis=1), np.var(arr, axis=0), round(np.std(arr),11), sep='\\n')"
   ]
  },
  {
   "cell_type": "code",
   "execution_count": null,
   "id": "361d28a0",
   "metadata": {},
   "outputs": [],
   "source": [
    "# Enter your code here. Read input from STDIN. Print output to STDOUT\n",
    "import numpy as np\n",
    "n = int(input())\n",
    "a = np.array([[int(j) for j in input().split()] for _ in range(n)])\n",
    "b = np.array([[int(j) for j in input().split()] for _ in range(n)])\n",
    "print(a@b)\n",
    "#matrix multiplication"
   ]
  },
  {
   "cell_type": "code",
   "execution_count": null,
   "id": "57c99779",
   "metadata": {},
   "outputs": [],
   "source": []
  }
 ],
 "metadata": {
  "kernelspec": {
   "display_name": "Python 3 (ipykernel)",
   "language": "python",
   "name": "python3"
  },
  "language_info": {
   "codemirror_mode": {
    "name": "ipython",
    "version": 3
   },
   "file_extension": ".py",
   "mimetype": "text/x-python",
   "name": "python",
   "nbconvert_exporter": "python",
   "pygments_lexer": "ipython3",
   "version": "3.11.5"
  }
 },
 "nbformat": 4,
 "nbformat_minor": 5
}
