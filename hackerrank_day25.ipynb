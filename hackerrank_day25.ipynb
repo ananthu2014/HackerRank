{
 "cells": [
  {
   "cell_type": "markdown",
   "id": "0a7730e9",
   "metadata": {},
   "source": [
    "group()\n",
    "\n",
    "A group() expression returns one or more subgroups of the match.\n",
    "Code\n",
    "\n",
    ">>> import re\n",
    ">>> m = re.match(r'(\\w+)@(\\w+)\\.(\\w+)','username@hackerrank.com')\n",
    ">>> m.group(0)       # The entire match \n",
    "'username@hackerrank.com'\n",
    ">>> m.group(1)       # The first parenthesized subgroup.\n",
    "'username'\n",
    ">>> m.group(2)       # The second parenthesized subgroup.\n",
    "'hackerrank'\n",
    ">>> m.group(3)       # The third parenthesized subgroup.\n",
    "'com'\n",
    ">>> m.group(1,2,3)   # Multiple arguments give us a tuple.\n",
    "('username', 'hackerrank', 'com')\n"
   ]
  },
  {
   "cell_type": "markdown",
   "id": "f4e046c5",
   "metadata": {},
   "source": [
    "groups()\n",
    "\n",
    "A groups() expression returns a tuple containing all the subgroups of the match.\n",
    "Code\n",
    "\n",
    ">>> import re\n",
    ">>> m = re.match(r'(\\w+)@(\\w+)\\.(\\w+)','username@hackerrank.com')\n",
    ">>> m.groups()\n",
    "('username', 'hackerrank', 'com')\n",
    "\n",
    "groupdict()\n",
    "\n",
    "A groupdict() expression returns a dictionary containing all the named subgroups of the match, keyed by the subgroup name.\n",
    "Code\n",
    "\n",
    ">>> m = re.match(r'(?P<user>\\w+)@(?P<website>\\w+)\\.(?P<extension>\\w+)','myname@hackerrank.com')\n",
    ">>> m.groupdict()\n",
    "{'website': 'hackerrank', 'user': 'myname', 'extension': 'com'}\n"
   ]
  },
  {
   "cell_type": "markdown",
   "id": "8e2da380",
   "metadata": {},
   "source": [
    "In regular expressions, \\w is a special sequence that matches any alphanumeric character, including letters (both uppercase and lowercase), digits, and the underscore (_) character. Specifically, it is equivalent to the character class [a-zA-Z0-9_], which includes:\n",
    "\n",
    "    a-z: all lowercase letters,\n",
    "    A-Z: all uppercase letters,\n",
    "    0-9: all digits, and\n",
    "    _: the underscore character.\n",
    "\n",
    "The \\w character class is used in regular expressions to find parts of the strings that contain \"word characters,\" making it a versatile tool for matching identifiers, words, or any sequence composed of letters, digits, and underscores within text data.\n"
   ]
  },
  {
   "cell_type": "code",
   "execution_count": 1,
   "id": "07156667",
   "metadata": {},
   "outputs": [
    {
     "name": "stdout",
     "output_type": "stream",
     "text": [
      "11122334345ey5eryryerdg gfh\n",
      "1\n"
     ]
    }
   ],
   "source": [
    "import re\n",
    "m = re.findall(r'([a-zA-Z0-9])\\1+', input())\n",
    "\n",
    "if len(m):\n",
    "    print(m[0])\n",
    "else:\n",
    "    print('-1')"
   ]
  },
  {
   "cell_type": "markdown",
   "id": "26aacaca",
   "metadata": {},
   "source": [
    "The reduce() function applies a function of two arguments cumulatively on a list of objects in succession from left to right to reduce it to one value. Say you have a list, say [1,2,3] and you have to find its sum.\n",
    "\n",
    ">>> reduce(lambda x, y : x + y,[1,2,3])\n",
    "6\n",
    "\n",
    "You can also define an initial value. If it is specified, the function will assume initial value as the value given, and then reduce. It is equivalent to adding the initial value at the beginning of the list. For example:\n",
    "\n",
    ">>> reduce(lambda x, y : x + y, [1,2,3], -3)\n",
    "3\n",
    "\n",
    ">>> from fractions import gcd\n",
    ">>> reduce(gcd, [2,4,8], 3)\n",
    "1\n"
   ]
  },
  {
   "cell_type": "markdown",
   "id": "bddbe01f",
   "metadata": {},
   "source": [
    "Given a list of rational numbers,find their product.\n",
    "\n",
    "Concept\n",
    "The reduce() function applies a function of two arguments cumulatively on a list of objects in succession from left to right to reduce it to one value. Say you have a list, say [1,2,3] and you have to find its sum.\n",
    "\n",
    ">>> reduce(lambda x, y : x + y,[1,2,3])\n",
    "6\n",
    "\n",
    "You can also define an initial value. If it is specified, the function will assume initial value as the value given, and then reduce. It is equivalent to adding the initial value at the beginning of the list. For example:\n",
    "\n",
    ">>> reduce(lambda x, y : x + y, [1,2,3], -3)\n",
    "3\n",
    "\n",
    ">>> from fractions import gcd\n",
    ">>> reduce(gcd, [2,4,8], 3)\n",
    "1\n"
   ]
  },
  {
   "cell_type": "code",
   "execution_count": 6,
   "id": "f8dcaa46",
   "metadata": {},
   "outputs": [],
   "source": [
    "from fractions import Fraction\n",
    "fracs=[]"
   ]
  },
  {
   "cell_type": "code",
   "execution_count": 7,
   "id": "bf170c49",
   "metadata": {},
   "outputs": [
    {
     "name": "stdout",
     "output_type": "stream",
     "text": [
      "3\n",
      "2 5\n",
      "24\n",
      "1 2\n"
     ]
    }
   ],
   "source": [
    "for _ in range(int(input())):\n",
    "        fracs.append(Fraction(*map(int, input().split())))"
   ]
  },
  {
   "cell_type": "code",
   "execution_count": 8,
   "id": "e05eb281",
   "metadata": {},
   "outputs": [
    {
     "data": {
      "text/plain": [
       "[Fraction(2, 5), Fraction(24, 1), Fraction(1, 2)]"
      ]
     },
     "execution_count": 8,
     "metadata": {},
     "output_type": "execute_result"
    }
   ],
   "source": [
    "fracs"
   ]
  },
  {
   "cell_type": "code",
   "execution_count": 10,
   "id": "748c66c4",
   "metadata": {},
   "outputs": [
    {
     "data": {
      "text/plain": [
       "2"
      ]
     },
     "execution_count": 10,
     "metadata": {},
     "output_type": "execute_result"
    }
   ],
   "source": [
    "fracs[0].numerator"
   ]
  },
  {
   "cell_type": "code",
   "execution_count": null,
   "id": "a89cd0b6",
   "metadata": {},
   "outputs": [],
   "source": [
    "from fractions import Fraction\n",
    "from functools import reduce\n",
    "\n",
    "def product(fracs):\n",
    "    t = reduce(lambda x,y :x*y, fracs)\n",
    "    return t.numerator, t.denominator\n",
    "\n",
    "if __name__ == '__main__':\n",
    "    fracs = []\n",
    "    for _ in range(int(input())):\n",
    "        fracs.append(Fraction(*map(int, input().split())))\n",
    "    result = product(fracs)\n",
    "    print(*result)"
   ]
  },
  {
   "cell_type": "code",
   "execution_count": null,
   "id": "f92fa116",
   "metadata": {},
   "outputs": [],
   "source": [
    "import re\n",
    "m = re.findall(r'([a-zA-Z0-9])\\1+', input())\n",
    "\n",
    "if len(m):\n",
    "    print(m[0])\n",
    "else:\n",
    "    print('-1')\n"
   ]
  }
 ],
 "metadata": {
  "kernelspec": {
   "display_name": "Python 3 (ipykernel)",
   "language": "python",
   "name": "python3"
  },
  "language_info": {
   "codemirror_mode": {
    "name": "ipython",
    "version": 3
   },
   "file_extension": ".py",
   "mimetype": "text/x-python",
   "name": "python",
   "nbconvert_exporter": "python",
   "pygments_lexer": "ipython3",
   "version": "3.11.5"
  }
 },
 "nbformat": 4,
 "nbformat_minor": 5
}
