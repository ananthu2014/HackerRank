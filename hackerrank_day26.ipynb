{
 "cells": [
  {
   "cell_type": "markdown",
   "id": "115dab61",
   "metadata": {},
   "source": [
    "re.findall()\n",
    "\n",
    "The expression re.findall() returns all the non-overlapping matches of patterns in a string as a list of strings.\n",
    "Code\n",
    "\n",
    ">>> import re\n",
    ">>> re.findall(r'\\w','http://www.hackerrank.com/')\n",
    "['h', 't', 't', 'p', 'w', 'w', 'w', 'h', 'a', 'c', 'k', 'e', 'r', 'r', 'a', 'n', 'k', 'c', 'o', 'm']\n",
    "\n",
    "re.finditer()\n",
    "\n",
    "The expression re.finditer() returns an iterator yielding MatchObject instances over all non-overlapping matches for the re pattern in the string.\n",
    "Code\n",
    "\n",
    ">>> import re\n",
    ">>> re.finditer(r'\\w','http://www.hackerrank.com/')\n",
    "<callable-iterator object at 0x0266C790>\n",
    ">>> map(lambda x: x.group(),re.finditer(r'\\w','http://www.hackerrank.com/'))\n",
    "['h', 't', 't', 'p', 'w', 'w', 'w', 'h', 'a', 'c', 'k', 'e', 'r', 'r', 'a', 'n', 'k', 'c', 'o', 'm']\n"
   ]
  },
  {
   "cell_type": "markdown",
   "id": "dee91144",
   "metadata": {},
   "source": [
    "    (?i): This makes the pattern case-insensitive, eliminating the need to list both uppercase and lowercase letters separately.\n",
    "    [QWRTYPSDFGHJKLZXCVBNM]: This matches any consonant.\n",
    "    [AEIOUaeiou]+: This matches one or more vowels immediately following the consonant.\n",
    "    The final [QWRTYPSDFGHJKLZXCVBNM] matches another consonant following the vowels."
   ]
  },
  {
   "cell_type": "markdown",
   "id": "48696ad1",
   "metadata": {},
   "source": [
    "start() & end()\n",
    "\n",
    "These expressions return the indices of the start and end of the substring matched by the group.\n",
    "\n",
    "Code\n",
    "\n",
    ">>> import re\n",
    ">>> m = re.search(r'\\d+','1234')\n",
    ">>> m.end()\n",
    "4\n",
    ">>> m.start()\n",
    "0\n"
   ]
  },
  {
   "cell_type": "code",
   "execution_count": 6,
   "id": "b085bf26",
   "metadata": {},
   "outputs": [
    {
     "name": "stdout",
     "output_type": "stream",
     "text": [
      "<re.Match object; span=(0, 1), match='1'>\n"
     ]
    }
   ],
   "source": [
    "import re\n",
    "m = re.search(r'1+','1234')\n",
    "print(m)"
   ]
  },
  {
   "cell_type": "code",
   "execution_count": null,
   "id": "4716e6d7",
   "metadata": {},
   "outputs": [],
   "source": [
    "import re\n",
    "\n",
    "s = input()\n",
    "k = input()\n",
    "pattern = re.escape(k)  # Escape special characters in k\n",
    "lis = []\n",
    "i = 0\n",
    "\n",
    "while i < len(s):\n",
    "    m = re.search(pattern, s[i:])\n",
    "    if m:\n",
    "        start_position = m.start() + i\n",
    "        end_position = m.end() + i - 1\n",
    "        lis.append((start_position, end_position))\n",
    "        i = m.start() + i + 1  # Update i to search for new occurrences after the current match\n",
    "    else:\n",
    "        break\n",
    "\n",
    "if lis:\n",
    "    for i in lis:\n",
    "        print(i)\n",
    "else:\n",
    "    print(\"(-1, -1)\")  # Print (-1, -1) if no occurrences are found\n"
   ]
  },
  {
   "cell_type": "code",
   "execution_count": null,
   "id": "7c073d62",
   "metadata": {},
   "outputs": [],
   "source": []
  }
 ],
 "metadata": {
  "kernelspec": {
   "display_name": "Python 3 (ipykernel)",
   "language": "python",
   "name": "python3"
  },
  "language_info": {
   "codemirror_mode": {
    "name": "ipython",
    "version": 3
   },
   "file_extension": ".py",
   "mimetype": "text/x-python",
   "name": "python",
   "nbconvert_exporter": "python",
   "pygments_lexer": "ipython3",
   "version": "3.11.5"
  }
 },
 "nbformat": 4,
 "nbformat_minor": 5
}
