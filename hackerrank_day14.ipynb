{
 "cells": [
  {
   "cell_type": "code",
   "execution_count": null,
   "id": "014a46f7",
   "metadata": {},
   "outputs": [],
   "source": [
    "# Enter your code here. Read input from STDIN. Print output to STDOUT\n",
    "from collections import deque\n",
    "\n",
    "t = int(input())\n",
    "for i in range(t):\n",
    "    n = int(input())\n",
    "    cube = deque(map(int,input().split()))\n",
    "    out = 'Yes'\n",
    "    if cube[0] > cube[-1]:\n",
    "        curr  = cube[0]\n",
    "        cube.popleft()\n",
    "    elif cube[0] < cube[-1]:\n",
    "        curr = cube[-1]\n",
    "        cube.pop()\n",
    "    elif cube[0] == cube[-1]:\n",
    "        curr = cube[0]\n",
    "        if len(cube) >=2:\n",
    "            cube.pop()\n",
    "            cube.popleft()\n",
    "        else:\n",
    "            cube.pop()\n",
    "        \n",
    "    while len(cube) > 0:\n",
    "        if cube[0] <= curr and cube[-1] <= curr:\n",
    "            if cube[0] > cube[-1]:\n",
    "                curr = cube[0]\n",
    "                cube.popleft()\n",
    "            elif cube[-1] > cube[0]:\n",
    "                curr = cube[-1]\n",
    "                cube.pop()\n",
    "            elif cube[-1] == cube[0]:\n",
    "                curr = cube[0]\n",
    "                if len(cube) >=2:\n",
    "                    cube.pop()\n",
    "                    cube.popleft()\n",
    "                else:\n",
    "                    cube.pop()\n",
    "                \n",
    "        elif cube[0] > curr and cube[-1] < curr:\n",
    "            curr = cube[-1]\n",
    "            cube.pop()\n",
    "        elif cube[0] < curr and cube[-1] > curr:\n",
    "            curr = cube[0]\n",
    "            cube.popleft()\n",
    "            \n",
    "        elif cube[0] > curr and cube[-1] > curr:\n",
    "            out = 'No'\n",
    "            break\n",
    "    print(out)   \n"
   ]
  },
  {
   "cell_type": "code",
   "execution_count": 2,
   "id": "0769bfe6",
   "metadata": {},
   "outputs": [
    {
     "name": "stdout",
     "output_type": "stream",
     "text": [
      "[1]\n"
     ]
    }
   ],
   "source": [
    "print(list(range(1,2)))"
   ]
  },
  {
   "cell_type": "code",
   "execution_count": 3,
   "id": "33cae371",
   "metadata": {},
   "outputs": [
    {
     "name": "stdout",
     "output_type": "stream",
     "text": [
      "5\n",
      "1\n",
      "1 2 1\n",
      "1 2 3 2 1\n",
      "1 2 3 4 3 2 1\n",
      "1 2 3 4 5 4 3 2 1\n"
     ]
    }
   ],
   "source": [
    "\n",
    "for i in range(1,int(input())+1): #More than 2 lines will result in 0 score. Do not leave a blank line also\n",
    "    print(*range(1, i + 1), *range(i - 1, 0, -1))"
   ]
  },
  {
   "cell_type": "code",
   "execution_count": 5,
   "id": "c4918f9b",
   "metadata": {},
   "outputs": [
    {
     "name": "stdout",
     "output_type": "stream",
     "text": [
      "1\n"
     ]
    }
   ],
   "source": [
    "print(*range(1,2))"
   ]
  },
  {
   "cell_type": "code",
   "execution_count": 6,
   "id": "d7d3ea25",
   "metadata": {},
   "outputs": [
    {
     "name": "stdout",
     "output_type": "stream",
     "text": [
      "[1, 2, 3, 4, 5, 6, 7, 8, 9]\n"
     ]
    }
   ],
   "source": [
    "print(list(range(1,10)))"
   ]
  },
  {
   "cell_type": "code",
   "execution_count": 13,
   "id": "1591cdfe",
   "metadata": {},
   "outputs": [
    {
     "name": "stdout",
     "output_type": "stream",
     "text": [
      "1 2 3 4\n"
     ]
    }
   ],
   "source": [
    "a=[1,2,3,4]\n",
    "print(*a)"
   ]
  },
  {
   "cell_type": "code",
   "execution_count": 15,
   "id": "2b6424b6",
   "metadata": {},
   "outputs": [
    {
     "name": "stdout",
     "output_type": "stream",
     "text": [
      "12\n"
     ]
    }
   ],
   "source": [
    "a=1\n",
    "b=2\n",
    "print(a,b,sep=\"\")"
   ]
  },
  {
   "cell_type": "code",
   "execution_count": 17,
   "id": "a030b9a0",
   "metadata": {},
   "outputs": [
    {
     "name": "stdout",
     "output_type": "stream",
     "text": [
      "5\n",
      "1\n",
      "121\n",
      "12321\n",
      "1234321\n",
      "123454321\n"
     ]
    }
   ],
   "source": [
    "for i in range(1, int(input()) + 1): #mathematical way to print pascals triangle as numbers\n",
    "    print((10 ** i // 9) ** 2)"
   ]
  },
  {
   "cell_type": "code",
   "execution_count": null,
   "id": "e2d5a1a6",
   "metadata": {},
   "outputs": [],
   "source": []
  }
 ],
 "metadata": {
  "kernelspec": {
   "display_name": "Python 3 (ipykernel)",
   "language": "python",
   "name": "python3"
  },
  "language_info": {
   "codemirror_mode": {
    "name": "ipython",
    "version": 3
   },
   "file_extension": ".py",
   "mimetype": "text/x-python",
   "name": "python",
   "nbconvert_exporter": "python",
   "pygments_lexer": "ipython3",
   "version": "3.11.5"
  }
 },
 "nbformat": 4,
 "nbformat_minor": 5
}
