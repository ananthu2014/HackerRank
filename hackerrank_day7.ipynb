{
 "cells": [
  {
   "cell_type": "code",
   "execution_count": 13,
   "id": "4a9ec4b0",
   "metadata": {},
   "outputs": [
    {
     "name": "stdout",
     "output_type": "stream",
     "text": [
      "a : [('a', 1), ('a', 2)]\n",
      "b : [('b', 3), ('b', 4)]\n"
     ]
    }
   ],
   "source": [
    "# Python code to demonstrate \n",
    "# itertools.groupby() method \n",
    "\n",
    "\n",
    "import itertools \n",
    "\n",
    "\n",
    "L = [(\"a\", 1), (\"a\", 2), (\"b\", 3), (\"b\", 4)] \n",
    "\n",
    "# Key function \n",
    "key_func = lambda x: x[0] \n",
    "\n",
    "for key, group in itertools.groupby(L, key_func): \n",
    "\tprint(key + \" :\", list(group)) \n"
   ]
  },
  {
   "cell_type": "code",
   "execution_count": 18,
   "id": "52bb6313",
   "metadata": {},
   "outputs": [],
   "source": [
    "stri = '11112223344'\n",
    "lis=[]\n",
    "key_func = lambda x: x[0] '''It appears you've defined a lambda function named key_func that\n",
    "takes an argument x and returns the first element (x[0]).'''\n",
    "'''Make an iterator that returns consecutive keys and groups from the iterable. \n",
    "The key is a function computing a key value for each element. \n",
    "If not specified or is None, key defaults to an identity function and returns the element unchanged.\n",
    "Generally, the iterable needs to already be sorted on the same key function.'''\n",
    "for key, group in itertools.groupby(stri, key_func):\n",
    "    lis.append((len(list(group)),int(key)))\n",
    "    \n"
   ]
  },
  {
   "cell_type": "code",
   "execution_count": 19,
   "id": "0e3da946",
   "metadata": {},
   "outputs": [
    {
     "data": {
      "text/plain": [
       "[(4, 1), (3, 2), (2, 3), (2, 4)]"
      ]
     },
     "execution_count": 19,
     "metadata": {},
     "output_type": "execute_result"
    }
   ],
   "source": [
    "lis"
   ]
  },
  {
   "cell_type": "code",
   "execution_count": 16,
   "id": "b4229a59",
   "metadata": {},
   "outputs": [
    {
     "name": "stdout",
     "output_type": "stream",
     "text": [
      "(0, 1) (0, 2) (0, 3) (0, 4)\n"
     ]
    }
   ],
   "source": [
    "print(*lis)"
   ]
  },
  {
   "cell_type": "code",
   "execution_count": 21,
   "id": "40a3e0e1",
   "metadata": {},
   "outputs": [
    {
     "name": "stdout",
     "output_type": "stream",
     "text": [
      "0 1\n",
      "1 2\n",
      "2 3\n",
      "3 4\n",
      "4 5\n"
     ]
    }
   ],
   "source": [
    "lis = [1, 2, 3, 4, 5]\n",
    "\n",
    "for i, a in enumerate(lis):\n",
    "    print(i, a)\n"
   ]
  },
  {
   "cell_type": "code",
   "execution_count": 25,
   "id": "b6fd06d8",
   "metadata": {},
   "outputs": [
    {
     "name": "stdout",
     "output_type": "stream",
     "text": [
      "3\n",
      "1 2 3\n"
     ]
    }
   ],
   "source": [
    "n = int(input())\n",
    "y = set(list(map(int,input().split())))"
   ]
  },
  {
   "cell_type": "code",
   "execution_count": 26,
   "id": "70a89736",
   "metadata": {},
   "outputs": [
    {
     "data": {
      "text/plain": [
       "{1, 2, 3}"
      ]
     },
     "execution_count": 26,
     "metadata": {},
     "output_type": "execute_result"
    }
   ],
   "source": [
    "y"
   ]
  },
  {
   "cell_type": "code",
   "execution_count": 30,
   "id": "cab91d35",
   "metadata": {},
   "outputs": [
    {
     "name": "stdout",
     "output_type": "stream",
     "text": [
      "4\n",
      "1 2 3 4\n",
      "5\n",
      "1 2 \n",
      "2 3 \n",
      "3 4\n",
      "4 5\n",
      "5 6\n"
     ]
    }
   ],
   "source": [
    "from collections import Counter\n",
    "x=int(input())\n",
    "y = list(map(int,input().split()))\n",
    "n = int(input())\n",
    "dict1={}\n",
    "for i in range(n):\n",
    "    dict1[i] =  list(map(int,input().split()))"
   ]
  },
  {
   "cell_type": "code",
   "execution_count": 31,
   "id": "8686323b",
   "metadata": {},
   "outputs": [
    {
     "data": {
      "text/plain": [
       "{0: [1, 2], 1: [2, 3], 2: [3, 4], 3: [4, 5], 4: [5, 6]}"
      ]
     },
     "execution_count": 31,
     "metadata": {},
     "output_type": "execute_result"
    }
   ],
   "source": [
    "dict1"
   ]
  },
  {
   "cell_type": "code",
   "execution_count": null,
   "id": "110ee2e1",
   "metadata": {},
   "outputs": [],
   "source": [
    "# Enter your code here. Read input from STDIN. Print output to STDOUT\n",
    "from collections import Counter\n",
    "x=int(input())\n",
    "y = list(map(int,input().split()))\n",
    "z = Counter(y)\n",
    "n = int(input())\n",
    "dict1={}\n",
    "for i in range(n):\n",
    "    dict1[i] =  list(map(int,input().split()))\n",
    "earning = 0\n",
    "for i in dict1.values():\n",
    "    if i[0] in z.keys():\n",
    "        if z[i[0]] > 0:\n",
    "            earning = earning + i[1]\n",
    "            z[i[0]] = z[i[0]] - 1\n",
    "print(earning)"
   ]
  },
  {
   "cell_type": "code",
   "execution_count": 35,
   "id": "c0dc8837",
   "metadata": {},
   "outputs": [
    {
     "name": "stdout",
     "output_type": "stream",
     "text": [
      "1 2\n"
     ]
    }
   ],
   "source": [
    "import cmath\n",
    "a = list(map(int,input().split()))"
   ]
  },
  {
   "cell_type": "code",
   "execution_count": 36,
   "id": "ef032b28",
   "metadata": {},
   "outputs": [
    {
     "data": {
      "text/plain": [
       "[1, 2]"
      ]
     },
     "execution_count": 36,
     "metadata": {},
     "output_type": "execute_result"
    }
   ],
   "source": [
    "a"
   ]
  },
  {
   "cell_type": "code",
   "execution_count": 38,
   "id": "a6bc5da2",
   "metadata": {},
   "outputs": [],
   "source": [
    "a = complex(a[0],a[1])"
   ]
  },
  {
   "cell_type": "code",
   "execution_count": 39,
   "id": "2199a6a7",
   "metadata": {},
   "outputs": [
    {
     "data": {
      "text/plain": [
       "(1+2j)"
      ]
     },
     "execution_count": 39,
     "metadata": {},
     "output_type": "execute_result"
    }
   ],
   "source": [
    "a"
   ]
  },
  {
   "cell_type": "code",
   "execution_count": 40,
   "id": "932e7413",
   "metadata": {},
   "outputs": [],
   "source": [
    "k = cmath.polar(a)"
   ]
  },
  {
   "cell_type": "code",
   "execution_count": 41,
   "id": "91938f68",
   "metadata": {},
   "outputs": [
    {
     "data": {
      "text/plain": [
       "(2.23606797749979, 1.1071487177940904)"
      ]
     },
     "execution_count": 41,
     "metadata": {},
     "output_type": "execute_result"
    }
   ],
   "source": [
    "k"
   ]
  },
  {
   "cell_type": "code",
   "execution_count": 42,
   "id": "21670f47",
   "metadata": {},
   "outputs": [
    {
     "name": "stdout",
     "output_type": "stream",
     "text": [
      "1 2\n",
      "2.23606797749979\n",
      "1.1071487177940904\n"
     ]
    }
   ],
   "source": [
    "# Enter your code here. Read input from STDIN. Print output to STDOUT\n",
    "import cmath\n",
    "a = list(map(int,input().split()))\n",
    "comp = complex(a[0],a[1])\n",
    "pol = cmath.polar(comp)\n",
    "for i in pol:\n",
    "    print(i)"
   ]
  },
  {
   "cell_type": "code",
   "execution_count": 43,
   "id": "f390961f",
   "metadata": {},
   "outputs": [
    {
     "name": "stdout",
     "output_type": "stream",
     "text": [
      "1+2j\n",
      "2.23606797749979\n",
      "1.1071487177940904\n"
     ]
    }
   ],
   "source": [
    "import cmath\n",
    "\n",
    "# Read a single line of input representing a complex number\n",
    "input_string = input()\n",
    "comp = complex(input_string)  # Convert the input string to a complex number\n",
    "\n",
    "# Convert the complex number to polar coordinates\n",
    "pol = cmath.polar(comp)\n",
    "\n",
    "# Print the magnitude and phase of the complex number\n",
    "for i in pol:\n",
    "    print(i)"
   ]
  },
  {
   "cell_type": "code",
   "execution_count": null,
   "id": "bf14a308",
   "metadata": {},
   "outputs": [],
   "source": [
    "# Enter your code here. Read input from STDIN. Print output to STDOUT\n",
    "a= int(input())\n",
    "b = set(map(int,input().split()))\n",
    "c = int(input())\n",
    "d = set(map(int,input().split()))\n",
    "lis=[]\n",
    "e = b.union(d)\n",
    "f = b.intersection(d)\n",
    "g = e.difference(f)\n",
    "g = sorted(g)\n",
    "for i in g:\n",
    "    print(i)"
   ]
  },
  {
   "cell_type": "code",
   "execution_count": null,
   "id": "1f0d2001",
   "metadata": {},
   "outputs": [],
   "source": [
    "# Enter your code here. Read input from STDIN. Print output to STDOUT\n",
    "a= int(input())\n",
    "b = set(map(int,input().split()))\n",
    "c = int(input())\n",
    "d = set(map(int,input().split()))\n",
    "e = b.intersection(d)\n",
    "print(len(e))"
   ]
  }
 ],
 "metadata": {
  "kernelspec": {
   "display_name": "Python 3 (ipykernel)",
   "language": "python",
   "name": "python3"
  },
  "language_info": {
   "codemirror_mode": {
    "name": "ipython",
    "version": 3
   },
   "file_extension": ".py",
   "mimetype": "text/x-python",
   "name": "python",
   "nbconvert_exporter": "python",
   "pygments_lexer": "ipython3",
   "version": "3.11.5"
  }
 },
 "nbformat": 4,
 "nbformat_minor": 5
}
