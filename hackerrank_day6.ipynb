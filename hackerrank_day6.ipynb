{
 "cells": [
  {
   "cell_type": "code",
   "execution_count": 2,
   "id": "0f211670",
   "metadata": {},
   "outputs": [
    {
     "name": "stdout",
     "output_type": "stream",
     "text": [
      "5\n",
      "a\n",
      "b\n",
      "c\n",
      "d\n",
      "e\n"
     ]
    }
   ],
   "source": [
    "if __name__ == '__main__':\n",
    "    n = int(input())\n",
    "    lis = []\n",
    "    for i in range(n):\n",
    "        lis.append(input())"
   ]
  },
  {
   "cell_type": "code",
   "execution_count": 3,
   "id": "f52e8acf",
   "metadata": {},
   "outputs": [
    {
     "data": {
      "text/plain": [
       "['a', 'b', 'c', 'd', 'e']"
      ]
     },
     "execution_count": 3,
     "metadata": {},
     "output_type": "execute_result"
    }
   ],
   "source": [
    "lis"
   ]
  },
  {
   "cell_type": "code",
   "execution_count": null,
   "id": "d0eec21a",
   "metadata": {},
   "outputs": [],
   "source": [
    "if __name__ == '__main__':\n",
    "    n = int(input())\n",
    "    lis = []\n",
    "    final=[]\n",
    "    for i in range(n):\n",
    "        lis.append(input())\n",
    "        \n",
    "    for i in range(n):\n",
    "        if 'insert' in lis[i]:\n",
    "            temp = lis[i].split(' ')\n",
    "            final.insert(int(temp[1]),int(temp[2]))\n",
    "        elif 'print' in lis[i]:\n",
    "            print(final)\n",
    "        elif 'remove' in lis[i]:\n",
    "            temp = lis[i].split(' ')\n",
    "            final.remove(int(temp[1]))\n",
    "        elif 'append' in lis[i]:\n",
    "            temp = lis[i].split(' ')\n",
    "            final.append(int(temp[1]))\n",
    "        elif 'sort' in lis[i]:\n",
    "            final.sort()\n",
    "        elif 'pop' in lis[i]:\n",
    "            final.pop(-1)\n",
    "        elif 'reverse' in lis[i]:\n",
    "            final = final[::-1]"
   ]
  },
  {
   "cell_type": "code",
   "execution_count": 4,
   "id": "2071af3c",
   "metadata": {},
   "outputs": [
    {
     "name": "stdout",
     "output_type": "stream",
     "text": [
      "HelloPythonWorld\n"
     ]
    }
   ],
   "source": [
    "original_string = \"HelloWorld\"\n",
    "insert_string = \"Python\"\n",
    "index = 5  # Suppose we want to insert at index 5\n",
    "\n",
    "# Using an f-string for Python 3.6+\n",
    "new_string = f\"{original_string[:index]}{insert_string}{original_string[index:]}\"\n",
    "\n",
    "print(new_string)  # Output: 'HelloPythonWorld'\n"
   ]
  },
  {
   "cell_type": "code",
   "execution_count": 5,
   "id": "69a88fb2",
   "metadata": {},
   "outputs": [
    {
     "name": "stdout",
     "output_type": "stream",
     "text": [
      "HelloPythonWorld\n"
     ]
    }
   ],
   "source": [
    "original_string = \"HelloWorld\"\n",
    "insert_string = \"Python\"\n",
    "\n",
    "# Splitting the original string and inserting the new string\n",
    "parts = [original_string[:5], original_string[5:]]\n",
    "new_string = insert_string.join(parts) #here, insertstring is added between every two elements of the list parts. but as there\n",
    "#are only two elements in it, we get this kind of output.\n",
    "\n",
    "print(new_string)  # Output: 'HelloPythonWorld'\n"
   ]
  },
  {
   "cell_type": "code",
   "execution_count": 6,
   "id": "29bca64c",
   "metadata": {},
   "outputs": [
    {
     "name": "stdout",
     "output_type": "stream",
     "text": [
      "['Hello', 'World']\n"
     ]
    }
   ],
   "source": [
    "print(parts)"
   ]
  },
  {
   "cell_type": "code",
   "execution_count": 7,
   "id": "75884ca8",
   "metadata": {},
   "outputs": [
    {
     "name": "stdout",
     "output_type": "stream",
     "text": [
      "adbdc\n"
     ]
    }
   ],
   "source": [
    "lis=['a','b','c']\n",
    "new = 'd'.join(lis)#here d will be inserted between ab and bc to make it adbdc(see the output)\n",
    "print(new)"
   ]
  },
  {
   "cell_type": "code",
   "execution_count": 9,
   "id": "fc84d2b3",
   "metadata": {},
   "outputs": [
    {
     "name": "stdout",
     "output_type": "stream",
     "text": [
      "5\n",
      "1 2 2 3 4\n",
      "2.5\n"
     ]
    }
   ],
   "source": [
    "'''take the average of unique elements in the given array'''\n",
    "def average(array):\n",
    "    array = set(array)\n",
    "    sum = 0\n",
    "    for i in array:\n",
    "        sum += i\n",
    "    return sum/len(array)\n",
    "if __name__ == '__main__':\n",
    "    n = int(input())\n",
    "    arr = list(map(int, input().split()))\n",
    "    result = average(arr)\n",
    "    print(result)"
   ]
  },
  {
   "cell_type": "code",
   "execution_count": 34,
   "id": "f6f6ba9d",
   "metadata": {},
   "outputs": [
    {
     "name": "stdout",
     "output_type": "stream",
     "text": [
      "20 60\n",
      "----------------------------.|.----------------------------\n",
      "-------------------------.|..|..|.-------------------------\n",
      "----------------------.|..|..|..|..|.----------------------\n",
      "-------------------.|..|..|..|..|..|..|.-------------------\n",
      "----------------.|..|..|..|..|..|..|..|..|.----------------\n",
      "-------------.|..|..|..|..|..|..|..|..|..|..|.-------------\n",
      "----------.|..|..|..|..|..|..|..|..|..|..|..|..|.----------\n",
      "-------.|..|..|..|..|..|..|..|..|..|..|..|..|..|..|.-------\n",
      "----.|..|..|..|..|..|..|..|..|..|..|..|..|..|..|..|..|.----\n",
      "--------------------------WELCOME--------------------------\n",
      "---.|..|..|..|..|..|..|..|..|..|..|..|..|..|..|..|..|..|.---\n",
      "------.|..|..|..|..|..|..|..|..|..|..|..|..|..|..|..|.------\n",
      "---------.|..|..|..|..|..|..|..|..|..|..|..|..|..|.---------\n",
      "------------.|..|..|..|..|..|..|..|..|..|..|..|.------------\n",
      "---------------.|..|..|..|..|..|..|..|..|..|.---------------\n",
      "------------------.|..|..|..|..|..|..|..|.------------------\n",
      "---------------------.|..|..|..|..|..|.---------------------\n",
      "------------------------.|..|..|..|.------------------------\n",
      "---------------------------.|..|.---------------------------\n"
     ]
    }
   ],
   "source": [
    "# Enter your code here. Read input from STDIN. Print output to STDOUT\n",
    "nm = list(map(int,input().split()))\n",
    "n = nm[0]\n",
    "m = nm[1]\n",
    "for i in range((n-1)//2):\n",
    "    for j in range((m - 3)//2 - 3*i):\n",
    "        print('-',end='')\n",
    "    for j in range(2*i +1):\n",
    "        print('.|.',end='')\n",
    "    for j in range((m - 3)//2 - 3*i):\n",
    "        print('-',end='')\n",
    "    print()\n",
    "num = (m-7)//2\n",
    "mid = ''.join(['-']*(num)) + 'WELCOME' + ''.join(['-']*num)\n",
    "print(mid)\n",
    "\n",
    "for i in range((n-1)//2):\n",
    "    for j in range(3*(i+1)):\n",
    "        print('-',end='')\n",
    "    for j in  range ((m-6*(i+1))//3):\n",
    "        print('.|.',end='')\n",
    "    for j in range(3*(i+1)):\n",
    "        print('-',end='')\n",
    "    print()\n",
    "    \n"
   ]
  },
  {
   "cell_type": "code",
   "execution_count": 24,
   "id": "406ec535",
   "metadata": {},
   "outputs": [],
   "source": [
    "a=['-']*7"
   ]
  },
  {
   "cell_type": "code",
   "execution_count": 25,
   "id": "e398b7bf",
   "metadata": {},
   "outputs": [
    {
     "name": "stdout",
     "output_type": "stream",
     "text": [
      "['-', '-', '-', '-', '-', '-', '-']\n"
     ]
    }
   ],
   "source": [
    "print(a)"
   ]
  },
  {
   "cell_type": "code",
   "execution_count": 35,
   "id": "62a4622c",
   "metadata": {},
   "outputs": [
    {
     "name": "stdout",
     "output_type": "stream",
     "text": [
      "7 21\n",
      "---------.|.---------\n",
      "------.|..|..|.------\n",
      "---.|..|..|..|..|.---\n",
      "-------WELCOME-------\n",
      "---.|..|..|..|..|.---\n",
      "------.|..|..|.------\n",
      "---------.|.---------\n"
     ]
    }
   ],
   "source": [
    "'''this is an easy method to create the doormat; '''\n",
    "'''The str.center(width, fillchar) method can be used to center-align a string within a specified width, \n",
    "padding it with a specified character.'''\n",
    "n, m = map(int, input().split())\n",
    "# Top Pattern\n",
    "for i in range(1, n, 2): \n",
    "    print(('.|.' * i).center(m, '-'))\n",
    "# Middle Welcome Line\n",
    "print('WELCOME'.center(m, '-'))\n",
    "# Bottom Pattern\n",
    "for i in range(n-2, -1, -2): \n",
    "    print(('.|.' * i).center(m, '-'))\n"
   ]
  },
  {
   "cell_type": "code",
   "execution_count": 40,
   "id": "31c4bc31",
   "metadata": {},
   "outputs": [],
   "source": [
    "a= 'ananth'\n",
    "b = a.center(22,'-')"
   ]
  },
  {
   "cell_type": "code",
   "execution_count": 41,
   "id": "0df6bdbb",
   "metadata": {},
   "outputs": [
    {
     "name": "stdout",
     "output_type": "stream",
     "text": [
      "--------ananth--------\n"
     ]
    }
   ],
   "source": [
    "print(b)"
   ]
  },
  {
   "cell_type": "code",
   "execution_count": 44,
   "id": "d8e577a1",
   "metadata": {},
   "outputs": [
    {
     "name": "stdout",
     "output_type": "stream",
     "text": [
      "------.|..|..|..|..|..|.------\n"
     ]
    }
   ],
   "source": [
    "print(('.|.' * 6).center(30, '-'))"
   ]
  },
  {
   "cell_type": "code",
   "execution_count": 46,
   "id": "eb35651d",
   "metadata": {},
   "outputs": [
    {
     "name": "stdout",
     "output_type": "stream",
     "text": [
      ".|..|..|..|..|..|.\n"
     ]
    }
   ],
   "source": [
    "print(('.|.' * 6))"
   ]
  },
  {
   "cell_type": "code",
   "execution_count": 56,
   "id": "d2de477e",
   "metadata": {},
   "outputs": [
    {
     "name": "stdout",
     "output_type": "stream",
     "text": [
      "aaaaaa\n",
      "['a', 'a', 'a', 'a', 'a', 'a']\n",
      "[['a', 'a', 'a', 'a', 'a', 'a'], ['a', 'a', 'a', 'a', 'a', 'a'], ['a', 'a', 'a', 'a', 'a', 'a'], ['a', 'a', 'a', 'a', 'a', 'a'], ['a', 'a', 'a', 'a', 'a', 'a'], ['a', 'a', 'a', 'a', 'a', 'a']]\n"
     ]
    }
   ],
   "source": [
    "s = 'a'*6\n",
    "print(s)\n",
    "s = ['a']*6\n",
    "print(s)\n",
    "print([s]*6)"
   ]
  },
  {
   "cell_type": "code",
   "execution_count": 52,
   "id": "d928fc34",
   "metadata": {},
   "outputs": [
    {
     "name": "stdout",
     "output_type": "stream",
     "text": [
      "[['a', 'a', 'a', 'a', 'a', 'a']]\n"
     ]
    }
   ],
   "source": [
    "s=[]\n",
    "s.append(['a']*6)\n",
    "print(s)"
   ]
  },
  {
   "cell_type": "code",
   "execution_count": 54,
   "id": "91346289",
   "metadata": {},
   "outputs": [
    {
     "name": "stdout",
     "output_type": "stream",
     "text": [
      "[['a'], ['a'], ['a'], ['a'], ['a'], ['a']]\n"
     ]
    }
   ],
   "source": [
    "s=[]\n",
    "s.append(['a'])\n",
    "print(s*6)\n"
   ]
  },
  {
   "cell_type": "code",
   "execution_count": 58,
   "id": "76bedae6",
   "metadata": {},
   "outputs": [
    {
     "name": "stdout",
     "output_type": "stream",
     "text": [
      "[['a'], ['a'], ['a'], ['a'], ['a'], ['a']]\n"
     ]
    }
   ],
   "source": [
    "s=[]\n",
    "s.append('a')\n",
    "print([s]*6)"
   ]
  },
  {
   "cell_type": "code",
   "execution_count": 59,
   "id": "89fa7b90",
   "metadata": {},
   "outputs": [
    {
     "name": "stdout",
     "output_type": "stream",
     "text": [
      "[[['a']], [['a']], [['a']], [['a']], [['a']], [['a']]]\n"
     ]
    }
   ],
   "source": [
    "s=[]\n",
    "s.append(['a'])\n",
    "print([s]*6)"
   ]
  },
  {
   "cell_type": "code",
   "execution_count": 61,
   "id": "bcbfaf18",
   "metadata": {},
   "outputs": [
    {
     "name": "stdout",
     "output_type": "stream",
     "text": [
      "5\n",
      "a\n",
      "b\n",
      "c\n",
      "d\n",
      "a\n",
      "4\n"
     ]
    }
   ],
   "source": [
    "'''finding the number of unique elements'''\n",
    "# Enter your code here. Read input from STDIN. Print output to STDOUT\n",
    "n = int(input())\n",
    "a=[]\n",
    "for i in range(n):\n",
    "    a.append(input())\n",
    "a = set(a)\n",
    "print(len(a))"
   ]
  },
  {
   "cell_type": "code",
   "execution_count": 69,
   "id": "e31635c3",
   "metadata": {},
   "outputs": [
    {
     "name": "stdout",
     "output_type": "stream",
     "text": [
      "3\n",
      "1 2 3\n",
      "4\n",
      "2 3 4 5\n",
      "5\n"
     ]
    }
   ],
   "source": [
    "''' A single set contains values of any immutable data type.'''\n",
    "#finding the union of two sets using .union() function\n",
    "n = int(input())\n",
    "y = set(list(map(int,input().split())))\n",
    "b = int(input())\n",
    "z = set(list(map(int,input().split())))\n",
    "print(len(y.union(z)))"
   ]
  },
  {
   "cell_type": "code",
   "execution_count": 70,
   "id": "4576e4bb",
   "metadata": {},
   "outputs": [
    {
     "name": "stdout",
     "output_type": "stream",
     "text": [
      "{1, 2, 3}\n",
      "{2, 3, 4, 5}\n"
     ]
    }
   ],
   "source": [
    "print(y)\n",
    "print(z)"
   ]
  },
  {
   "cell_type": "code",
   "execution_count": 71,
   "id": "7d3699fa",
   "metadata": {},
   "outputs": [
    {
     "name": "stdout",
     "output_type": "stream",
     "text": [
      "{1, 2, 3}\n"
     ]
    }
   ],
   "source": [
    "print(set(y))"
   ]
  },
  {
   "cell_type": "code",
   "execution_count": 72,
   "id": "f3bbe68a",
   "metadata": {},
   "outputs": [
    {
     "name": "stdout",
     "output_type": "stream",
     "text": [
      "{1, 2, 3, 4, 5}\n"
     ]
    }
   ],
   "source": [
    "print(y.union(z))"
   ]
  },
  {
   "cell_type": "code",
   "execution_count": null,
   "id": "071d3042",
   "metadata": {},
   "outputs": [],
   "source": []
  }
 ],
 "metadata": {
  "kernelspec": {
   "display_name": "Python 3 (ipykernel)",
   "language": "python",
   "name": "python3"
  },
  "language_info": {
   "codemirror_mode": {
    "name": "ipython",
    "version": 3
   },
   "file_extension": ".py",
   "mimetype": "text/x-python",
   "name": "python",
   "nbconvert_exporter": "python",
   "pygments_lexer": "ipython3",
   "version": "3.11.5"
  }
 },
 "nbformat": 4,
 "nbformat_minor": 5
}
