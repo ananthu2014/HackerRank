{
 "cells": [
  {
   "cell_type": "code",
   "execution_count": 3,
   "id": "36d21727",
   "metadata": {},
   "outputs": [
    {
     "name": "stdout",
     "output_type": "stream",
     "text": [
      "defaultdict(<class 'list'>, {})\n",
      "('python', ['awesome', 'language'])\n",
      "('something-else', ['not relevant'])\n"
     ]
    }
   ],
   "source": [
    "'''The defaultdict tool is a container in the collections class of Python. It's similar to the usual dictionary (dict) container, \n",
    "but the only difference is that a defaultdict will have a default value if that key has not been set yet.\n",
    "If you didn't use a defaultdict you'd have to check to see if that key exists, and if it doesn't, \n",
    "set it to what you want.'''\n",
    "from collections import defaultdict\n",
    "d = defaultdict(list)\n",
    "print(d)\n",
    "d['python'].append(\"awesome\")\n",
    "d['something-else'].append(\"not relevant\")\n",
    "d['python'].append(\"language\")\n",
    "for i in d.items():\n",
    "    print(i)"
   ]
  },
  {
   "cell_type": "code",
   "execution_count": 4,
   "id": "83039be8",
   "metadata": {},
   "outputs": [],
   "source": [
    "a=defaultdict()"
   ]
  },
  {
   "cell_type": "code",
   "execution_count": 5,
   "id": "6d44631b",
   "metadata": {},
   "outputs": [
    {
     "name": "stdout",
     "output_type": "stream",
     "text": [
      "defaultdict(None, {})\n"
     ]
    }
   ],
   "source": [
    "print(a)"
   ]
  },
  {
   "cell_type": "code",
   "execution_count": 6,
   "id": "13244c12",
   "metadata": {},
   "outputs": [],
   "source": [
    "a['i'] = 2"
   ]
  },
  {
   "cell_type": "code",
   "execution_count": 7,
   "id": "c52d6a98",
   "metadata": {},
   "outputs": [
    {
     "name": "stdout",
     "output_type": "stream",
     "text": [
      "defaultdict(None, {'i': 2})\n"
     ]
    }
   ],
   "source": [
    "print(a)"
   ]
  },
  {
   "cell_type": "code",
   "execution_count": 8,
   "id": "63f228e7",
   "metadata": {},
   "outputs": [
    {
     "name": "stdout",
     "output_type": "stream",
     "text": [
      "('i', 2)\n"
     ]
    }
   ],
   "source": [
    "for i in a.items():\n",
    "    print(i)"
   ]
  },
  {
   "cell_type": "code",
   "execution_count": 9,
   "id": "8e8ea0fe",
   "metadata": {},
   "outputs": [
    {
     "name": "stdout",
     "output_type": "stream",
     "text": [
      "('i', 2)\n",
      "('j', 'k')\n"
     ]
    }
   ],
   "source": [
    "a['j'] = 'k'\n",
    "for i in a.items():\n",
    "    print(i)"
   ]
  },
  {
   "cell_type": "code",
   "execution_count": 10,
   "id": "7be34aab",
   "metadata": {},
   "outputs": [
    {
     "name": "stdout",
     "output_type": "stream",
     "text": [
      "2 3\n",
      "ananth\n",
      "aswani\n",
      "ramesh\n",
      "surr\n",
      "mekeef\n"
     ]
    }
   ],
   "source": [
    "from collections import defaultdict\n",
    "n,m = map(int,input().split())\n",
    "d = defaultdict(list)\n",
    "for i in range(n):\n",
    "    d['A'].append(input())\n",
    "for j in range(m):\n",
    "    d['B'].append(input())"
   ]
  },
  {
   "cell_type": "code",
   "execution_count": 11,
   "id": "f3bd0a52",
   "metadata": {},
   "outputs": [
    {
     "data": {
      "text/plain": [
       "defaultdict(list,\n",
       "            {'A': ['ananth', 'aswani'], 'B': ['ramesh', 'surr', 'mekeef']})"
      ]
     },
     "execution_count": 11,
     "metadata": {},
     "output_type": "execute_result"
    }
   ],
   "source": [
    "d"
   ]
  },
  {
   "cell_type": "code",
   "execution_count": 12,
   "id": "5498f764",
   "metadata": {},
   "outputs": [
    {
     "name": "stdout",
     "output_type": "stream",
     "text": [
      "0 1\n",
      "1 2\n",
      "2 3\n",
      "3 4\n"
     ]
    }
   ],
   "source": [
    "lis=[1,2,3,4]\n",
    "for i,j in enumerate(lis):\n",
    "    print(i,j)"
   ]
  },
  {
   "cell_type": "code",
   "execution_count": 13,
   "id": "93849ccf",
   "metadata": {},
   "outputs": [
    {
     "name": "stdout",
     "output_type": "stream",
     "text": [
      "2 3\n",
      "a\n",
      "b\n",
      "a\n",
      "1\n",
      "b\n",
      "2\n",
      "c\n",
      "-1\n"
     ]
    }
   ],
   "source": [
    "from collections import defaultdict\n",
    "\n",
    "n, m = map(int, input().split())\n",
    "d = defaultdict(list)\n",
    "\n",
    "# Store indices directly in the defaultdict\n",
    "for i in range(n):\n",
    "    element = input()\n",
    "    d[element].append(i + 1)\n",
    "\n",
    "# Process group B and output indices or -1\n",
    "for _ in range(m):\n",
    "    query = input()\n",
    "    if d[query]:\n",
    "        print(*d[query])\n",
    "    else:\n",
    "        print(-1)\n"
   ]
  },
  {
   "cell_type": "code",
   "execution_count": 14,
   "id": "9fbd302d",
   "metadata": {},
   "outputs": [
    {
     "name": "stdout",
     "output_type": "stream",
     "text": [
      "defaultdict(<class 'list'>, {'a': [1], 'b': [2], 'c': []})\n"
     ]
    }
   ],
   "source": [
    "print(d)"
   ]
  },
  {
   "cell_type": "code",
   "execution_count": 23,
   "id": "40530fee",
   "metadata": {},
   "outputs": [],
   "source": [
    "import calendar\n",
    "a=calendar.TextCalendar(['firstweekday'])"
   ]
  },
  {
   "cell_type": "code",
   "execution_count": 24,
   "id": "9e943676",
   "metadata": {},
   "outputs": [
    {
     "name": "stdout",
     "output_type": "stream",
     "text": [
      "<calendar.TextCalendar object at 0x00000253B9144BD0>\n"
     ]
    }
   ],
   "source": [
    "print(a)"
   ]
  },
  {
   "cell_type": "code",
   "execution_count": 29,
   "id": "c0b317e7",
   "metadata": {},
   "outputs": [
    {
     "name": "stdout",
     "output_type": "stream",
     "text": [
      "                                  2015\n",
      "\n",
      "      January                   February                   March\n",
      "Su Mo Tu We Th Fr Sa      Su Mo Tu We Th Fr Sa      Su Mo Tu We Th Fr Sa\n",
      "             1  2  3       1  2  3  4  5  6  7       1  2  3  4  5  6  7\n",
      " 4  5  6  7  8  9 10       8  9 10 11 12 13 14       8  9 10 11 12 13 14\n",
      "11 12 13 14 15 16 17      15 16 17 18 19 20 21      15 16 17 18 19 20 21\n",
      "18 19 20 21 22 23 24      22 23 24 25 26 27 28      22 23 24 25 26 27 28\n",
      "25 26 27 28 29 30 31                                29 30 31\n",
      "\n",
      "       April                      May                       June\n",
      "Su Mo Tu We Th Fr Sa      Su Mo Tu We Th Fr Sa      Su Mo Tu We Th Fr Sa\n",
      "          1  2  3  4                      1  2          1  2  3  4  5  6\n",
      " 5  6  7  8  9 10 11       3  4  5  6  7  8  9       7  8  9 10 11 12 13\n",
      "12 13 14 15 16 17 18      10 11 12 13 14 15 16      14 15 16 17 18 19 20\n",
      "19 20 21 22 23 24 25      17 18 19 20 21 22 23      21 22 23 24 25 26 27\n",
      "26 27 28 29 30            24 25 26 27 28 29 30      28 29 30\n",
      "                          31\n",
      "\n",
      "        July                     August                  September\n",
      "Su Mo Tu We Th Fr Sa      Su Mo Tu We Th Fr Sa      Su Mo Tu We Th Fr Sa\n",
      "          1  2  3  4                         1             1  2  3  4  5\n",
      " 5  6  7  8  9 10 11       2  3  4  5  6  7  8       6  7  8  9 10 11 12\n",
      "12 13 14 15 16 17 18       9 10 11 12 13 14 15      13 14 15 16 17 18 19\n",
      "19 20 21 22 23 24 25      16 17 18 19 20 21 22      20 21 22 23 24 25 26\n",
      "26 27 28 29 30 31         23 24 25 26 27 28 29      27 28 29 30\n",
      "                          30 31\n",
      "\n",
      "      October                   November                  December\n",
      "Su Mo Tu We Th Fr Sa      Su Mo Tu We Th Fr Sa      Su Mo Tu We Th Fr Sa\n",
      "             1  2  3       1  2  3  4  5  6  7             1  2  3  4  5\n",
      " 4  5  6  7  8  9 10       8  9 10 11 12 13 14       6  7  8  9 10 11 12\n",
      "11 12 13 14 15 16 17      15 16 17 18 19 20 21      13 14 15 16 17 18 19\n",
      "18 19 20 21 22 23 24      22 23 24 25 26 27 28      20 21 22 23 24 25 26\n",
      "25 26 27 28 29 30 31      29 30                     27 28 29 30 31\n",
      "\n"
     ]
    }
   ],
   "source": [
    "import calendar\n",
    "print(calendar.TextCalendar(firstweekday=6).formatyear(2015))"
   ]
  },
  {
   "cell_type": "code",
   "execution_count": null,
   "id": "b7fe2c3c",
   "metadata": {},
   "outputs": [],
   "source": [
    "# Enter your code here. Read input from STDIN. Print output to STDOUT\n",
    "import calendar\n",
    "m,d,y = map(int,input().split())\n",
    "a = calendar.weekday(y,m,d)\n",
    "b=['MONDAY','TUESDAY','WEDNESDAY','THURSDAY', \"FRIDAY\", \"SATURDAY\",'SUNDAY']\n",
    "c=[0,1,2,3,4,5,6]\n",
    "for i in range(len(c)):\n",
    "    if c[i] ==a:\n",
    "        print(b[i])"
   ]
  },
  {
   "cell_type": "code",
   "execution_count": null,
   "id": "fb55454b",
   "metadata": {},
   "outputs": [],
   "source": [
    "#better way by avoiding loop\n",
    "import calendar\n",
    "m,d,y = map(int,input().split())\n",
    "a = calendar.weekday(y,m,d)\n",
    "b=['MONDAY','TUESDAY','WEDNESDAY','THURSDAY', \"FRIDAY\", \"SATURDAY\",'SUNDAY']\n",
    "print(b[a])"
   ]
  },
  {
   "cell_type": "code",
   "execution_count": 30,
   "id": "73a65413",
   "metadata": {},
   "outputs": [
    {
     "data": {
      "text/plain": [
       "'Errors detected during execution are called exceptions.'"
      ]
     },
     "execution_count": 30,
     "metadata": {},
     "output_type": "execute_result"
    }
   ],
   "source": [
    "'''Errors detected during execution are called exceptions.'''\n",
    "''' The statements try and except can be used to handle selected exceptions.\n",
    "A try statement may have more than one except clause to specify handlers for different exceptions.'''"
   ]
  },
  {
   "cell_type": "code",
   "execution_count": 32,
   "id": "ee19f833",
   "metadata": {},
   "outputs": [
    {
     "name": "stdout",
     "output_type": "stream",
     "text": [
      "Error Code: division by zero\n"
     ]
    }
   ],
   "source": [
    "#Code\n",
    "try:\n",
    "    print (1/0)\n",
    "except ZeroDivisionError as e:\n",
    "    print (\"Error Code:\",e)"
   ]
  },
  {
   "cell_type": "code",
   "execution_count": 34,
   "id": "334de496",
   "metadata": {},
   "outputs": [
    {
     "name": "stdout",
     "output_type": "stream",
     "text": [
      "2\n",
      "1 0\n",
      "Error Code: division by zero\n",
      "1 2\n",
      "0.5\n"
     ]
    }
   ],
   "source": [
    "t = int(input()) #number of test cases\n",
    "for i in range(t):\n",
    "    a, b = map(int, input().split())\n",
    "    try:\n",
    "        print(a / b)\n",
    "    except ZeroDivisionError as e:\n",
    "        print(\"Error Code:\", e)\n"
   ]
  },
  {
   "cell_type": "code",
   "execution_count": null,
   "id": "f369951f",
   "metadata": {},
   "outputs": [],
   "source": [
    "t = int(input()) #number of test cases\n",
    "for i in range(t):\n",
    "    a, b = input().split()\n",
    "    try:\n",
    "        ans  = int(a)/int(b)\n",
    "        print(int(ans))\n",
    "    except ZeroDivisionError as e:\n",
    "        print(\"Error Code:\", 'integer division or modulo by zero')\n",
    "    except ValueError as e:\n",
    "        print('Error Code:',e)"
   ]
  },
  {
   "cell_type": "code",
   "execution_count": 35,
   "id": "3f1c942d",
   "metadata": {},
   "outputs": [
    {
     "name": "stdout",
     "output_type": "stream",
     "text": [
      "1\n"
     ]
    }
   ],
   "source": [
    "a=(1,2,3)b=[0]\n",
    "print(a[0])"
   ]
  },
  {
   "cell_type": "code",
   "execution_count": 36,
   "id": "3b6a6447",
   "metadata": {},
   "outputs": [],
   "source": [
    "b=a[0]"
   ]
  },
  {
   "cell_type": "code",
   "execution_count": 37,
   "id": "a5540b52",
   "metadata": {},
   "outputs": [
    {
     "name": "stdout",
     "output_type": "stream",
     "text": [
      "1\n"
     ]
    }
   ],
   "source": [
    "print(b)"
   ]
  },
  {
   "cell_type": "code",
   "execution_count": 38,
   "id": "28ad6d09",
   "metadata": {},
   "outputs": [],
   "source": [
    "a=a[0]"
   ]
  },
  {
   "cell_type": "code",
   "execution_count": 40,
   "id": "825e9ec8",
   "metadata": {},
   "outputs": [
    {
     "name": "stdout",
     "output_type": "stream",
     "text": [
      "1\n"
     ]
    }
   ],
   "source": [
    "print(a)"
   ]
  },
  {
   "cell_type": "code",
   "execution_count": 53,
   "id": "2172ba7b",
   "metadata": {},
   "outputs": [
    {
     "name": "stdout",
     "output_type": "stream",
     "text": [
      "11\n"
     ]
    }
   ],
   "source": [
    "from collections import namedtuple\n",
    "Point = namedtuple('Point','x,y')\n",
    "pt1 = Point(1,2)\n",
    "pt2 = Point(3,4)\n",
    "dot_product = ( pt1.x * pt2.x ) +( pt1.y * pt2.y )\n",
    "print(dot_product)"
   ]
  },
  {
   "cell_type": "code",
   "execution_count": null,
   "id": "6f557c8f",
   "metadata": {},
   "outputs": [],
   "source": [
    "'''Basically, namedtuples are easy to create, lightweight object types.\n",
    "They turn tuples into convenient containers for simple tasks.\n",
    "With namedtuples, you don’t have to use integer indices for accessing members of a tuple.'''"
   ]
  },
  {
   "cell_type": "code",
   "execution_count": 43,
   "id": "22553388",
   "metadata": {},
   "outputs": [],
   "source": [
    "from collections import namedtuple"
   ]
  },
  {
   "cell_type": "code",
   "execution_count": 54,
   "id": "6027622c",
   "metadata": {},
   "outputs": [],
   "source": [
    "nametup = namedtuple('nametup','a,b,c')\n",
    "name1 = nametup(1,2,3)"
   ]
  },
  {
   "cell_type": "code",
   "execution_count": 58,
   "id": "39d79135",
   "metadata": {},
   "outputs": [
    {
     "name": "stdout",
     "output_type": "stream",
     "text": [
      "1\n"
     ]
    }
   ],
   "source": [
    "print(name1.a)"
   ]
  },
  {
   "cell_type": "code",
   "execution_count": 63,
   "id": "1b173b58",
   "metadata": {},
   "outputs": [
    {
     "name": "stdout",
     "output_type": "stream",
     "text": [
      "4\n",
      "id marks name size\n"
     ]
    },
    {
     "ename": "ValueError",
     "evalue": "Type names and field names must be valid identifiers: 'col[0]'",
     "output_type": "error",
     "traceback": [
      "\u001b[1;31m---------------------------------------------------------------------------\u001b[0m",
      "\u001b[1;31mValueError\u001b[0m                                Traceback (most recent call last)",
      "Cell \u001b[1;32mIn[63], line 5\u001b[0m\n\u001b[0;32m      3\u001b[0m n \u001b[38;5;241m=\u001b[39m \u001b[38;5;28mint\u001b[39m(\u001b[38;5;28minput\u001b[39m())\n\u001b[0;32m      4\u001b[0m col \u001b[38;5;241m=\u001b[39m \u001b[38;5;28minput\u001b[39m()\u001b[38;5;241m.\u001b[39msplit()\n\u001b[1;32m----> 5\u001b[0m ans \u001b[38;5;241m=\u001b[39m namedtuple(\u001b[38;5;124m'\u001b[39m\u001b[38;5;124mans\u001b[39m\u001b[38;5;124m'\u001b[39m,\u001b[38;5;124m'\u001b[39m\u001b[38;5;124mcol[0],col[1],col[2],col[3]\u001b[39m\u001b[38;5;124m'\u001b[39m)\n",
      "File \u001b[1;32m~\\anaconda3\\Lib\\collections\\__init__.py:395\u001b[0m, in \u001b[0;36mnamedtuple\u001b[1;34m(typename, field_names, rename, defaults, module)\u001b[0m\n\u001b[0;32m    393\u001b[0m     \u001b[38;5;28;01mraise\u001b[39;00m \u001b[38;5;167;01mTypeError\u001b[39;00m(\u001b[38;5;124m'\u001b[39m\u001b[38;5;124mType names and field names must be strings\u001b[39m\u001b[38;5;124m'\u001b[39m)\n\u001b[0;32m    394\u001b[0m \u001b[38;5;28;01mif\u001b[39;00m \u001b[38;5;129;01mnot\u001b[39;00m name\u001b[38;5;241m.\u001b[39misidentifier():\n\u001b[1;32m--> 395\u001b[0m     \u001b[38;5;28;01mraise\u001b[39;00m \u001b[38;5;167;01mValueError\u001b[39;00m(\u001b[38;5;124m'\u001b[39m\u001b[38;5;124mType names and field names must be valid \u001b[39m\u001b[38;5;124m'\u001b[39m\n\u001b[0;32m    396\u001b[0m                      \u001b[38;5;124mf\u001b[39m\u001b[38;5;124m'\u001b[39m\u001b[38;5;124midentifiers: \u001b[39m\u001b[38;5;132;01m{\u001b[39;00mname\u001b[38;5;132;01m!r}\u001b[39;00m\u001b[38;5;124m'\u001b[39m)\n\u001b[0;32m    397\u001b[0m \u001b[38;5;28;01mif\u001b[39;00m _iskeyword(name):\n\u001b[0;32m    398\u001b[0m     \u001b[38;5;28;01mraise\u001b[39;00m \u001b[38;5;167;01mValueError\u001b[39;00m(\u001b[38;5;124m'\u001b[39m\u001b[38;5;124mType names and field names cannot be a \u001b[39m\u001b[38;5;124m'\u001b[39m\n\u001b[0;32m    399\u001b[0m                      \u001b[38;5;124mf\u001b[39m\u001b[38;5;124m'\u001b[39m\u001b[38;5;124mkeyword: \u001b[39m\u001b[38;5;132;01m{\u001b[39;00mname\u001b[38;5;132;01m!r}\u001b[39;00m\u001b[38;5;124m'\u001b[39m)\n",
      "\u001b[1;31mValueError\u001b[0m: Type names and field names must be valid identifiers: 'col[0]'"
     ]
    }
   ],
   "source": [
    "# Enter your code here. Read input from STDIN. Print output to STDOUT\n",
    "from collections import namedtuple\n",
    "n = int(input())\n",
    "col = input().split()\n",
    "ans = namedtuple('ans','col[0],col[1],col[2],col[3]')\n"
   ]
  },
  {
   "cell_type": "code",
   "execution_count": 64,
   "id": "f9257f79",
   "metadata": {},
   "outputs": [],
   "source": [
    "a= 'ananth ramesh suresh'\n",
    "ans = namedtuple('ans',a)"
   ]
  },
  {
   "cell_type": "code",
   "execution_count": 65,
   "id": "7998de33",
   "metadata": {},
   "outputs": [],
   "source": [
    "pt1 = ans(1,2,3)"
   ]
  },
  {
   "cell_type": "code",
   "execution_count": 66,
   "id": "a9ec4525",
   "metadata": {},
   "outputs": [
    {
     "name": "stdout",
     "output_type": "stream",
     "text": [
      "ans(ananth=1, ramesh=2, suresh=3)\n"
     ]
    }
   ],
   "source": [
    "print(pt1)"
   ]
  },
  {
   "cell_type": "code",
   "execution_count": 74,
   "id": "b269960f",
   "metadata": {},
   "outputs": [],
   "source": [
    "a=['1','2','3']\n",
    "pt2 = ans(*a)"
   ]
  },
  {
   "cell_type": "code",
   "execution_count": 75,
   "id": "8bb8d861",
   "metadata": {},
   "outputs": [
    {
     "data": {
      "text/plain": [
       "ans(ananth='1', ramesh='2', suresh='3')"
      ]
     },
     "execution_count": 75,
     "metadata": {},
     "output_type": "execute_result"
    }
   ],
   "source": [
    "pt2"
   ]
  },
  {
   "cell_type": "code",
   "execution_count": 77,
   "id": "fca78855",
   "metadata": {},
   "outputs": [
    {
     "data": {
      "text/plain": [
       "'1'"
      ]
     },
     "execution_count": 77,
     "metadata": {},
     "output_type": "execute_result"
    }
   ],
   "source": [
    "pt2.ananth"
   ]
  },
  {
   "cell_type": "code",
   "execution_count": null,
   "id": "5f1c4dcf",
   "metadata": {},
   "outputs": [],
   "source": [
    "# Enter your code here. Read input from STDIN. Print output to STDOUT\n",
    "from collections import namedtuple\n",
    "n = int(input())\n",
    "title = input()\n",
    "ans = namedtuple('ans',title)\n",
    "sum1 = 0\n",
    "for i in range(n):\n",
    "    inp  = input().split()\n",
    "    pt = ans(*inp)\n",
    "    sum1 = sum1 + int(pt.MARKS)\n",
    "\n",
    "average = sum1 / n\n",
    "print(f'{average:.2f}')"
   ]
  }
 ],
 "metadata": {
  "kernelspec": {
   "display_name": "Python 3 (ipykernel)",
   "language": "python",
   "name": "python3"
  },
  "language_info": {
   "codemirror_mode": {
    "name": "ipython",
    "version": 3
   },
   "file_extension": ".py",
   "mimetype": "text/x-python",
   "name": "python",
   "nbconvert_exporter": "python",
   "pygments_lexer": "ipython3",
   "version": "3.11.5"
  }
 },
 "nbformat": 4,
 "nbformat_minor": 5
}
