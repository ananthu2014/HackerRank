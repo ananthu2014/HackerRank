{
 "cells": [
  {
   "cell_type": "markdown",
   "id": "c6e92726",
   "metadata": {},
   "source": [
    "NOTE: In order to parse and generate an XML element tree, use the following code:\n",
    "\n",
    "import xml.etree.ElementTree as etree\n",
    "tree = etree.ElementTree(etree.fromstring(xml))\n",
    "\n",
    "XML is a generalized way of describing hierarchical structured data. An XML document contains one or more elements, which are delimited by start and end tags. This is a complete (albeit boring) XML document:\n",
    "'< foo>' ①\n",
    "#'< /foo>' ②\n",
    "\n",
    "①\tThis is the start tag of the foo element.\n",
    "②\tThis is the matching end tag of the foo element. Like balancing parentheses in writing or mathematics or code, every start tag must be closed (matched) by a corresponding end tag.\n",
    "The first element in every XML document is called the root element. An XML document can only have one root element.\n",
    "Elements can have attributes, which are name-value pairs. Attributes are listed within the start tag of an element and separated by whitespace. Attribute names can not be repeated within an element. Attribute values must be quoted. You may use either single or double quotes.\n",
    "If an element has more than one attribute, the ordering of the attributes is not significant. An element’s attributes form an unordered set of keys and values, like a Python dictionary. There is no limit to the number of attributes you can define on each element.\n",
    "Elements can have text content.\n",
    "Elements that contain no text and no children are empty.\n",
    "There is a shorthand for writing empty elements. By putting a / character in the start tag, you can skip the end tag altogther. The XML document in the previous example could be written like this instead:\n",
    "<foo/ > (space is for the display).\n"
   ]
  },
  {
   "cell_type": "code",
   "execution_count": null,
   "id": "2b79d65b",
   "metadata": {},
   "outputs": [],
   "source": [
    "'''print the score of an XML Document'''\n",
    "import sys\n",
    "import xml.etree.ElementTree as etree\n",
    "\n",
    "def get_attr_number(node):\n",
    "    attr = 0\n",
    "    if len(node) == 0:\n",
    "        return len(node.attrib)\n",
    "    for child in node:\n",
    "        attr += get_attr_number(child)\n",
    "    return attr+len(node.attrib)\n",
    "\n",
    "if __name__ == '__main__':\n",
    "    sys.stdin.readline()\n",
    "    xml = sys.stdin.read()\n",
    "    tree = etree.ElementTree(etree.fromstring(xml))\n",
    "    root = tree.getroot()\n",
    "    print(get_attr_number(root))"
   ]
  },
  {
   "cell_type": "code",
   "execution_count": null,
   "id": "b9b017f6",
   "metadata": {},
   "outputs": [],
   "source": [
    "# Enter your code here. Read input from STDIN. Print output to STDOUT\n",
    "import re\n",
    "\n",
    "t = int(input())\n",
    "for i in range(t):\n",
    "    uid = input()\n",
    "    if re.match(r'^[A-Za-z0-9]{10}$',uid):\n",
    "        a = True\n",
    "    else:\n",
    "        print('Invalid')\n",
    "        continue\n",
    "    up = sum(1 for c in uid if c.isupper())\n",
    "    dg = sum(1 for c in uid if c.isdigit())\n",
    "    \n",
    "    if up < 2 or dg < 3:\n",
    "        print('Invalid')\n",
    "        continue\n",
    "        \n",
    "    if len(set(uid)) != 10:\n",
    "        print('Invalid')\n",
    "        continue\n",
    "    print('Valid')"
   ]
  }
 ],
 "metadata": {
  "kernelspec": {
   "display_name": "Python 3 (ipykernel)",
   "language": "python",
   "name": "python3"
  },
  "language_info": {
   "codemirror_mode": {
    "name": "ipython",
    "version": 3
   },
   "file_extension": ".py",
   "mimetype": "text/x-python",
   "name": "python",
   "nbconvert_exporter": "python",
   "pygments_lexer": "ipython3",
   "version": "3.11.5"
  }
 },
 "nbformat": 4,
 "nbformat_minor": 5
}
