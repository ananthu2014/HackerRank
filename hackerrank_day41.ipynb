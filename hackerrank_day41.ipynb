{
 "cells": [
  {
   "cell_type": "code",
   "execution_count": null,
   "id": "8e5e7e55",
   "metadata": {},
   "outputs": [],
   "source": [
    "# Enter your code here. Read input from STDIN. Print output to STDOUT\n",
    "import numpy as np\n",
    "\n",
    "n = int(input())\n",
    "arr = np.array([[float(j) for j in input().split()] for _ in range(n)])\n",
    "print(round(np.linalg.det(arr),2))"
   ]
  },
  {
   "cell_type": "markdown",
   "id": "3dc7fa53",
   "metadata": {},
   "source": [
    "The NumPy module also comes with a number of built-in routines for linear algebra calculations. These can be found in the sub-module linalg.\n",
    "\n",
    "linalg.det\n",
    "\n",
    "The linalg.det tool computes the determinant of an array.\n",
    "\n",
    "print numpy.linalg.det([[1 , 2], [2, 1]])       #Output : -3.0\n",
    "\n",
    "linalg.eig\n",
    "\n",
    "The linalg.eig computes the eigenvalues and right eigenvectors of a square array.\n",
    "\n",
    "vals, vecs = numpy.linalg.eig([[1 , 2], [2, 1]])\n",
    "print vals                                      #Output : [ 3. -1.]\n",
    "print vecs                                      #Output : [[ 0.70710678 -0.70710678]\n",
    "                                                #          [ 0.70710678  0.70710678]]\n",
    "\n",
    "linalg.inv\n",
    "\n",
    "The linalg.inv tool computes the (multiplicative) inverse of a matrix.\n",
    "\n",
    "print numpy.linalg.inv([[1 , 2], [2, 1]])       #Output : [[-0.33333333  0.66666667]\n",
    "                                                #          [ 0.66666667 -0.33333333]]\n"
   ]
  },
  {
   "cell_type": "code",
   "execution_count": null,
   "id": "7781253a",
   "metadata": {},
   "outputs": [],
   "source": [
    "import xml.etree.ElementTree as etree\n",
    "\n",
    "maxdepth = 0\n",
    "def depth(elem, level):\n",
    "    global maxdepth\n",
    "    if maxdepth <= level:\n",
    "        maxdepth = level + 1\n",
    "    \n",
    "    for child in elem:\n",
    "        depth(child, level + 1)\n",
    "\n",
    "if __name__ == '__main__':\n",
    "    n = int(input())\n",
    "    xml = \"\"\n",
    "    for i in range(n):\n",
    "        xml =  xml + input() + \"\\n\"\n",
    "    tree = etree.ElementTree(etree.fromstring(xml))\n",
    "    depth(tree.getroot(), -1)\n",
    "    print(maxdepth)"
   ]
  },
  {
   "cell_type": "code",
   "execution_count": null,
   "id": "36f79ba6",
   "metadata": {},
   "outputs": [],
   "source": []
  }
 ],
 "metadata": {
  "kernelspec": {
   "display_name": "Python 3 (ipykernel)",
   "language": "python",
   "name": "python3"
  },
  "language_info": {
   "codemirror_mode": {
    "name": "ipython",
    "version": 3
   },
   "file_extension": ".py",
   "mimetype": "text/x-python",
   "name": "python",
   "nbconvert_exporter": "python",
   "pygments_lexer": "ipython3",
   "version": "3.11.5"
  }
 },
 "nbformat": 4,
 "nbformat_minor": 5
}
