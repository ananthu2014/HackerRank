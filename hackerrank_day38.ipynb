{
 "cells": [
  {
   "cell_type": "code",
   "execution_count": null,
   "id": "7e7a9790",
   "metadata": {},
   "outputs": [],
   "source": [
    "The sum tool returns the sum of array elements over a given axis.\n",
    "\n",
    "import numpy\n",
    "\n",
    "my_array = numpy.array([ [1, 2], [3, 4] ])\n",
    "\n",
    "print numpy.sum(my_array, axis = 0)         #Output : [4 6]\n",
    "print numpy.sum(my_array, axis = 1)         #Output : [3 7]\n",
    "print numpy.sum(my_array, axis = None)      #Output : 10\n",
    "print numpy.sum(my_array)                   #Output : 10\n",
    "\n",
    "By default, the axis value is None. Therefore, it performs a sum over all the dimensions of the input array.\n",
    "\n",
    "prod\n",
    "\n",
    "The prod tool returns the product of array elements over a given axis.\n",
    "\n",
    "import numpy\n",
    "\n",
    "my_array = numpy.array([ [1, 2], [3, 4] ])\n",
    "\n",
    "print numpy.prod(my_array, axis = 0)            #Output : [3 8]\n",
    "print numpy.prod(my_array, axis = 1)            #Output : [ 2 12]\n",
    "print numpy.prod(my_array, axis = None)         #Output : 24\n",
    "print numpy.prod(my_array)                      #Output : 24\n",
    "\n",
    "By default, the axis value is None. Therefore, it performs the product over all the dimensions of the input array."
   ]
  },
  {
   "cell_type": "code",
   "execution_count": null,
   "id": "1571e353",
   "metadata": {},
   "outputs": [],
   "source": [
    "# Enter your code here. Read input from STDIN. Print output to STDOUT\n",
    "import numpy as np\n",
    "n,m=(int(n) for n in input().split())\n",
    "arr = np.array([[int(j) for j in input().split()] for _ in range(n)])\n",
    "\n",
    "print(np.prod(np.sum(arr,axis=0)))"
   ]
  },
  {
   "cell_type": "code",
   "execution_count": null,
   "id": "05d225aa",
   "metadata": {},
   "outputs": [],
   "source": [
    " min\n",
    "\n",
    "The tool min returns the minimum value along a given axis.\n",
    "\n",
    "import numpy\n",
    "\n",
    "my_array = numpy.array([[2, 5], \n",
    "                        [3, 7],\n",
    "                        [1, 3],\n",
    "                        [4, 0]])\n",
    "\n",
    "print numpy.min(my_array, axis = 0)         #Output : [1 0]\n",
    "print numpy.min(my_array, axis = 1)         #Output : [2 3 1 0]\n",
    "print numpy.min(my_array, axis = None)      #Output : 0\n",
    "print numpy.min(my_array)                   #Output : 0\n",
    "\n",
    "By default, the axis value is None. Therefore, it finds the minimum over all the dimensions of the input array.\n",
    "\n",
    "max\n",
    "\n",
    "The tool max returns the maximum value along a given axis.\n",
    "\n",
    "import numpy\n",
    "\n",
    "my_array = numpy.array([[2, 5], \n",
    "                        [3, 7],\n",
    "                        [1, 3],\n",
    "                        [4, 0]])\n",
    "\n",
    "print numpy.max(my_array, axis = 0)         #Output : [4 7]\n",
    "print numpy.max(my_array, axis = 1)         #Output : [5 7 3 4]\n",
    "print numpy.max(my_array, axis = None)      #Output : 7\n",
    "print numpy.max(my_array)                   #Output : 7\n"
   ]
  },
  {
   "cell_type": "code",
   "execution_count": null,
   "id": "9a7662c9",
   "metadata": {},
   "outputs": [],
   "source": [
    "# Enter your code here. Read input from STDIN. Print output to STDOUT\n",
    "import numpy as np\n",
    "n,m = (int(n) for n in input().split())\n",
    "arr = [[int(j) for j in input().split()] for _ in range(n)]\n",
    "print(np.max(np.min(arr,axis=1)))"
   ]
  }
 ],
 "metadata": {
  "kernelspec": {
   "display_name": "Python 3 (ipykernel)",
   "language": "python",
   "name": "python3"
  },
  "language_info": {
   "codemirror_mode": {
    "name": "ipython",
    "version": 3
   },
   "file_extension": ".py",
   "mimetype": "text/x-python",
   "name": "python",
   "nbconvert_exporter": "python",
   "pygments_lexer": "ipython3",
   "version": "3.11.5"
  }
 },
 "nbformat": 4,
 "nbformat_minor": 5
}
