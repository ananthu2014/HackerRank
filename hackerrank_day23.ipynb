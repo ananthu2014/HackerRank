{
 "cells": [
  {
   "cell_type": "code",
   "execution_count": null,
   "id": "90a9d23b",
   "metadata": {},
   "outputs": [],
   "source": [
    "# Enter your code here. Read input from STDIN. Print output to STDOUT\n",
    "s = input()\n",
    "cap=''\n",
    "small=''\n",
    "odd_integers=''\n",
    "even_integers = ''\n",
    "for i in s:\n",
    "    if 65 <= ord(i) <= 90:\n",
    "        cap = cap + i\n",
    "    elif 97 <= ord(i) <= 122:\n",
    "        small = small + i\n",
    "    elif 48 <= ord(i) <= 57 and int(i)%2 ==0:\n",
    "        even_integers = even_integers + i\n",
    "    else:\n",
    "        odd_integers = odd_integers + i\n",
    "ans = ''.join(sorted(small)) + ''.join(sorted(cap)) + ''.join(sorted(odd_integers)) + ''.join(sorted(even_integers))\n",
    "print(ans)\n"
   ]
  },
  {
   "cell_type": "code",
   "execution_count": 1,
   "id": "7aa17839",
   "metadata": {},
   "outputs": [],
   "source": [
    "cube = lambda x:x**3"
   ]
  },
  {
   "cell_type": "code",
   "execution_count": 3,
   "id": "e862335a",
   "metadata": {},
   "outputs": [
    {
     "name": "stdout",
     "output_type": "stream",
     "text": [
      "27\n"
     ]
    }
   ],
   "source": [
    "print(cube(3))"
   ]
  },
  {
   "cell_type": "code",
   "execution_count": 5,
   "id": "a255014d",
   "metadata": {},
   "outputs": [
    {
     "name": "stdout",
     "output_type": "stream",
     "text": [
      "[4, 3, 3]\n"
     ]
    }
   ],
   "source": [
    "print (list(map(len, ['Tina', 'Raj', 'Tom'])))"
   ]
  },
  {
   "cell_type": "code",
   "execution_count": 56,
   "id": "b8ab74ea",
   "metadata": {},
   "outputs": [],
   "source": [
    "def fibonacci(n):\n",
    "    # return a list of fibonacci numbers\n",
    "    lis = []\n",
    "    a1 = 0\n",
    "    a2 = 1\n",
    "    if n==0:\n",
    "        return []\n",
    "    if n==1:\n",
    "        return [0]\n",
    "    else:\n",
    "        lis.append(a1)\n",
    "        lis.append(a2)\n",
    "        for i in range(n-2):\n",
    "            ai = a1 + a2\n",
    "            lis.append(ai)\n",
    "            a1 = a2\n",
    "            a2 = ai\n",
    "    return lis"
   ]
  },
  {
   "cell_type": "code",
   "execution_count": 57,
   "id": "c005f186",
   "metadata": {},
   "outputs": [],
   "source": [
    "a = fibonacci(2)"
   ]
  },
  {
   "cell_type": "code",
   "execution_count": 58,
   "id": "5cf6b968",
   "metadata": {},
   "outputs": [
    {
     "data": {
      "text/plain": [
       "[0, 1]"
      ]
     },
     "execution_count": 58,
     "metadata": {},
     "output_type": "execute_result"
    }
   ],
   "source": [
    "a"
   ]
  },
  {
   "cell_type": "code",
   "execution_count": null,
   "id": "dff25c2d",
   "metadata": {},
   "outputs": [],
   "source": [
    "cube = lambda x:x**3\n",
    "\n",
    "def fibonacci(n):\n",
    "    # return a list of fibonacci numbers\n",
    "    lis = []\n",
    "    a1 = 0\n",
    "    a2 = 1\n",
    "    if n==0:\n",
    "        return []\n",
    "    if n==1:\n",
    "        return [0]\n",
    "    else:\n",
    "        lis.append(a1)\n",
    "        lis.append(a2)\n",
    "        for i in range(n-2):\n",
    "            ai = a1 + a2\n",
    "            lis.append(ai)\n",
    "            a1 = a2\n",
    "            a2 = ai\n",
    "    return lis\n",
    "\n",
    "\n",
    "if __name__ == '__main__':\n",
    "    n = int(input())\n",
    "    print(list(map(cube, fibonacci(n))))"
   ]
  }
 ],
 "metadata": {
  "kernelspec": {
   "display_name": "Python 3 (ipykernel)",
   "language": "python",
   "name": "python3"
  },
  "language_info": {
   "codemirror_mode": {
    "name": "ipython",
    "version": 3
   },
   "file_extension": ".py",
   "mimetype": "text/x-python",
   "name": "python",
   "nbconvert_exporter": "python",
   "pygments_lexer": "ipython3",
   "version": "3.11.5"
  }
 },
 "nbformat": 4,
 "nbformat_minor": 5
}
