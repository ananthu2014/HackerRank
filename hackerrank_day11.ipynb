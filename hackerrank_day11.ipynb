{
 "cells": [
  {
   "cell_type": "code",
   "execution_count": 11,
   "id": "e6b4895e",
   "metadata": {},
   "outputs": [
    {
     "name": "stdout",
     "output_type": "stream",
     "text": [
      "[('1', '2'), ('1', '3'), ('1', '4'), ('1', '5'), ('2', '3'), ('2', '4'), ('2', '5'), ('3', '4'), ('3', '5'), ('4', '5')]\n",
      "('1', '2') ('1', '3') ('1', '4') ('1', '5') ('2', '3') ('2', '4') ('2', '5') ('3', '4') ('3', '5') ('4', '5')\n",
      "[(1, 1, 3, 3), (1, 1, 3, 3), (1, 1, 3, 3), (1, 3, 3, 3), (1, 3, 3, 3)]\n",
      "(1, 1, 3, 3) (1, 1, 3, 3) (1, 1, 3, 3) (1, 3, 3, 3) (1, 3, 3, 3)\n"
     ]
    }
   ],
   "source": [
    "from itertools import combinations\n",
    "\n",
    "print(list(combinations('12345',2)))\n",
    "print(*combinations('12345',2))\n",
    "#[('1', '2'), ('1', '3'), ('1', '4'), ('1', '5'), ('2', '3'), ('2', '4'), ('2', '5'), ('3', '4'), ('3', '5'), ('4', '5')]\n",
    "\n",
    "A = [1,1,3,3,3]\n",
    "print(list(combinations(A,4)))\n",
    "print(*combinations(A,4))\n",
    "#[(1, 1, 3, 3), (1, 1, 3, 3), (1, 1, 3, 3), (1, 3, 3, 3), (1, 3, 3, 3)]"
   ]
  },
  {
   "cell_type": "code",
   "execution_count": 3,
   "id": "2961d783",
   "metadata": {},
   "outputs": [
    {
     "name": "stdout",
     "output_type": "stream",
     "text": [
      "['1', '2', '3', '4']\n"
     ]
    }
   ],
   "source": [
    "a='1234'\n",
    "print(list(a))"
   ]
  },
  {
   "cell_type": "code",
   "execution_count": 7,
   "id": "f1e4a270",
   "metadata": {},
   "outputs": [
    {
     "name": "stdout",
     "output_type": "stream",
     "text": [
      "['a', 'b', 'c']\n",
      "['a', 'b', 'c']\n",
      "[1, 2, 3]\n",
      "dict_keys(['a', 'b', 'c'])\n",
      "dict_values([1, 2, 3])\n"
     ]
    }
   ],
   "source": [
    "a={'a':1,'b':2,'c':3}\n",
    "print(list(a))\n",
    "print(list(a.keys()))\n",
    "print(list(a.values()))\n",
    "print(a.keys())\n",
    "print(a.values())"
   ]
  },
  {
   "cell_type": "code",
   "execution_count": 12,
   "id": "5e4d67d3",
   "metadata": {},
   "outputs": [
    {
     "name": "stdout",
     "output_type": "stream",
     "text": [
      "[1, 2, 3, 4, 5]\n"
     ]
    }
   ],
   "source": [
    "a=[1,2,3,4,5]\n",
    "print(str(a))"
   ]
  },
  {
   "cell_type": "code",
   "execution_count": 16,
   "id": "f446da1a",
   "metadata": {},
   "outputs": [
    {
     "name": "stdout",
     "output_type": "stream",
     "text": [
      "['1', '2']\n",
      "<class 'str'>\n"
     ]
    }
   ],
   "source": [
    "a=['1','2']\n",
    "a=str(a)\n",
    "print(str(a))\n",
    "print(type(a))"
   ]
  },
  {
   "cell_type": "code",
   "execution_count": 33,
   "id": "c8c7145a",
   "metadata": {},
   "outputs": [
    {
     "name": "stdout",
     "output_type": "stream",
     "text": [
      "ananth 2\n"
     ]
    }
   ],
   "source": [
    "# Enter your code here. Read input from STDIN. Print output to STDOUT\n",
    "from itertools import combinations\n",
    "lis = input().split()\n",
    "s = lis[0]\n",
    "k = int(lis[1])"
   ]
  },
  {
   "cell_type": "code",
   "execution_count": 39,
   "id": "792ebb28",
   "metadata": {},
   "outputs": [],
   "source": [
    "fin=[]\n",
    "for i in range(1,k+1):\n",
    "    final = list(combinations(s,i))\n",
    "    for i in final:\n",
    "        fin.append(i)"
   ]
  },
  {
   "cell_type": "code",
   "execution_count": 40,
   "id": "fd3fc386",
   "metadata": {
    "scrolled": true
   },
   "outputs": [
    {
     "name": "stdout",
     "output_type": "stream",
     "text": [
      "[('a',), ('n',), ('a',), ('n',), ('t',), ('h',), ('a', 'n'), ('a', 'a'), ('a', 'n'), ('a', 't'), ('a', 'h'), ('n', 'a'), ('n', 'n'), ('n', 't'), ('n', 'h'), ('a', 'n'), ('a', 't'), ('a', 'h'), ('n', 't'), ('n', 'h'), ('t', 'h')]\n",
      "[('a', 'n'), ('a', 'a'), ('a', 'n'), ('a', 't'), ('a', 'h'), ('n', 'a'), ('n', 'n'), ('n', 't'), ('n', 'h'), ('a', 'n'), ('a', 't'), ('a', 'h'), ('n', 't'), ('n', 'h'), ('t', 'h')]\n"
     ]
    }
   ],
   "source": [
    "print(fin)\n",
    "print(final)"
   ]
  },
  {
   "cell_type": "code",
   "execution_count": 41,
   "id": "946c362b",
   "metadata": {},
   "outputs": [
    {
     "name": "stdout",
     "output_type": "stream",
     "text": [
      "a\n",
      "n\n",
      "a\n",
      "n\n",
      "t\n",
      "h\n",
      "an\n",
      "aa\n",
      "an\n",
      "at\n",
      "ah\n",
      "na\n",
      "nn\n",
      "nt\n",
      "nh\n",
      "an\n",
      "at\n",
      "ah\n",
      "nt\n",
      "nh\n",
      "th\n"
     ]
    }
   ],
   "source": [
    "for i in fin:\n",
    "    print(''.join(i))"
   ]
  },
  {
   "cell_type": "code",
   "execution_count": 24,
   "id": "43aac438",
   "metadata": {},
   "outputs": [
    {
     "data": {
      "text/plain": [
       "'12'"
      ]
     },
     "execution_count": 24,
     "metadata": {},
     "output_type": "execute_result"
    }
   ],
   "source": [
    "a=['1','2']\n",
    "c=''.join(a)\n",
    "c"
   ]
  },
  {
   "cell_type": "code",
   "execution_count": 27,
   "id": "ac000b1a",
   "metadata": {},
   "outputs": [
    {
     "data": {
      "text/plain": [
       "'12'"
      ]
     },
     "execution_count": 27,
     "metadata": {},
     "output_type": "execute_result"
    }
   ],
   "source": [
    "a=('1','2')\n",
    "b = ''.join(a)\n",
    "b"
   ]
  },
  {
   "cell_type": "code",
   "execution_count": null,
   "id": "14b5b796",
   "metadata": {},
   "outputs": [],
   "source": [
    "b"
   ]
  },
  {
   "cell_type": "code",
   "execution_count": 105,
   "id": "e1348cfb",
   "metadata": {},
   "outputs": [
    {
     "name": "stdout",
     "output_type": "stream",
     "text": [
      "{'a': 2, 'b': 3, 'c': 1, 'd': 1, 'f': 1}\n",
      "{'a': 2, 'b': 3, 'c': 1, 'd': 1, 'f': 1}\n",
      "{'f': 1, 'd': 1, 'c': 1, 'b': 3, 'a': 2}\n",
      "{'c': 1, 'f': 1, 'd': 1, 'a': 2, 'b': 3}\n",
      "{'b': 3, 'a': 2, 'c': 1, 'f': 1, 'd': 1}\n",
      "{'c': 1, 'd': 1, 'f': 1, 'a': 2, 'b': 3}\n",
      "{'b': 3, 'a': 2, 'c': 1, 'd': 1, 'f': 1}\n"
     ]
    }
   ],
   "source": [
    "my_dict = {\"b\": 3, \"a\": 2, \"c\": 1, \"f\": 1, \"d\": 1}\n",
    "\n",
    "# Sorting dictionary by keys in ascending order\n",
    "sorted_dict_by_keys = {k: my_dict[k] for k in sorted(my_dict)}\n",
    "\n",
    "# Sorting dictionary by keys in descending order\n",
    "sorted_by_keys_desc = {k: my_dict[k] for k in sorted(my_dict, reverse=True)}\n",
    "\n",
    "# Other sorts as you've correctly implemented\n",
    "sorted_by_keys = {k: v for k, v in sorted(my_dict.items())}\n",
    "sorted_dict_by_values = {k: v for k, v in sorted(my_dict.items(), key=lambda item: item[1])}\n",
    "sorted_dict_by_values_desc = {k: v for k, v in sorted(my_dict.items(), key=lambda item: -item[1])}\n",
    "sorted_dict_by_values_then_keys = {k: v for k, v in sorted(my_dict.items(), key=lambda item: (item[1], item[0]))}\n",
    "sorted_dict = {k: v for k, v in sorted(my_dict.items(), key=lambda item: (-item[1], item[0]))}\n",
    "\n",
    "# Printing the results\n",
    "print(sorted_dict_by_keys)  # Output: {'a': 2, 'b': 3, 'c': 1, 'd': 1, 'f': 1}\n",
    "print(sorted_by_keys)       # Same as sorted_dict_by_keys\n",
    "print(sorted_by_keys_desc)  # Output: {'f': 1, 'd': 1, 'c': 1, 'b': 3, 'a': 2}\n",
    "print(sorted_dict_by_values)  # Output: {'c': 1, 'd': 1, 'f': 1, 'a': 2, 'b': 3}\n",
    "print(sorted_dict_by_values_desc)  # Output: {'b': 3, 'a': 2, 'c': 1, 'd': 1, 'f': 1}\n",
    "print(sorted_dict_by_values_then_keys)  # Output: {'c': 1, 'd': 1, 'f': 1, 'a': 2, 'b': 3}\n",
    "print(sorted_dict)  # Output: {'b': 3, 'a': 2, 'c': 1, 'd': 1, 'f': 1}\n"
   ]
  },
  {
   "cell_type": "code",
   "execution_count": null,
   "id": "449894bd",
   "metadata": {},
   "outputs": [],
   "source": [
    "from itertools import combinations\n",
    "\n",
    "lis = input().split()\n",
    "s = sorted(lis[0])  # Sort the characters of the string first\n",
    "k = int(lis[1])\n",
    "fin = []\n",
    "\n",
    "# Generate sorted combinations of lengths 1 to k\n",
    "for i in range(1, k + 1):\n",
    "    # Generate combinations of length i from the sorted string\n",
    "    final = combinations(s, i)\n",
    "    for combo in final:\n",
    "        fin.append(combo)\n",
    "\n",
    "# Print each combination\n",
    "for combo in fin:\n",
    "    print(''.join(combo))\n"
   ]
  },
  {
   "cell_type": "code",
   "execution_count": null,
   "id": "3df74792",
   "metadata": {},
   "outputs": [],
   "source": [
    "from itertools import combinations\n",
    "\n",
    "lis = input().split()\n",
    "s = lis[0]\n",
    "k = int(lis[1])\n",
    "fin = []\n",
    "\n",
    "# Generate sorted combinations of lengths 1 to k\n",
    "for i in range(1, k + 1):\n",
    "    # Generate and sort combinations of length i\n",
    "    final = sorted(combinations(s, i))\n",
    "    for combo in final:\n",
    "        fin.append(combo)\n",
    "\n",
    "# Print each combination\n",
    "for combo in fin:\n",
    "    print(''.join(combo))\n"
   ]
  },
  {
   "cell_type": "code",
   "execution_count": null,
   "id": "e825d6c7",
   "metadata": {},
   "outputs": [],
   "source": [
    "from itertools import combinations\n",
    "\n",
    "# Read input from STDIN\n",
    "lis = input().split()\n",
    "s = sorted(lis[0])  # Sort the characters of the string\n",
    "k = int(lis[1])\n",
    "fin = []\n",
    "\n",
    "# Generate combinations of different lengths and append them to 'fin'\n",
    "for i in range(1, k+1):\n",
    "    fin.extend(combinations(s, i))\n",
    "\n",
    "# Sort the final list of combinations and print\n",
    "for combo in sorted(fin):\n",
    "    print(''.join(combo))\n"
   ]
  },
  {
   "cell_type": "code",
   "execution_count": null,
   "id": "2805ae71",
   "metadata": {},
   "outputs": [],
   "source": [
    "# Example dictionary\n",
    "example_dict = {\"apple\": 10, \"banana\": 5}\n",
    "\n",
    "# Using get to retrieve and update values\n",
    "apple_count = example_dict.get(\"apple\", 0)  # Returns 10 (value of \"apple\" in the dictionary)\n",
    "orange_count = example_dict.get(\"orange\", 0)  # Returns 0 (since \"orange\" is not in the dictionary)\n",
    "\n",
    "# Update the dictionary\n",
    "example_dict[\"apple\"] = apple_count + 2  # Updates \"apple\" to 12\n",
    "example_dict[\"orange\"] = orange_count + 3  # Adds \"orange\" with a value of 3\n",
    "\n",
    "print(example_dict)\n"
   ]
  },
  {
   "cell_type": "code",
   "execution_count": 120,
   "id": "3a924122",
   "metadata": {},
   "outputs": [
    {
     "name": "stdout",
     "output_type": "stream",
     "text": [
      "[1, 2, 3, 3, 4]\n",
      "[1, 2, 3, [3, 4]]\n"
     ]
    }
   ],
   "source": [
    "'''The .extend() method in Python is used with lists. It is used to append elements from an iterable \n",
    "(like a list, tuple, set, or string) to the end of the list. The main characteristic of .extend() is that it adds \n",
    "each element of the iterable to the list individually, rather than adding the entire iterable as a single element.'''\n",
    "\n",
    "a=[1,2,3]\n",
    "b=[1,2,3]\n",
    "a.extend([3,4])\n",
    "b.append([3,4])\n",
    "print(a)\n",
    "print(b)"
   ]
  },
  {
   "cell_type": "code",
   "execution_count": 117,
   "id": "2856d7f2",
   "metadata": {},
   "outputs": [
    {
     "name": "stdout",
     "output_type": "stream",
     "text": [
      "[('A',), ('B',)]\n",
      "[[('A',), ('B',)]]\n",
      "[('A',), ('B',)]\n"
     ]
    }
   ],
   "source": [
    "from itertools import combinations\n",
    "\n",
    "# Example list\n",
    "fin = []\n",
    "f=[]\n",
    "# Example string\n",
    "s = \"AB\"\n",
    "\n",
    "# Using extend with combinations\n",
    "fin.extend(combinations(s, 1))\n",
    "f.append(list(combinations(s,1)))\n",
    "print(fin)\n",
    "print(f)\n",
    "print(list(combinations(s,1)))"
   ]
  },
  {
   "cell_type": "code",
   "execution_count": null,
   "id": "8191b206",
   "metadata": {},
   "outputs": [],
   "source": []
  }
 ],
 "metadata": {
  "kernelspec": {
   "display_name": "Python 3 (ipykernel)",
   "language": "python",
   "name": "python3"
  },
  "language_info": {
   "codemirror_mode": {
    "name": "ipython",
    "version": 3
   },
   "file_extension": ".py",
   "mimetype": "text/x-python",
   "name": "python",
   "nbconvert_exporter": "python",
   "pygments_lexer": "ipython3",
   "version": "3.11.5"
  }
 },
 "nbformat": 4,
 "nbformat_minor": 5
}
