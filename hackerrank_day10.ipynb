{
 "cells": [
  {
   "cell_type": "code",
   "execution_count": 1,
   "id": "0f41569a",
   "metadata": {},
   "outputs": [
    {
     "data": {
      "text/plain": [
       "25200"
      ]
     },
     "execution_count": 1,
     "metadata": {},
     "output_type": "execute_result"
    }
   ],
   "source": [
    "700*36"
   ]
  },
  {
   "cell_type": "code",
   "execution_count": 4,
   "id": "78d36f11",
   "metadata": {},
   "outputs": [
    {
     "data": {
      "text/plain": [
       "69120"
      ]
     },
     "execution_count": 4,
     "metadata": {},
     "output_type": "execute_result"
    }
   ],
   "source": [
    "88200 - 19080"
   ]
  },
  {
   "cell_type": "code",
   "execution_count": 12,
   "id": "29534fda",
   "metadata": {},
   "outputs": [
    {
     "data": {
      "text/plain": [
       "71676"
      ]
     },
     "execution_count": 12,
     "metadata": {},
     "output_type": "execute_result"
    }
   ],
   "source": [
    "# Sat 02 May 2015 19:54:36 +0530\n",
    "# Fri 01 May 2015 13:54:36 -0000\n",
    "a = 19*3600 + 54*60 +36\n",
    "a"
   ]
  },
  {
   "cell_type": "code",
   "execution_count": 14,
   "id": "0d794860",
   "metadata": {},
   "outputs": [
    {
     "data": {
      "text/plain": [
       "55476"
      ]
     },
     "execution_count": 14,
     "metadata": {},
     "output_type": "execute_result"
    }
   ],
   "source": [
    "a - 5*3600 + 30*60"
   ]
  },
  {
   "cell_type": "code",
   "execution_count": 19,
   "id": "96dfd1be",
   "metadata": {},
   "outputs": [
    {
     "data": {
      "text/plain": [
       "19.91"
      ]
     },
     "execution_count": 19,
     "metadata": {},
     "output_type": "execute_result"
    }
   ],
   "source": [
    "19 +54/60 + 36/3600"
   ]
  },
  {
   "cell_type": "code",
   "execution_count": 20,
   "id": "41d1e60e",
   "metadata": {},
   "outputs": [
    {
     "data": {
      "text/plain": [
       "5.5"
      ]
     },
     "execution_count": 20,
     "metadata": {},
     "output_type": "execute_result"
    }
   ],
   "source": [
    "5 + 30/60"
   ]
  },
  {
   "cell_type": "code",
   "execution_count": 21,
   "id": "6f6e3353",
   "metadata": {},
   "outputs": [
    {
     "data": {
      "text/plain": [
       "14.41"
      ]
     },
     "execution_count": 21,
     "metadata": {},
     "output_type": "execute_result"
    }
   ],
   "source": [
    "19.91 - 5.5"
   ]
  },
  {
   "cell_type": "code",
   "execution_count": 25,
   "id": "3e098d05",
   "metadata": {},
   "outputs": [
    {
     "data": {
      "text/plain": [
       "2460"
      ]
     },
     "execution_count": 25,
     "metadata": {},
     "output_type": "execute_result"
    }
   ],
   "source": [
    "41*60"
   ]
  },
  {
   "cell_type": "code",
   "execution_count": 26,
   "id": "1830ce16",
   "metadata": {},
   "outputs": [
    {
     "data": {
      "text/plain": [
       "24.6"
      ]
     },
     "execution_count": 26,
     "metadata": {},
     "output_type": "execute_result"
    }
   ],
   "source": [
    "2460/100"
   ]
  },
  {
   "cell_type": "code",
   "execution_count": 27,
   "id": "1217b27b",
   "metadata": {},
   "outputs": [
    {
     "data": {
      "text/plain": [
       "360"
      ]
     },
     "execution_count": 27,
     "metadata": {},
     "output_type": "execute_result"
    }
   ],
   "source": [
    "6*60"
   ]
  },
  {
   "cell_type": "code",
   "execution_count": 30,
   "id": "0ae11caa",
   "metadata": {},
   "outputs": [
    {
     "data": {
      "text/plain": [
       "3.6"
      ]
     },
     "execution_count": 30,
     "metadata": {},
     "output_type": "execute_result"
    }
   ],
   "source": [
    " 19:54:36"
   ]
  },
  {
   "cell_type": "code",
   "execution_count": 31,
   "id": "d140baef",
   "metadata": {},
   "outputs": [
    {
     "data": {
      "text/plain": [
       "71676"
      ]
     },
     "execution_count": 31,
     "metadata": {},
     "output_type": "execute_result"
    }
   ],
   "source": [
    "19*3600 + 54*60 +36"
   ]
  },
  {
   "cell_type": "code",
   "execution_count": 32,
   "id": "34287cd0",
   "metadata": {},
   "outputs": [],
   "source": [
    "a = 71676//3600 "
   ]
  },
  {
   "cell_type": "code",
   "execution_count": 36,
   "id": "d0698e21",
   "metadata": {},
   "outputs": [
    {
     "data": {
      "text/plain": [
       "19"
      ]
     },
     "execution_count": 36,
     "metadata": {},
     "output_type": "execute_result"
    }
   ],
   "source": [
    "a"
   ]
  },
  {
   "cell_type": "code",
   "execution_count": 37,
   "id": "ef452360",
   "metadata": {},
   "outputs": [
    {
     "data": {
      "text/plain": [
       "68400"
      ]
     },
     "execution_count": 37,
     "metadata": {},
     "output_type": "execute_result"
    }
   ],
   "source": [
    "19*3600"
   ]
  },
  {
   "cell_type": "code",
   "execution_count": 38,
   "id": "53a4a6b7",
   "metadata": {},
   "outputs": [
    {
     "data": {
      "text/plain": [
       "3276"
      ]
     },
     "execution_count": 38,
     "metadata": {},
     "output_type": "execute_result"
    }
   ],
   "source": [
    "71676-68400"
   ]
  },
  {
   "cell_type": "code",
   "execution_count": 43,
   "id": "5b312e1f",
   "metadata": {},
   "outputs": [
    {
     "data": {
      "text/plain": [
       "3276"
      ]
     },
     "execution_count": 43,
     "metadata": {},
     "output_type": "execute_result"
    }
   ],
   "source": [
    "71676%3600"
   ]
  },
  {
   "cell_type": "code",
   "execution_count": 39,
   "id": "61f17411",
   "metadata": {},
   "outputs": [
    {
     "data": {
      "text/plain": [
       "54"
      ]
     },
     "execution_count": 39,
     "metadata": {},
     "output_type": "execute_result"
    }
   ],
   "source": [
    "3276//60"
   ]
  },
  {
   "cell_type": "code",
   "execution_count": 46,
   "id": "31389a97",
   "metadata": {},
   "outputs": [
    {
     "data": {
      "text/plain": [
       "216000"
      ]
     },
     "execution_count": 46,
     "metadata": {},
     "output_type": "execute_result"
    }
   ],
   "source": []
  },
  {
   "cell_type": "code",
   "execution_count": 40,
   "id": "040d8ebd",
   "metadata": {},
   "outputs": [
    {
     "data": {
      "text/plain": [
       "3240"
      ]
     },
     "execution_count": 40,
     "metadata": {},
     "output_type": "execute_result"
    }
   ],
   "source": [
    "54*60"
   ]
  },
  {
   "cell_type": "code",
   "execution_count": 44,
   "id": "065c986a",
   "metadata": {},
   "outputs": [
    {
     "data": {
      "text/plain": [
       "36"
      ]
     },
     "execution_count": 44,
     "metadata": {},
     "output_type": "execute_result"
    }
   ],
   "source": [
    "3276%60"
   ]
  },
  {
   "cell_type": "code",
   "execution_count": 41,
   "id": "cad37072",
   "metadata": {},
   "outputs": [
    {
     "data": {
      "text/plain": [
       "36"
      ]
     },
     "execution_count": 41,
     "metadata": {},
     "output_type": "execute_result"
    }
   ],
   "source": [
    "3276-3240"
   ]
  },
  {
   "cell_type": "code",
   "execution_count": 42,
   "id": "dff8f22b",
   "metadata": {},
   "outputs": [],
   "source": [
    "string = ''"
   ]
  },
  {
   "cell_type": "code",
   "execution_count": 52,
   "id": "3e4085f5",
   "metadata": {},
   "outputs": [],
   "source": [
    "total_seconds = 71676 - 5*3600 - 30*60\n",
    "\n",
    "# Calculate hours, minutes, and seconds\n",
    "hours = total_seconds // 3600\n",
    "minutes = (total_seconds % 3600) // 60\n",
    "seconds = total_seconds % 60\n",
    "\n",
    "# Format the string to include leading zeros for minutes and seconds\n",
    "time_string = f\"{hours}:{minutes:02d}:{seconds:02d}\"\n"
   ]
  },
  {
   "cell_type": "code",
   "execution_count": 53,
   "id": "a0a0c7da",
   "metadata": {},
   "outputs": [
    {
     "data": {
      "text/plain": [
       "'14:24:36'"
      ]
     },
     "execution_count": 53,
     "metadata": {},
     "output_type": "execute_result"
    }
   ],
   "source": [
    "time_string"
   ]
  },
  {
   "cell_type": "code",
   "execution_count": null,
   "id": "cc4b0441",
   "metadata": {},
   "outputs": [],
   "source": [
    "# Complete the time_delta function below.\n",
    "def time_delta(t1, t2):\n",
    "    lis1 = t1.split()\n",
    "    lis2 = t2.split()\n",
    "    tz1 = int(lis1[-1][1:3])*3600 + int(lis1[-1][3:])*60\n",
    "    ct1 = int(lis1[-2][:2])*3600 + int(lis1[-2][3:5])*60 + int(lis1[-2][6:])\n",
    "    if lis1[-1][0] == '+':\n",
    "        diff1 = ct1 - tz1\n",
    "        hours1 = diff1 // 3600\n",
    "        minutes1 = (diff1 % 3600) // 60\n",
    "        seconds1 = diff1 % 60\n",
    "    else:\n",
    "        diff1  = ct1 + tz1\n",
    "        hours1 = diff1 // 3600\n",
    "        minutes1 = (diff1 % 3600) // 60\n",
    "        seconds1 = diff1 % 60\n",
    "        \n",
    "    tz2 = int(lis2[-1][1:3])*3600 + int(lis2[-1][3:])*60\n",
    "    ct2 = int(lis2[-2][:2])*3600 + int(lis2[-2][3:5])*60 + int(lis2[-2][6:])\n",
    "    if lis2[-1][0] == '+':\n",
    "        diff2 = ct2 - tz2\n",
    "        hours2 = diff2 // 3600\n",
    "        minutes2 = (diff2 % 3600) // 60\n",
    "        seconds2 = diff2 % 60\n",
    "    else:\n",
    "        diff2  = ct2 + tz2\n",
    "        hours2 = diff2 // 3600\n",
    "        minutes2 = (diff2 % 3600) // 60\n",
    "        seconds2 = diff2 % 60"
   ]
  },
  {
   "cell_type": "code",
   "execution_count": null,
   "id": "2453b756",
   "metadata": {},
   "outputs": [],
   "source": [
    "def time_delta(t1, t2):\n",
    "    # Helper function to determine if a year is a leap year\n",
    "    def is_leap_year(year):\n",
    "        return year % 4 == 0 and (year % 100 != 0 or year % 400 == 0)\n",
    "\n",
    "    # Helper function to calculate day of the year\n",
    "    def day_of_year(day, month, year):\n",
    "        month_lengths = [31, 28 + is_leap_year(year), 31, 30, 31, 30, 31, 31, 30, 31, 30, 31]\n",
    "        return sum(month_lengths[:month - 1]) + day\n",
    "\n",
    "    # Parse date and time information from time strings\n",
    "    parts1, parts2 = t1.split(), t2.split()\n",
    "    day1, month1, year1 = int(parts1[1]), time.strptime(parts1[2], '%b').tm_mon, int(parts1[3])\n",
    "    day2, month2, year2 = int(parts2[1]), time.strptime(parts2[2], '%b').tm_mon, int(parts2[3])\n",
    "    \n",
    "    # Calculate day of year for both dates\n",
    "    doy1, doy2 = day_of_year(day1, month1, year1), day_of_year(day2, month2, year2)\n",
    "\n",
    "    # Rest of your existing time calculation remains the same...\n",
    "    # ...\n",
    "\n",
    "    # Calculate total day difference, including year difference\n",
    "    day_diff = (year1 - year2) * 365 + (doy1 - doy2)\n",
    "\n",
    "    # Calculate leap day difference\n",
    "    leap_day_diff = sum(1 for y in range(min(year1, year2), max(year1, year2)) if is_leap_year(y))\n",
    "\n",
    "    # Add or subtract leap day difference based on year order\n",
    "    if year1 < year2:\n",
    "        day_diff -= leap_day_diff\n",
    "    else:\n",
    "        day_diff += leap_day_diff\n",
    "\n",
    "    # Calculate the absolute difference in seconds including day difference\n",
    "    seconds_diff = abs(day_diff * 24 * 3600 + total_seconds1 - total_seconds2)\n",
    "    return seconds_diff\n",
    "\n",
    "# Example usage\n",
    "t1 = \"Sun 10 May 2015 13:54:36 -0700\"\n",
    "t2 = \"Sun 10 May 2016 13:54:36 -0000\"\n",
    "print(time_delta(t1, t2))  # Example output\n"
   ]
  },
  {
   "cell_type": "code",
   "execution_count": null,
   "id": "93df866d",
   "metadata": {},
   "outputs": [],
   "source": [
    "def time_delta(t1, t2):\n",
    "    # Function to convert time string to seconds\n",
    "    def time_to_seconds(time_str):\n",
    "        hours, minutes, seconds = map(int, time_str.split(':'))\n",
    "        return hours * 3600 + minutes * 60 + seconds\n",
    "\n",
    "    # Function to convert timezone string to seconds\n",
    "    def timezone_to_seconds(tz_str):\n",
    "        sign = -1 if tz_str[0] == '-' else 1\n",
    "        hours, minutes = map(int, [tz_str[1:3], tz_str[3:]])\n",
    "        return sign * (hours * 3600 + minutes * 60)\n",
    "\n",
    "    # Split the strings and extract components\n",
    "    lis1, lis2 = t1.split(), t2.split()\n",
    "    tz1, tz2 = timezone_to_seconds(lis1[-1]), timezone_to_seconds(lis2[-1])\n",
    "    ct1, ct2 = time_to_seconds(lis1[-2]), time_to_seconds(lis2[-2])\n",
    "\n",
    "    # Calculate total seconds for each time\n",
    "    total_seconds1 = ct1 - tz1\n",
    "    total_seconds2 = ct2 - tz2\n",
    "\n",
    "    # Assuming the date is in the format \"Day Month Year\"\n",
    "    # This will calculate the difference in days\n",
    "    day_diff = int(lis1[1]) - int(lis2[1])\n",
    "    \n",
    "    # Calculate the absolute difference in seconds including day difference\n",
    "    seconds_diff = abs(day_diff * 24 * 3600 + total_seconds1 - total_seconds2)\n",
    "    return seconds_diff\n",
    "\n",
    "# Example usage\n",
    "t1 = \"Sun 10 May 2015 13:54:36 -0700\"\n",
    "t2 = \"Sun 10 May 2015 13:54:36 -0000\"\n",
    "print(time_delta(t1, t2))  # Example output\n"
   ]
  },
  {
   "cell_type": "code",
   "execution_count": 55,
   "id": "d4005f90",
   "metadata": {},
   "outputs": [
    {
     "name": "stdout",
     "output_type": "stream",
     "text": [
      "Sun 10 May 2015 13:54:36 -0700\n",
      "Sun 10 May 2015 13:54:36 -0000\n",
      "2015-05-10 13:54:36-07:00\n"
     ]
    },
    {
     "ename": "TypeError",
     "evalue": "'str' object is not callable",
     "output_type": "error",
     "traceback": [
      "\u001b[1;31m---------------------------------------------------------------------------\u001b[0m",
      "\u001b[1;31mTypeError\u001b[0m                                 Traceback (most recent call last)",
      "Cell \u001b[1;32mIn[55], line 32\u001b[0m\n\u001b[0;32m     28\u001b[0m t1 \u001b[38;5;241m=\u001b[39m \u001b[38;5;28minput\u001b[39m()\n\u001b[0;32m     30\u001b[0m t2 \u001b[38;5;241m=\u001b[39m \u001b[38;5;28minput\u001b[39m()\n\u001b[1;32m---> 32\u001b[0m delta \u001b[38;5;241m=\u001b[39m time_delta(t1, t2)\n\u001b[0;32m     33\u001b[0m \u001b[38;5;28mprint\u001b[39m(delta)\n",
      "Cell \u001b[1;32mIn[55], line 23\u001b[0m, in \u001b[0;36mtime_delta\u001b[1;34m(t1, t2)\u001b[0m\n\u001b[0;32m     21\u001b[0m \u001b[38;5;66;03m# Calculate the difference in seconds\u001b[39;00m\n\u001b[0;32m     22\u001b[0m delta \u001b[38;5;241m=\u001b[39m \u001b[38;5;28mint\u001b[39m(\u001b[38;5;28mabs\u001b[39m((dt1 \u001b[38;5;241m-\u001b[39m dt2)\u001b[38;5;241m.\u001b[39mtotal_seconds()))\n\u001b[1;32m---> 23\u001b[0m \u001b[38;5;28;01mreturn\u001b[39;00m \u001b[38;5;28mstr\u001b[39m(delta)\n",
      "\u001b[1;31mTypeError\u001b[0m: 'str' object is not callable"
     ]
    }
   ],
   "source": [
    "#!/bin/python3\n",
    "\n",
    "import math\n",
    "import os\n",
    "import random\n",
    "import re\n",
    "import sys\n",
    "\n",
    "from datetime import datetime, timedelta, timezone\n",
    "import re\n",
    "\n",
    "\n",
    "\n",
    "\n",
    "if __name__ == '__main__':\n",
    "\n",
    "        t1 = input()\n",
    "\n",
    "        t2 = input()\n",
    "\n",
    "        delta = time_delta(t1, t2)\n",
    "        print(delta)\n"
   ]
  },
  {
   "cell_type": "code",
   "execution_count": 60,
   "id": "924c54cc",
   "metadata": {},
   "outputs": [],
   "source": [
    "def time_delta(t1, t2):\n",
    "    # Define the format of the time string\n",
    "    format_str = \"%a %d %b %Y %H:%M:%S %z\"\n",
    "\n",
    "    # Parse the time strings into datetime objects\n",
    "    dt1 = datetime.strptime(t1, format_str)\n",
    "    dt2 = datetime.strptime(t2, format_str)\n",
    "    print((dt1-dt2).total_seconds())\n",
    "    print(dt1)\n",
    "    print(dt2)\n",
    "    print(type(dt1))\n",
    "\n",
    "    # Calculate the difference in seconds\n",
    "    delta = int(abs((dt1 - dt2).total_seconds()))\n",
    "    print(delta)"
   ]
  },
  {
   "cell_type": "code",
   "execution_count": 61,
   "id": "c49462fe",
   "metadata": {},
   "outputs": [
    {
     "name": "stdout",
     "output_type": "stream",
     "text": [
      "25200.0\n",
      "2015-05-10 13:54:36-07:00\n",
      "2015-05-10 13:54:36+00:00\n",
      "<class 'datetime.datetime'>\n",
      "25200\n"
     ]
    }
   ],
   "source": [
    "time_delta(t1,t2)"
   ]
  },
  {
   "cell_type": "code",
   "execution_count": 63,
   "id": "635b4359",
   "metadata": {},
   "outputs": [
    {
     "data": {
      "text/plain": [
       "[1, 2, 3]"
      ]
     },
     "execution_count": 63,
     "metadata": {},
     "output_type": "execute_result"
    }
   ],
   "source": [
    "lis = [1,2,3,4]\n",
    "lis.pop(3)\n",
    "lis"
   ]
  },
  {
   "cell_type": "code",
   "execution_count": null,
   "id": "3689178f",
   "metadata": {},
   "outputs": [],
   "source": [
    "from collections import OrderedDict\n",
    "\n",
    "n = int(input())\n",
    "d = OrderedDict()\n",
    "\n",
    "for i in range(n):\n",
    "    lis = input().split()\n",
    "    price = int(lis[-1])  # Convert price to integer here\n",
    "    lis.pop(-1)\n",
    "    name=''\n",
    "    for i in lis:\n",
    "        name = name + i +' '\n",
    "    if name in d:\n",
    "        d[name] += price\n",
    "    else:\n",
    "        d[name] = price\n",
    "\n",
    "for name, total_price in d.items():\n",
    "    print(f\"{name}{total_price}\")"
   ]
  },
  {
   "cell_type": "code",
   "execution_count": 66,
   "id": "703eacce",
   "metadata": {},
   "outputs": [
    {
     "name": "stdout",
     "output_type": "stream",
     "text": [
      "10\n",
      "0\n",
      "{'apple': 12, 'banana': 5, 'orange': 3}\n"
     ]
    }
   ],
   "source": [
    "# Example dictionary\n",
    "example_dict = {\"apple\": 10, \"banana\": 5}\n",
    "\n",
    "# Using get to retrieve and update values\n",
    "apple_count = example_dict.get(\"apple\", 0)  # Returns 10 (value of \"apple\" in the dictionary)\n",
    "orange_count = example_dict.get(\"orange\", 0)  # Returns 0 (since \"orange\" is not in the dictionary)\n",
    "print(apple_count)\n",
    "print(orange_count) #here there is no error eve  though the key orange is not there in the dict; otherwise it will give keyerror.\n",
    "\n",
    "# Update the dictionary\n",
    "example_dict[\"apple\"] = apple_count + 2  # Updates \"apple\" to 12\n",
    "example_dict[\"orange\"] = orange_count + 3  # Adds \"orange\" with a value of 3\n",
    "\n",
    "print(example_dict)\n"
   ]
  },
  {
   "cell_type": "code",
   "execution_count": null,
   "id": "e62e1fd4",
   "metadata": {},
   "outputs": [],
   "source": [
    "'''An OrderedDict is a dictionary that remembers the order of the keys that were inserted first. If a new entry overwrites\n",
    "an existing entry,the original insertion position is left unchanged. '''"
   ]
  }
 ],
 "metadata": {
  "kernelspec": {
   "display_name": "Python 3 (ipykernel)",
   "language": "python",
   "name": "python3"
  },
  "language_info": {
   "codemirror_mode": {
    "name": "ipython",
    "version": 3
   },
   "file_extension": ".py",
   "mimetype": "text/x-python",
   "name": "python",
   "nbconvert_exporter": "python",
   "pygments_lexer": "ipython3",
   "version": "3.11.5"
  }
 },
 "nbformat": 4,
 "nbformat_minor": 5
}
