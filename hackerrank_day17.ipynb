{
 "cells": [
  {
   "cell_type": "code",
   "execution_count": 4,
   "id": "06abca6d",
   "metadata": {},
   "outputs": [
    {
     "data": {
      "text/plain": [
       "'111'"
      ]
     },
     "execution_count": 4,
     "metadata": {},
     "output_type": "execute_result"
    }
   ],
   "source": [
    "string=''\n",
    "string + '1'*3"
   ]
  },
  {
   "cell_type": "code",
   "execution_count": 5,
   "id": "1bbc5be8",
   "metadata": {},
   "outputs": [],
   "source": [
    "string  = string + '1*3'"
   ]
  },
  {
   "cell_type": "code",
   "execution_count": 6,
   "id": "4fd9f856",
   "metadata": {},
   "outputs": [
    {
     "data": {
      "text/plain": [
       "'1*3'"
      ]
     },
     "execution_count": 6,
     "metadata": {},
     "output_type": "execute_result"
    }
   ],
   "source": [
    "string"
   ]
  },
  {
   "cell_type": "code",
   "execution_count": 7,
   "id": "fe411a6a",
   "metadata": {},
   "outputs": [
    {
     "name": "stdout",
     "output_type": "stream",
     "text": [
      "555\n"
     ]
    }
   ],
   "source": [
    "print(str('5'*3))"
   ]
  },
  {
   "cell_type": "code",
   "execution_count": 9,
   "id": "37963b44",
   "metadata": {},
   "outputs": [
    {
     "name": "stdout",
     "output_type": "stream",
     "text": [
      "5\n",
      "1\n",
      "22\n",
      "333\n",
      "4444\n"
     ]
    }
   ],
   "source": [
    "for i in range(1,int(input())): #More than 2 lines will result in 0 score. Do not leave a blank line also\n",
    "    print(str(i)*i)"
   ]
  },
  {
   "cell_type": "code",
   "execution_count": 10,
   "id": "ffcee065",
   "metadata": {},
   "outputs": [
    {
     "name": "stdout",
     "output_type": "stream",
     "text": [
      "5\n",
      "1\n",
      "22\n",
      "333\n",
      "4444\n"
     ]
    }
   ],
   "source": [
    "for i in range(1,int(input())): #More than 2 lines will result in 0 score. Do not leave a blank line also\n",
    "    print(i * (10**i - 1) // 9)"
   ]
  },
  {
   "cell_type": "code",
   "execution_count": 11,
   "id": "a697b1d1",
   "metadata": {},
   "outputs": [
    {
     "name": "stdout",
     "output_type": "stream",
     "text": [
      "5\n",
      "1 1 1 1 1 2\n",
      "2\n"
     ]
    }
   ],
   "source": [
    "# Enter your code here. Read input from STDIN. Print output to STDOUT\n",
    "k = int(input())\n",
    "m = list(map(int,input().split()))\n",
    "g = len(m)//k\n",
    "dict1 = {}\n",
    "for i in m:\n",
    "    if i not in dict1.keys():\n",
    "        dict1[i] = 1\n",
    "    elif i in dict1.keys():\n",
    "        dict1[i] +=1\n",
    "for i in dict1.keys():\n",
    "    if dict1[i] == 1:\n",
    "        print(i)        "
   ]
  },
  {
   "cell_type": "code",
   "execution_count": 12,
   "id": "e15479e7",
   "metadata": {},
   "outputs": [
    {
     "name": "stdout",
     "output_type": "stream",
     "text": [
      "['key1', 'key3']\n"
     ]
    }
   ],
   "source": [
    "# Assuming 'my_dict' is your dictionary and 'my_value' is the value you're looking for\n",
    "my_dict = {'key1': 'value1', 'key2': 'value2', 'key3': 'value1'} # Example dictionary\n",
    "my_value = 'value1' # The value you're looking for\n",
    "\n",
    "# Find all keys with the given value\n",
    "keys_with_value = [key for key, value in my_dict.items() if value == my_value]\n",
    "\n",
    "print(keys_with_value)\n"
   ]
  },
  {
   "cell_type": "code",
   "execution_count": null,
   "id": "269534b7",
   "metadata": {},
   "outputs": [],
   "source": []
  }
 ],
 "metadata": {
  "kernelspec": {
   "display_name": "Python 3 (ipykernel)",
   "language": "python",
   "name": "python3"
  },
  "language_info": {
   "codemirror_mode": {
    "name": "ipython",
    "version": 3
   },
   "file_extension": ".py",
   "mimetype": "text/x-python",
   "name": "python",
   "nbconvert_exporter": "python",
   "pygments_lexer": "ipython3",
   "version": "3.11.5"
  }
 },
 "nbformat": 4,
 "nbformat_minor": 5
}
