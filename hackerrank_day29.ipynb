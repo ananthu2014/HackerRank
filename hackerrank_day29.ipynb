{
 "cells": [
  {
   "cell_type": "code",
   "execution_count": null,
   "id": "b4592334",
   "metadata": {},
   "outputs": [],
   "source": [
    "'''css hexa color code'''\n",
    "import re\n",
    "\n",
    "for _ in range(int(input())):\n",
    "    result = re.findall(r\"(?<=.)#[a-fA-F0-9]{3,6}\", input())\n",
    "    if result:\n",
    "        print(*result, sep=\"\\n\")"
   ]
  },
  {
   "cell_type": "code",
   "execution_count": null,
   "id": "1201bd2b",
   "metadata": {},
   "outputs": [],
   "source": [
    "'''HTML Parsing'''\n",
    "from HTMLParser import HTMLParser\n",
    "\n",
    "# create a subclass and override the handler methods\n",
    "class MyHTMLParser(HTMLParser):\n",
    "    def handle_starttag(self, tag, attrs):\n",
    "        print \"Found a start tag  :\", tag\n",
    "    def handle_endtag(self, tag):\n",
    "        print \"Found an end tag   :\", tag\n",
    "    def handle_startendtag(self, tag, attrs):\n",
    "        print \"Found an empty tag :\", tag\n",
    "\n",
    "# instantiate the parser and fed it some HTML\n",
    "parser = MyHTMLParser()\n",
    "parser.feed(\"<html><head><title>HTML Parser - I</title></head>\"\n",
    "            +\"<body><h1>HackerRank</h1><br /></body></html>\")"
   ]
  },
  {
   "cell_type": "code",
   "execution_count": null,
   "id": "69da1316",
   "metadata": {},
   "outputs": [],
   "source": [
    "from html.parser import HTMLParser\n",
    "\n",
    "class MyHTMLParser(HTMLParser):\n",
    "    def handle_starttag(self, tag, attrs):\n",
    "        print(\"Start :\", tag)\n",
    "        if attrs:\n",
    "            for each in attrs:\n",
    "                print('-> '+' > '.join(list(map(str, each))))\n",
    "\n",
    "    def handle_endtag(self, tag):\n",
    "        print(\"End   :\", tag)\n",
    "        \n",
    "    def handle_startendtag(self, tag, attrs):\n",
    "        print(\"Empty :\", tag)\n",
    "        if attrs:\n",
    "            for each in attrs:\n",
    "                print('-> '+' > '.join(list(map(str, each))))\n",
    "\n",
    "parser = MyHTMLParser()\n",
    "for each in range(int(input())):\n",
    "    parser.feed(input())"
   ]
  },
  {
   "cell_type": "code",
   "execution_count": 7,
   "id": "6b5c0f35",
   "metadata": {},
   "outputs": [
    {
     "name": "stdout",
     "output_type": "stream",
     "text": [
      "2a3\n"
     ]
    }
   ],
   "source": [
    "print('a'.join(list(map(str,(2,3)))))"
   ]
  },
  {
   "cell_type": "markdown",
   "id": "066900c3",
   "metadata": {},
   "source": [
    "print('a'.join(list(map(str,(2,3)))))\n",
    "why the output is 2a3 and not a23\n",
    "ChatGPT\n",
    "\n",
    "The output of the expression print('a'.join(list(map(str,(2,3)))) is \"2a3\" because of how the join() method works in conjunction with the map() function and the list() constructor. Let's break down the expression to understand it step by step:\n",
    "\n",
    "    (2,3) is a tuple containing the integers 2 and 3.\n",
    "\n",
    "    map(str, (2,3)) applies the str function to each element of the tuple, converting them into strings. The result is an iterator that yields the strings \"2\" and \"3\".\n",
    "\n",
    "    list(map(str,(2,3))) converts the iterator into a list, resulting in [\"2\", \"3\"].\n",
    "\n",
    "    'a'.join([\"2\", \"3\"]) takes the list of strings and joins them into a single string, using the string 'a' as the separator between elements.\n",
    "\n",
    "The join() method concatenates the elements of the iterable it is applied to, inserting the string it is called on between each element. Therefore, 'a'.join([\"2\", \"3\"]) inserts 'a' between \"2\" and \"3\", resulting in the output \"2a3\".\n",
    "\n",
    "If the output were \"a23\", it would imply that 'a' was prefixed to the concatenation of \"2\" and \"3\", which is not how the join() method operates. The join() method is designed to insert the separator between elements, not at the beginning or end of the resulting string."
   ]
  },
  {
   "cell_type": "code",
   "execution_count": 8,
   "id": "6b2f5f01",
   "metadata": {},
   "outputs": [
    {
     "name": "stdout",
     "output_type": "stream",
     "text": [
      "2a3a4\n"
     ]
    }
   ],
   "source": [
    "print('a'.join(list(map(str,(2,3,4)))))"
   ]
  },
  {
   "cell_type": "code",
   "execution_count": 9,
   "id": "30797bce",
   "metadata": {},
   "outputs": [
    {
     "name": "stdout",
     "output_type": "stream",
     "text": [
      "23\n"
     ]
    }
   ],
   "source": [
    "print(''.join(list(map(str,(2,3)))))"
   ]
  },
  {
   "cell_type": "code",
   "execution_count": null,
   "id": "b30097d9",
   "metadata": {},
   "outputs": [],
   "source": []
  }
 ],
 "metadata": {
  "kernelspec": {
   "display_name": "Python 3 (ipykernel)",
   "language": "python",
   "name": "python3"
  },
  "language_info": {
   "codemirror_mode": {
    "name": "ipython",
    "version": 3
   },
   "file_extension": ".py",
   "mimetype": "text/x-python",
   "name": "python",
   "nbconvert_exporter": "python",
   "pygments_lexer": "ipython3",
   "version": "3.11.5"
  }
 },
 "nbformat": 4,
 "nbformat_minor": 5
}
