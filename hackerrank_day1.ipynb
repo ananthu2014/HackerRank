{
 "cells": [
  {
   "cell_type": "code",
   "execution_count": 52,
   "id": "9da08957",
   "metadata": {},
   "outputs": [
    {
     "name": "stdout",
     "output_type": "stream",
     "text": [
      "ananthan\n",
      "anu\n",
      "0\n"
     ]
    }
   ],
   "source": [
    "'''In this challenge, the user enters a string and a substring. \n",
    "You have to print the number of times that the substring occurs in the given string. \n",
    "String traversal will take place from left to right, not from right to left. '''\n",
    "def count_substring(string, sub_string):\n",
    "    count = 0\n",
    "    while len(string)>=len(sub_string):\n",
    "        if sub_string == string[:len(sub_string)]:\n",
    "            count = count+1\n",
    "        string = string[1:]\n",
    "    return count\n",
    "\n",
    "if __name__ == '__main__':\n",
    "    string = input().strip()\n",
    "    sub_string = input().strip()\n",
    "    \n",
    "    count = count_substring(string, sub_string)\n",
    "    print(count)"
   ]
  },
  {
   "cell_type": "code",
   "execution_count": null,
   "id": "06783c22",
   "metadata": {},
   "outputs": [],
   "source": [
    "'''The provided code stub will read in a dictionary containing key/value pairs of name:[marks] for a list of students.\n",
    "Print the average of the marks array for the student name provided, showing 2 places after the decimal. '''\n",
    "if __name__ == '__main__':\n",
    "    n = int(input())\n",
    "    student_marks = {}\n",
    "    for _ in range(n):\n",
    "        name, *line = input().split()\n",
    "        scores = list(map(float, line))\n",
    "        student_marks[name] = scores\n",
    "    query_name = input()\n",
    "    \n",
    "'''The problem starts here'''\n",
    "    marks = student_marks[query_name]\n",
    "    sum1 = 0\n",
    "    for i in marks:\n",
    "        sum1 = sum1 + i\n",
    "    average = sum1/len(marks)\n",
    "    formatted_average = f\"{average:.2f}\"\n",
    "    print(formatted_average)"
   ]
  },
  {
   "cell_type": "code",
   "execution_count": 62,
   "id": "8a129643",
   "metadata": {},
   "outputs": [
    {
     "name": "stdout",
     "output_type": "stream",
     "text": [
      "a-n-a-n-t-h-u\n"
     ]
    }
   ],
   "source": [
    "'''join function in python'''\n",
    "a='ananthu'\n",
    "a = '-'.join(a)\n",
    "print(a)"
   ]
  },
  {
   "cell_type": "code",
   "execution_count": 63,
   "id": "591c4fd7",
   "metadata": {},
   "outputs": [
    {
     "name": "stdout",
     "output_type": "stream",
     "text": [
      "this-is-wrong\n"
     ]
    }
   ],
   "source": [
    "a = 'this is wrong'\n",
    "a = a.split(' ')\n",
    "a = '-'.join(a)\n",
    "print(a)"
   ]
  },
  {
   "cell_type": "code",
   "execution_count": 65,
   "id": "65947ebb",
   "metadata": {},
   "outputs": [
    {
     "name": "stdout",
     "output_type": "stream",
     "text": [
      "a\n",
      "n\n",
      "a\n",
      "n\n",
      "t\n",
      "h\n"
     ]
    }
   ],
   "source": [
    "a='ananth'\n",
    "for i in a:\n",
    "    print(i)"
   ]
  },
  {
   "cell_type": "code",
   "execution_count": 67,
   "id": "00741603",
   "metadata": {},
   "outputs": [
    {
     "name": "stdout",
     "output_type": "stream",
     "text": [
      "false\n"
     ]
    }
   ],
   "source": [
    "if 'i'=='I':\n",
    "    print('true')\n",
    "else:\n",
    "    print('false')"
   ]
  },
  {
   "cell_type": "code",
   "execution_count": 68,
   "id": "61c2d724",
   "metadata": {},
   "outputs": [],
   "source": [
    "'''swap cases of a given string'''\n",
    "def swap_case(s):\n",
    "    string=''\n",
    "    for i in s:\n",
    "        if str.upper(i) == i:\n",
    "            string = string + str.lower(i)\n",
    "        else:\n",
    "            string = string + str.upper(i)\n",
    "    return string"
   ]
  },
  {
   "cell_type": "code",
   "execution_count": 71,
   "id": "b68d02c9",
   "metadata": {},
   "outputs": [
    {
     "name": "stdout",
     "output_type": "stream",
     "text": [
      "hi\n"
     ]
    }
   ],
   "source": [
    "print(f\"hi\")"
   ]
  },
  {
   "cell_type": "code",
   "execution_count": 73,
   "id": "deabab85",
   "metadata": {},
   "outputs": [],
   "source": [
    "a=f'hi'"
   ]
  },
  {
   "cell_type": "code",
   "execution_count": 74,
   "id": "364f588b",
   "metadata": {},
   "outputs": [
    {
     "name": "stdout",
     "output_type": "stream",
     "text": [
      "hi\n"
     ]
    }
   ],
   "source": [
    "print(a)"
   ]
  },
  {
   "cell_type": "code",
   "execution_count": 87,
   "id": "9a34adf5",
   "metadata": {},
   "outputs": [
    {
     "name": "stdout",
     "output_type": "stream",
     "text": [
      "My name is ananthu and I am 23 years old.\n"
     ]
    }
   ],
   "source": [
    "# Using .format() to print variables within a string\n",
    "name='ananthu'\n",
    "age=23\n",
    "output = \"My name is {} and I am {} years old.\".format(name, age)\n",
    "print(output)"
   ]
  },
  {
   "cell_type": "code",
   "execution_count": null,
   "id": "c78652db",
   "metadata": {},
   "outputs": [],
   "source": [
    "'''lists are mutable;tuples are immutable;strings are immutable'''\n",
    "'''Here in this code we can change the character at a particular position of the string with another one given'''\n",
    "def mutate_string(string, position, character):\n",
    "    a=list(string)\n",
    "    a[position] = character\n",
    "    b=''.join(a) #we can join the elements of a list into a string by this way.\n",
    "    return b"
   ]
  },
  {
   "cell_type": "code",
   "execution_count": null,
   "id": "fbf1fb40",
   "metadata": {},
   "outputs": [],
   "source": [
    "'''code of text wrapper'''\n",
    "def wrap(string, max_width):\n",
    "    para=''\n",
    "    while len(string) >= max_width:\n",
    "        para = para + string[:max_width] + '\\n'\n",
    "        string = string[max_width:]\n",
    "    if len(string) != 0:\n",
    "        para = para + string\n",
    "    return para\n",
    "\n",
    "if __name__ == '__main__':\n",
    "    string, max_width = input(), int(input())\n",
    "    result = wrap(string, max_width)\n",
    "    print(result)"
   ]
  },
  {
   "cell_type": "code",
   "execution_count": 91,
   "id": "4a93fba8",
   "metadata": {},
   "outputs": [
    {
     "name": "stdout",
     "output_type": "stream",
     "text": [
      "['This is', 'a very', 'very', 'very', 'very', 'very', 'very', 'long', 'string.']\n"
     ]
    }
   ],
   "source": [
    "import textwrap\n",
    "'''The wrap() function wraps a single paragraph in text (a string) so that every line is width characters long at most.\n",
    "It returns a list of output lines.'''\n",
    "string = \"This is a very very very very very very long string.\"\n",
    "print (textwrap.wrap(string,8))\n"
   ]
  },
  {
   "cell_type": "code",
   "execution_count": 93,
   "id": "f63d64e0",
   "metadata": {},
   "outputs": [
    {
     "name": "stdout",
     "output_type": "stream",
     "text": [
      "This is\n",
      "a very\n",
      "very\n",
      "very\n",
      "very\n",
      "very\n",
      "very\n",
      "long\n",
      "string.\n"
     ]
    }
   ],
   "source": [
    "import textwrap\n",
    "string = \"This is a very very very very very very long string.\"\n",
    "print(textwrap.fill(string,8))"
   ]
  },
  {
   "cell_type": "code",
   "execution_count": 154,
   "id": "5633a926",
   "metadata": {},
   "outputs": [
    {
     "name": "stdout",
     "output_type": "stream",
     "text": [
      "5\n",
      "1 2 3 4 5\n",
      "(1, 2, 3, 4, 5)\n"
     ]
    }
   ],
   "source": [
    "n = int(input())\n",
    "integer_list = map(int, input().split())\n",
    "integ = tuple(integer_list)\n",
    "print(integ)"
   ]
  },
  {
   "cell_type": "code",
   "execution_count": 158,
   "id": "0bfd72ef",
   "metadata": {},
   "outputs": [
    {
     "name": "stdout",
     "output_type": "stream",
     "text": [
      "[1, 4, 9, 16, 25]\n"
     ]
    }
   ],
   "source": [
    "'''map function contains a function and an iterable and the function is applied automatically applied in all the elements of the\n",
    "iterable without writing a loop over the iterable, which makes the process easier and the output will be a map object'''\n",
    "numbers = [1, 2, 3, 4, 5]\n",
    "squared_numbers = map(lambda x: x ** 2, numbers)\n",
    "#print(squared_numbers)\n",
    "#print(*squared_numbers)\n",
    "squared_numbers_list = list(squared_numbers)\n",
    "print(squared_numbers_list)\n"
   ]
  },
  {
   "cell_type": "code",
   "execution_count": null,
   "id": "2fd1d4da",
   "metadata": {},
   "outputs": [],
   "source": [
    "'''The reason you're getting an empty list when you try to print squared_numbers a second time is that map objects in Python\n",
    "are iterators,and they are consumed as you iterate through them. Once you've converted squared_numbers into a list with\n",
    "list(squared_numbers), the map object becomes empty. Consequently, when you try to print it again, it will appear as an \n",
    "empty list. You create a map object called squared_numbers by applying the lambda function to the numbers list.\n",
    "You convert squared_numbers to a list with list(squared_numbers), which iterates through squared_numbers, computing and\n",
    "storing the squared values in the list squared_numbers_list.\n",
    "After this conversion, squared_numbers is now an empty iterator because all its values have been consumed in step 2.\n",
    "When you try to print squared_numbers again, it appears as an empty list because it has no remaining values.\n",
    "If you want to use the values from squared_numbers multiple times, you should convert it to a list as you did with\n",
    "list(squared_numbers) and then use that list whenever you need the squared values.\n",
    "'''"
   ]
  }
 ],
 "metadata": {
  "kernelspec": {
   "display_name": "Python 3 (ipykernel)",
   "language": "python",
   "name": "python3"
  },
  "language_info": {
   "codemirror_mode": {
    "name": "ipython",
    "version": 3
   },
   "file_extension": ".py",
   "mimetype": "text/x-python",
   "name": "python",
   "nbconvert_exporter": "python",
   "pygments_lexer": "ipython3",
   "version": "3.11.5"
  }
 },
 "nbformat": 4,
 "nbformat_minor": 5
}
