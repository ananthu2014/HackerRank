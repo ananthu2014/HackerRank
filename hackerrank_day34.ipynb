{
 "cells": [
  {
   "cell_type": "code",
   "execution_count": null,
   "id": "f66e8ac6",
   "metadata": {},
   "outputs": [],
   "source": [
    "import numpy as np\n",
    "\n",
    "matrix = []\n",
    "dim = input()\n",
    "for n in range(int(dim.split(' ')[0])):\n",
    "    row = input().rstrip()\n",
    "    matrix.append(row.split(' '))\n",
    "\n",
    "my_array = np.array(matrix, dtype='int')\n",
    "print(my_array.transpose())\n",
    "print(my_array.flatten())\n"
   ]
  },
  {
   "cell_type": "code",
   "execution_count": null,
   "id": "a49dfbe8",
   "metadata": {},
   "outputs": [],
   "source": [
    "import numpy as np\n",
    "\n",
    "# Example array\n",
    "arr = np.array([[1, 2, 3],\n",
    "                [4, 5, 6]])\n",
    "\n",
    "# Transpose the array\n",
    "transposed_arr = arr.T\n",
    "\n",
    "print(\"Original array:\")\n",
    "print(arr)\n",
    "print(\"\\nTranspose of the array:\")\n",
    "print(transposed_arr)\n"
   ]
  },
  {
   "cell_type": "code",
   "execution_count": null,
   "id": "2336550a",
   "metadata": {},
   "outputs": [],
   "source": [
    "# Enter your code here. Read input from STDIN. Print output to STDOUT\n",
    "import numpy as np\n",
    "a = list(map(int,input().split()))\n",
    "n = a[0]\n",
    "m = a[1]\n",
    "p = a[2]\n",
    "lis1=[]\n",
    "\n",
    "for i in range(n):\n",
    "    col = list(map(int,input().split()))\n",
    "    lis1.append(col)\n",
    "    \n",
    "lis2=[]\n",
    "for i in range(m):\n",
    "    col = list(map(int,input().split()))\n",
    "    lis2.append(col)\n",
    "\n",
    "arr1 = np.array(lis1,int)\n",
    "arr2 = np.array(lis2,int)\n",
    "\n",
    "arr3 = np.concatenate((arr1,arr2),axis=0)\n",
    "print(arr3)"
   ]
  }
 ],
 "metadata": {
  "kernelspec": {
   "display_name": "Python 3 (ipykernel)",
   "language": "python",
   "name": "python3"
  },
  "language_info": {
   "codemirror_mode": {
    "name": "ipython",
    "version": 3
   },
   "file_extension": ".py",
   "mimetype": "text/x-python",
   "name": "python",
   "nbconvert_exporter": "python",
   "pygments_lexer": "ipython3",
   "version": "3.11.5"
  }
 },
 "nbformat": 4,
 "nbformat_minor": 5
}
