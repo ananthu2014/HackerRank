{
 "cells": [
  {
   "cell_type": "code",
   "execution_count": null,
   "id": "23bcc2a5",
   "metadata": {},
   "outputs": [],
   "source": [
    "'''to validate if a given string is a phone number'''\n",
    "import re\n",
    "\n",
    "n = int(input())\n",
    "for _ in range(n):\n",
    "    num = input()\n",
    "    if not 2 <= len(num) <= 15:\n",
    "        print('NO')\n",
    "    else:\n",
    "        try:\n",
    "            # Attempt to convert num to int to ensure it's a valid number\n",
    "            e = int(num)\n",
    "            # Define regex pattern to match numbers starting with 7, 8, or 9\n",
    "            regex_pattern = r\"^[789]\\d{9}$\"  # Updated to ensure it's a 10-digit number\n",
    "            if re.match(regex_pattern, num):\n",
    "                print('YES')\n",
    "            else:\n",
    "                print('NO')\n",
    "        except ValueError:\n",
    "            # Catch the exception if num is not an integer\n",
    "            print('NO')\n"
   ]
  },
  {
   "cell_type": "code",
   "execution_count": null,
   "id": "4a70b906",
   "metadata": {},
   "outputs": [],
   "source": [
    "import re\n",
    "import email.utils\n",
    "\n",
    "n = int(input())\n",
    "for _ in range(n):\n",
    "    a = email.utils.parseaddr(input())\n",
    "    # Updated regex pattern\n",
    "    regex = r\"^[a-zA-Z][\\w.-]+@[a-zA-Z]+\\.[a-zA-Z]{1,3}$\"\n",
    "    if re.match(regex, a[1]):\n",
    "        print(email.utils.formataddr((a[0], a[1])))\n",
    "\n",
    "    \n",
    "    \n"
   ]
  }
 ],
 "metadata": {
  "kernelspec": {
   "display_name": "Python 3 (ipykernel)",
   "language": "python",
   "name": "python3"
  },
  "language_info": {
   "codemirror_mode": {
    "name": "ipython",
    "version": 3
   },
   "file_extension": ".py",
   "mimetype": "text/x-python",
   "name": "python",
   "nbconvert_exporter": "python",
   "pygments_lexer": "ipython3",
   "version": "3.11.5"
  }
 },
 "nbformat": 4,
 "nbformat_minor": 5
}
