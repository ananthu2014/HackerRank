{
 "cells": [
  {
   "cell_type": "code",
   "execution_count": null,
   "id": "22a56e95",
   "metadata": {},
   "outputs": [],
   "source": [
    "# Enter your code here. Read input from STDIN. Print output to STDOUT\n",
    "eng = int(input())\n",
    "e = set(map(int,input().split()))\n",
    "fre = int(input())\n",
    "f = set(map(int,input().split()))\n",
    "print(len(e.difference(f)))\n",
    "'''difference contains a-b'''"
   ]
  },
  {
   "cell_type": "code",
   "execution_count": null,
   "id": "eaf90e77",
   "metadata": {},
   "outputs": [],
   "source": [
    "# Enter your code here. Read input from STDIN. Print output to STDOUT\n",
    "# Enter your code here. Read input from STDIN. Print output to STDOUT\n",
    "eng = int(input())\n",
    "e = set(map(int,input().split()))\n",
    "fre = int(input())\n",
    "f = set(map(int,input().split()))\n",
    "print(len(e.symmetric_difference(f)))\n",
    "'''symmetric difference contains a-b u b-a'''"
   ]
  },
  {
   "cell_type": "code",
   "execution_count": 1,
   "id": "84f761cc",
   "metadata": {},
   "outputs": [
    {
     "data": {
      "text/plain": [
       "'We have seen the applications of union, intersection, difference and symmetric difference operations, but these \\noperations do not make any changes or mutations to the set.'"
      ]
     },
     "execution_count": 1,
     "metadata": {},
     "output_type": "execute_result"
    }
   ],
   "source": [
    "'''We have seen the applications of union, intersection, difference and symmetric difference operations, but these \n",
    "operations do not make any changes or mutations to the set.'''"
   ]
  },
  {
   "cell_type": "code",
   "execution_count": null,
   "id": "b47af3c3",
   "metadata": {},
   "outputs": [],
   "source": []
  }
 ],
 "metadata": {
  "kernelspec": {
   "display_name": "Python 3 (ipykernel)",
   "language": "python",
   "name": "python3"
  },
  "language_info": {
   "codemirror_mode": {
    "name": "ipython",
    "version": 3
   },
   "file_extension": ".py",
   "mimetype": "text/x-python",
   "name": "python",
   "nbconvert_exporter": "python",
   "pygments_lexer": "ipython3",
   "version": "3.11.5"
  }
 },
 "nbformat": 4,
 "nbformat_minor": 5
}
