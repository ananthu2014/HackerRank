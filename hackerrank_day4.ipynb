{
 "cells": [
  {
   "cell_type": "code",
   "execution_count": 1,
   "id": "074c7bcf",
   "metadata": {},
   "outputs": [
    {
     "data": {
      "text/plain": [
       "['ananth']"
      ]
     },
     "execution_count": 1,
     "metadata": {},
     "output_type": "execute_result"
    }
   ],
   "source": [
    "a='ananth'\n",
    "s=a.split()\n",
    "s"
   ]
  },
  {
   "cell_type": "code",
   "execution_count": 25,
   "id": "39562daf",
   "metadata": {},
   "outputs": [
    {
     "data": {
      "text/plain": [
       "['a', 'n', 'a', 'n', 't', 'h']"
      ]
     },
     "execution_count": 25,
     "metadata": {},
     "output_type": "execute_result"
    }
   ],
   "source": [
    "a='ananth'\n",
    "b=list(a)\n",
    "b"
   ]
  },
  {
   "cell_type": "code",
   "execution_count": 26,
   "id": "523740e6",
   "metadata": {},
   "outputs": [
    {
     "data": {
      "text/plain": [
       "'ananth'"
      ]
     },
     "execution_count": 26,
     "metadata": {},
     "output_type": "execute_result"
    }
   ],
   "source": [
    "a='ananth'\n",
    "a[0:len(a)]"
   ]
  },
  {
   "cell_type": "code",
   "execution_count": 27,
   "id": "49209b08",
   "metadata": {},
   "outputs": [
    {
     "data": {
      "text/plain": [
       "'ananth'"
      ]
     },
     "execution_count": 27,
     "metadata": {},
     "output_type": "execute_result"
    }
   ],
   "source": [
    "a[:]"
   ]
  },
  {
   "cell_type": "code",
   "execution_count": 28,
   "id": "fbabb5ca",
   "metadata": {},
   "outputs": [
    {
     "data": {
      "text/plain": [
       "'ananth'"
      ]
     },
     "execution_count": 28,
     "metadata": {},
     "output_type": "execute_result"
    }
   ],
   "source": [
    "a[0:]"
   ]
  },
  {
   "cell_type": "code",
   "execution_count": 29,
   "id": "49a0235c",
   "metadata": {},
   "outputs": [
    {
     "data": {
      "text/plain": [
       "''"
      ]
     },
     "execution_count": 29,
     "metadata": {},
     "output_type": "execute_result"
    }
   ],
   "source": [
    "a[0:0] # this will give an empty string"
   ]
  },
  {
   "cell_type": "code",
   "execution_count": 8,
   "id": "d3dab221",
   "metadata": {},
   "outputs": [
    {
     "data": {
      "text/plain": [
       "'a'"
      ]
     },
     "execution_count": 8,
     "metadata": {},
     "output_type": "execute_result"
    }
   ],
   "source": [
    "a[0:1]"
   ]
  },
  {
   "cell_type": "code",
   "execution_count": 33,
   "id": "d3a4b23e",
   "metadata": {},
   "outputs": [
    {
     "data": {
      "text/plain": [
       "'ananth'"
      ]
     },
     "execution_count": 33,
     "metadata": {},
     "output_type": "execute_result"
    }
   ],
   "source": [
    "a[0:7] #in case of string, even if the indexing goes out, it will print the available string"
   ]
  },
  {
   "cell_type": "code",
   "execution_count": 40,
   "id": "8ae7a35a",
   "metadata": {},
   "outputs": [
    {
     "name": "stdout",
     "output_type": "stream",
     "text": [
      "BANANA\n",
      "length of string : 6\n",
      "Stuart 12\n"
     ]
    }
   ],
   "source": [
    "def minion_game(string):\n",
    "    player1 = 'Stuart' #he has to make the substrings starting with consonants\n",
    "    count1=0\n",
    "    player2 = 'Kevin' #vowels\n",
    "    count2 = 0\n",
    "    l = len(string)\n",
    "    print('length of string :',l)\n",
    "    \n",
    "    for start in range(l):\n",
    "        for end in range(start+1,l+1): #IN STRINGS OTHERWISE THERE WILL BE ISSUE AS WE REACH THE LAST ELEMENT\n",
    "            sub_string = string[start:end]\n",
    "            if sub_string[0] in ['A','E','I','O','U']:\n",
    "                count2 = count2+1\n",
    "            else:\n",
    "                count1 = count1+1\n",
    "    if count1>count2:\n",
    "        print(player1+' '+str(count1))\n",
    "    else:\n",
    "        print(player2 +' '+str(count2))\n",
    "        \n",
    "if __name__ == '__main__':\n",
    "    s = input()\n",
    "    minion_game(s)\n",
    "    \n",
    "'''no need of using 2 for loops and becuse of that, I am getting time limit exceeded error.'''"
   ]
  },
  {
   "cell_type": "code",
   "execution_count": 41,
   "id": "c32a218d",
   "metadata": {},
   "outputs": [
    {
     "name": "stdout",
     "output_type": "stream",
     "text": [
      "Stuart 12\n"
     ]
    }
   ],
   "source": [
    "#this is the most efficient code as they didnot use 2 for loops and the second loop was not necessary\n",
    "def minion_game(string):\n",
    "    player1 = 'Stuart'  # Substrings starting with consonants\n",
    "    count1 = 0\n",
    "    player2 = 'Kevin'  # Substrings starting with vowels\n",
    "    count2 = 0\n",
    "    vowels = 'AEIOUaeiou'\n",
    "    l = len(string)\n",
    "\n",
    "    for i in range(l):\n",
    "        if string[i] in vowels:\n",
    "            count2 += l - i  # Add all possible substrings starting at this vowel\n",
    "        else:\n",
    "            count1 += l - i  # Add all possible substrings starting at this consonant\n",
    "\n",
    "    if count1 > count2:\n",
    "        print(player1 + ' ' + str(count1))\n",
    "    elif count2 > count1:\n",
    "        print(player2 + ' ' + str(count2))\n",
    "    else:\n",
    "        print(\"Draw\")\n",
    "\n",
    "# Example usage\n",
    "minion_game(\"BANANA\")\n"
   ]
  },
  {
   "cell_type": "code",
   "execution_count": null,
   "id": "c57c400c",
   "metadata": {},
   "outputs": [],
   "source": []
  }
 ],
 "metadata": {
  "kernelspec": {
   "display_name": "Python 3 (ipykernel)",
   "language": "python",
   "name": "python3"
  },
  "language_info": {
   "codemirror_mode": {
    "name": "ipython",
    "version": 3
   },
   "file_extension": ".py",
   "mimetype": "text/x-python",
   "name": "python",
   "nbconvert_exporter": "python",
   "pygments_lexer": "ipython3",
   "version": "3.11.5"
  }
 },
 "nbformat": 4,
 "nbformat_minor": 5
}
