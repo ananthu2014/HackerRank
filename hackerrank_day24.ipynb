{
 "cells": [
  {
   "cell_type": "markdown",
   "id": "94d19064",
   "metadata": {},
   "source": [
    "Regex Patterns:\n",
    "Basic Components\n",
    "\n",
    "    Literals: These are the simplest form of patterns. They match the exact character sequence in the text.\n",
    "        Example: cat matches \"cat\" in \"concatenate\".\n",
    "\n",
    "    Metacharacters: Special characters that denote different types of patterns.\n",
    "        . (dot): Matches any single character except newline.\n",
    "        ^: Asserts the start of a string.\n",
    "        $: Asserts the end of a string.\n",
    "        []: Matches any single character contained within the brackets.\n",
    "        |: Acts as a logical OR between two expressions.\n",
    "        (): Groups patterns.\n",
    "\n",
    "    Quantifiers: Specify how many instances of a character or group must be present for a match.\n",
    "        *: Matches 0 or more repetitions.\n",
    "        +: Matches 1 or more repetitions.\n",
    "        ?: Matches 0 or 1 repetition.\n",
    "        {n}: Matches exactly n repetitions.\n",
    "        {n,}: Matches n or more repetitions.\n",
    "        {n,m}: Matches between n and m repetitions.\n",
    "\n",
    "    Character Classes:\n",
    "        \\d: Matches any digit. Equivalent to [0-9].\n",
    "        \\D: Matches any non-digit.\n",
    "        \\w: Matches any word character (letter, digit, or underscore).\n",
    "        \\W: Matches any non-word character.\n",
    "        \\s: Matches any whitespace character.\n",
    "        \\S: Matches any non-whitespace character.\n",
    "\n",
    "    Escaping Special Characters: If you want to match a character that is \"special\" in regex syntax, you precede it with a backslash (\\). For example, \\., \\$, and \\\\ match ., $, and \\, respectively.\n",
    "\n",
    "Writing Patterns\n",
    "\n",
    "    Matching a Specific String: To match a specific word or phrase, simply write it as is, escaping any special characters if necessary. For example, to find \"hello.world\" in text, the pattern would be hello\\.world.\n",
    "\n",
    "    Matching Any of Several Characters: Use square brackets. For example, [aeiou] matches any vowel.\n",
    "\n",
    "    Matching Ranges of Characters: Inside square brackets, you can specify a range. For example, [a-z] matches any lowercase letter, and [0-9] matches any digit.\n",
    "\n",
    "    Combining Character Classes and Quantifiers: To match a sequence of digits, you could use \\d+, which matches one or more digits."
   ]
  },
  {
   "cell_type": "code",
   "execution_count": 1,
   "id": "17f82f4e",
   "metadata": {},
   "outputs": [
    {
     "name": "stdout",
     "output_type": "stream",
     "text": [
      "100,000,00.00\n",
      "100\n",
      "000\n",
      "00\n",
      "00\n"
     ]
    }
   ],
   "source": [
    "regex_pattern = r\"[.,]\"    # Do not delete 'r'.\n",
    "\n",
    "import re\n",
    "print(\"\\n\".join(re.split(regex_pattern, input())))"
   ]
  },
  {
   "cell_type": "markdown",
   "id": "4020b4d7",
   "metadata": {},
   "source": [
    "    Email Address Pattern:\n",
    "        Pattern: [\\w.-]+@[\\w.-]+\\.\\w+\n",
    "        This pattern matches a basic email address structure: one or more word characters, possibly with dots or hyphens, followed by an @ symbol, then more word characters (with dots or hyphens), and finally a dot followed by more word characters.\n",
    "\n",
    "    Phone Number Pattern (for a specific format):\n",
    "        Pattern: \\d{3}-\\d{3}-\\d{4}\n",
    "        This matches a phone number formatted as \"123-456-7890\", with exactly three digits, a hyphen, three more digits, another hyphen, and four digits.\n",
    "\n",
    "    HTML Tag Pattern (simplified):\n",
    "        Pattern: <[a-zA-Z]+>\n",
    "        This matches simple HTML tags, starting with a <, followed by one or more alphabetical characters, and closing with a >."
   ]
  },
  {
   "cell_type": "code",
   "execution_count": 2,
   "id": "bec0590e",
   "metadata": {},
   "outputs": [
    {
     "name": "stdout",
     "output_type": "stream",
     "text": [
      "[0, 1, 2, 3, 4, 5, 6, 7, 8, 9]\n",
      "[0, 1, 4, 9, 16, 25, 36, 49, 64, 81]\n",
      "[16, 25, 36, 49, 64]\n"
     ]
    }
   ],
   "source": [
    "# A filter takes a function returning True or False and applies it to a sequence, returning a list of only those members of the\n",
    "# sequence where the function returned True. A Lambda function can be used with filters.\n",
    "\n",
    "l = list(range(10))\n",
    "print(list(l))\n",
    "l = list(map(lambda x:x*x, l))\n",
    "print(l)\n",
    "l = list(filter(lambda x: x > 10 and x < 80, l))\n",
    "print(l)"
   ]
  },
  {
   "cell_type": "markdown",
   "id": "2736c82d",
   "metadata": {},
   "source": [
    "To determine whether a given string matches the email format specified by the regular expression [\\w.-]+@[\\w.-]+\\.\\w+ and return True or False, you can use the re.match() function from the re module in Python. This function checks if the beginning of a given string matches the specified pattern. If you want to ensure that the entire string matches the pattern (not just the beginning), you can use re.fullmatch() instead, which requires the entire string to conform to the regex pattern for a match to occur."
   ]
  },
  {
   "cell_type": "code",
   "execution_count": 3,
   "id": "8be7f33f",
   "metadata": {},
   "outputs": [
    {
     "name": "stdout",
     "output_type": "stream",
     "text": [
      "Line1\n",
      "Line2\n"
     ]
    }
   ],
   "source": [
    "print('Line1\\nLine2')  # Output:\n",
    "                       # Line1\n",
    "                       # Line2\n"
   ]
  },
  {
   "cell_type": "code",
   "execution_count": 4,
   "id": "7fdc96d9",
   "metadata": {},
   "outputs": [
    {
     "name": "stdout",
     "output_type": "stream",
     "text": [
      "Line1\\nLine2\n"
     ]
    }
   ],
   "source": [
    "print(r'Line1\\nLine2')  # Output: Line1\\nLine2\n"
   ]
  },
  {
   "cell_type": "code",
   "execution_count": null,
   "id": "f9be3954",
   "metadata": {},
   "outputs": [],
   "source": [
    "'''here, r string treats / as literal characters than escape characters, so r string can be used where / is used frequently.'''"
   ]
  },
  {
   "cell_type": "code",
   "execution_count": null,
   "id": "0ee99991",
   "metadata": {},
   "outputs": [],
   "source": [
    "import re\n",
    "\n",
    "def fun(s):\n",
    "    # return True if s is a valid email, else return False\n",
    "    pattern = r'[A-Za-z0-9_-]+@[A-Za-z0-9]+\\.[A-Za-z]{1,3}'\n",
    "\n",
    "    if re.fullmatch(pattern,s):\n",
    "        return True\n",
    "    else:\n",
    "        return False\n",
    "\n",
    "def filter_mail(emails):\n",
    "    return list(filter(fun, emails))\n",
    "\n",
    "if __name__ == '__main__':\n",
    "    n = int(input())\n",
    "    emails = []\n",
    "    for _ in range(n):\n",
    "        emails.append(input())\n",
    "\n",
    "filtered_emails = filter_mail(emails)\n",
    "filtered_emails.sort()\n",
    "print(filtered_emails)"
   ]
  }
 ],
 "metadata": {
  "kernelspec": {
   "display_name": "Python 3 (ipykernel)",
   "language": "python",
   "name": "python3"
  },
  "language_info": {
   "codemirror_mode": {
    "name": "ipython",
    "version": 3
   },
   "file_extension": ".py",
   "mimetype": "text/x-python",
   "name": "python",
   "nbconvert_exporter": "python",
   "pygments_lexer": "ipython3",
   "version": "3.11.5"
  }
 },
 "nbformat": 4,
 "nbformat_minor": 5
}
