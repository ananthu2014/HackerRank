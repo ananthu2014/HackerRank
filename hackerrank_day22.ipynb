{
 "cells": [
  {
   "cell_type": "code",
   "execution_count": 1,
   "id": "9f97216f",
   "metadata": {},
   "outputs": [
    {
     "data": {
      "text/plain": [
       "'any()\\n\\nThis expression returns True if any element of the iterable is true.\\nIf the iterable is empty, it will return False. '"
      ]
     },
     "execution_count": 1,
     "metadata": {},
     "output_type": "execute_result"
    }
   ],
   "source": [
    "'''any()\n",
    "\n",
    "This expression returns True if any element of the iterable is true.\n",
    "If the iterable is empty, it will return False. '''"
   ]
  },
  {
   "cell_type": "code",
   "execution_count": 3,
   "id": "11f60f7f",
   "metadata": {},
   "outputs": [
    {
     "data": {
      "text/plain": [
       "True"
      ]
     },
     "execution_count": 3,
     "metadata": {},
     "output_type": "execute_result"
    }
   ],
   "source": [
    "any([1>0,1==0,1<0])"
   ]
  },
  {
   "cell_type": "code",
   "execution_count": 5,
   "id": "ff9af74f",
   "metadata": {},
   "outputs": [
    {
     "data": {
      "text/plain": [
       "True"
      ]
     },
     "execution_count": 5,
     "metadata": {},
     "output_type": "execute_result"
    }
   ],
   "source": [
    "any([1<0,1>0])"
   ]
  },
  {
   "cell_type": "code",
   "execution_count": 7,
   "id": "6c595923",
   "metadata": {},
   "outputs": [
    {
     "data": {
      "text/plain": [
       "'all()\\n\\nThis expression returns True if all of the elements of the iterable are true. If the iterable is empty, it will return True.'"
      ]
     },
     "execution_count": 7,
     "metadata": {},
     "output_type": "execute_result"
    }
   ],
   "source": [
    "'''all()\n",
    "\n",
    "This expression returns True if all of the elements of the iterable are true. If the iterable is empty, it will return True.'''"
   ]
  },
  {
   "cell_type": "code",
   "execution_count": 4,
   "id": "1bc91c9b",
   "metadata": {},
   "outputs": [
    {
     "data": {
      "text/plain": [
       "True"
      ]
     },
     "execution_count": 4,
     "metadata": {},
     "output_type": "execute_result"
    }
   ],
   "source": [
    "all(['a'<'b','b'<'c'])"
   ]
  },
  {
   "cell_type": "code",
   "execution_count": 6,
   "id": "975df7d6",
   "metadata": {},
   "outputs": [
    {
     "data": {
      "text/plain": [
       "False"
      ]
     },
     "execution_count": 6,
     "metadata": {},
     "output_type": "execute_result"
    }
   ],
   "source": [
    "all(['a'<'b','c'<'b'])"
   ]
  },
  {
   "cell_type": "code",
   "execution_count": 8,
   "id": "927de8bc",
   "metadata": {},
   "outputs": [
    {
     "name": "stdout",
     "output_type": "stream",
     "text": [
      "5\n",
      "1 2 3 4 5\n",
      "True\n"
     ]
    }
   ],
   "source": [
    "n = int(input())\n",
    "lis = input().split()\n",
    "a = False\n",
    "\n",
    "# Checking if all numbers are positive\n",
    "if all(int(num) > 0 for num in lis):\n",
    "    # Checking if any number is a palindrome\n",
    "    if any(num == num[::-1] for num in lis):\n",
    "        a = True\n",
    "print(a)\n"
   ]
  },
  {
   "cell_type": "markdown",
   "id": "340d4e5f",
   "metadata": {},
   "source": [
    "The continue statement in Python is used within loops to skip the rest of the code inside the loop for the current iteration and proceed directly to the next iteration of the loop. It effectively \"continues\" to the next loop cycle, ignoring any code that follows it in the loop body for the current iteration.\n",
    "\n",
    "The continue and pass statements in Python serve different purposes within a control flow:\n",
    "continue Statement\n",
    "\n",
    "    Purpose: Used within loops (for or while) to skip the rest of the code inside the loop for the current iteration and proceed directly to the next iteration of the loop.\n",
    "    Use Case: It's useful when you want to skip certain conditions met within the loop and immediately continue with the next iteration. For example, skipping specific values in a list during iteration.\n",
    "\n",
    "pass Statement\n",
    "\n",
    "    Purpose: pass is a null statement in Python. It does nothing when executed. It's syntactically needed to create an empty block of code that does not perform any action or to define a minimal class or function.\n",
    "    Use Case: It's often used as a placeholder for future code. When the interpreter encounters a pass statement, it simply continues executing the next line of code. For example, in the body of a function that has not been implemented yet, or in exception handling where an exception is to be ignored without any specific handling."
   ]
  },
  {
   "cell_type": "code",
   "execution_count": null,
   "id": "97ed1874",
   "metadata": {},
   "outputs": [],
   "source": [
    "'''check if a given string is a floating point number'''\n",
    "t = int(input())\n",
    "for _ in range(t):\n",
    "    s = input()\n",
    "    try:\n",
    "        float(s)\n",
    "        if '.' not in s:\n",
    "            print(False)\n",
    "        else:\n",
    "            print(True)\n",
    "    except ValueError:\n",
    "        print(False)"
   ]
  },
  {
   "cell_type": "code",
   "execution_count": null,
   "id": "b70adbcb",
   "metadata": {},
   "outputs": [],
   "source": [
    "'''one test case error'''\n",
    "# Enter your code here. Read input from STDIN. Print output to STDOUT\n",
    "t = int(input())\n",
    "for i in range(t):\n",
    "    s = input()\n",
    "    a = True\n",
    "    try:\n",
    "        s = float(s)\n",
    "    except Exception as e:\n",
    "        a = False\n",
    "        print(a)\n",
    "        continue\n",
    "    s = str(s)\n",
    "    count = s.count('.')\n",
    "    if count !=1:\n",
    "        a = False\n",
    "        print(a)\n",
    "        continue\n",
    "    if s[-1] == '.':\n",
    "        a = False\n",
    "        print(a)\n",
    "        continue\n",
    "    if '+' in s[1:]:\n",
    "        a = False\n",
    "        print(a)\n",
    "        continue   \n",
    "    if '-' in s[1:]:\n",
    "        a = False \n",
    "        print(a)\n",
    "        continue\n",
    "        \n",
    "    if s[0] not in '-+.0123456789':\n",
    "        a = False \n",
    "        continue\n",
    "    print(a)"
   ]
  }
 ],
 "metadata": {
  "kernelspec": {
   "display_name": "Python 3 (ipykernel)",
   "language": "python",
   "name": "python3"
  },
  "language_info": {
   "codemirror_mode": {
    "name": "ipython",
    "version": 3
   },
   "file_extension": ".py",
   "mimetype": "text/x-python",
   "name": "python",
   "nbconvert_exporter": "python",
   "pygments_lexer": "ipython3",
   "version": "3.11.5"
  }
 },
 "nbformat": 4,
 "nbformat_minor": 5
}
