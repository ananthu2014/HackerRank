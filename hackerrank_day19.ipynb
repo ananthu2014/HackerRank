{
 "cells": [
  {
   "cell_type": "code",
   "execution_count": null,
   "id": "77874ae8",
   "metadata": {},
   "outputs": [],
   "source": [
    "import math\n",
    "\n",
    "class Points(object):\n",
    "    def __init__(self, x, y, z):\n",
    "        self.x = x\n",
    "        self.y = y\n",
    "        self.z = z\n",
    "\n",
    "    def __sub__(self, no):\n",
    "        x_new = self.x - no.x\n",
    "        y_new = self.y - no.y\n",
    "        z_new = self.z - no.z\n",
    "        return Points(x_new,y_new,z_new)\n",
    "\n",
    "    def dot(self, no):\n",
    "        x_new = self.x * no.x\n",
    "        y_new = self.y * no.y\n",
    "        z_new = self.z * no.z\n",
    "        return x_new + y_new + z_new\n",
    "        \n",
    "\n",
    "    def cross(self, no):\n",
    "        x_new = self.y * no.z - self.z * no.y\n",
    "        y_new = -(self.x * no.z - self.z * no.x)\n",
    "        z_new = self.x * no.y - self.y * no.x\n",
    "        return Points(x_new,y_new,z_new)\n",
    "        \n",
    "        \n",
    "    def absolute(self):\n",
    "        return pow((self.x ** 2 + self.y ** 2 + self.z ** 2), 0.5)\n",
    "\n",
    "if __name__ == '__main__':\n",
    "    points = list()\n",
    "    for i in range(4):\n",
    "        a = list(map(float, input().split()))\n",
    "        points.append(a)\n",
    "\n",
    "    a, b, c, d = Points(*points[0]), Points(*points[1]), Points(*points[2]), Points(*points[3])\n",
    "    x = (b - a).cross(c - b)\n",
    "    y = (c - b).cross(d - c)\n",
    "    angle = math.acos(x.dot(y) / (x.absolute() * y.absolute()))\n",
    "\n",
    "    print(\"%.2f\" % math.degrees(angle))"
   ]
  },
  {
   "cell_type": "code",
   "execution_count": 12,
   "id": "9a7070cd",
   "metadata": {},
   "outputs": [
    {
     "name": "stdout",
     "output_type": "stream",
     "text": [
      "The company name: HackerRank and website: www.hackerrank.com\n"
     ]
    }
   ],
   "source": [
    "# Variables are predefined\n",
    "company = 'HackerRank'\n",
    "website = 'www.hackerrank.com'\n",
    "\n",
    "# Constructing and printing a string with these variables\n",
    "output_string = 'The company name: '+company+' and website: '+website\n",
    "print(output_string)  # Outputs: The company name: HackerRank and website: www.hackerrank.com\n"
   ]
  },
  {
   "cell_type": "code",
   "execution_count": null,
   "id": "95bf7702",
   "metadata": {},
   "outputs": [],
   "source": [
    "# Enter your code here. Read input from STDIN. Print output to STDOUT\n",
    "a = list(map(int,input().split()))\n",
    "x = a[0]\n",
    "k = a[1]\n",
    "poly = input()\n",
    "terms = poly.split(' + ')\n",
    "sum1=0\n",
    "for term in terms:\n",
    "        \n",
    "    if 'x' in term:\n",
    "        parts = term.split('x')\n",
    "        coefficient = int(parts[0]) if parts[0] != '' else 1 \n",
    "        power = int(parts[1][1:]) if '^' in parts[1] else 1\n",
    "        sum1 += coefficient * (x ** power)\n",
    "    else:\n",
    "        # If the term is a constant, add it directly\n",
    "        sum1 += int(term)\n",
    "        \n",
    "if sum1 == k:\n",
    "    print(True)\n",
    "else:\n",
    "    print(False)\n"
   ]
  },
  {
   "cell_type": "code",
   "execution_count": null,
   "id": "f7aea2fd",
   "metadata": {},
   "outputs": [],
   "source": [
    "'''this code works only for pythpon2'''\n",
    "'''In python2, the input() is read as a code whereas the input() is read as string in python3'''\n",
    "def evaluate_polynomial(x, k, poly):\n",
    "    # Evaluate the polynomial using the provided x\n",
    "    poly_value = eval(poly)\n",
    "    \n",
    "    # Compare the evaluated polynomial with k\n",
    "    return poly_value == k\n",
    "\n",
    "# Simulating Python 2 input() in Python 3\n",
    "x, k = map(int, input().split())\n",
    "poly = input()\n",
    "\n",
    "# Evaluating and printing the result\n",
    "result = evaluate_polynomial(x, k, poly)\n",
    "print(result)\n"
   ]
  },
  {
   "cell_type": "markdown",
   "id": "25b5cff9",
   "metadata": {},
   "source": [
    "evaluate_polynomial Function: This function takes x, k, and poly (polynomial as a string), evaluates the polynomial by substituting x into it, and compares the result with k.\n",
    "Security Note: In practice, using eval() with untrusted input is a security risk, as it can execute arbitrary code. It's used here strictly for educational purposes, simulating Python 2's input() behavior.\n",
    "Python 2 vs. Python 3: In Python 3, input() reads input as a string, while Python 2's input() evaluates the input as code. We use eval() in Python 3 to mimic Python 2's behavior for this demonstration.\n",
    "\n",
    "This approach closely follows the task's requirements, demonstrating how to evaluate and verify a polynomial expression's value against a given target in a Python 2 context while implementing it in Python 3 for demonstration purposes.\n"
   ]
  },
  {
   "cell_type": "code",
   "execution_count": null,
   "id": "ad93c8e4",
   "metadata": {},
   "outputs": [],
   "source": []
  }
 ],
 "metadata": {
  "kernelspec": {
   "display_name": "Python 3 (ipykernel)",
   "language": "python",
   "name": "python3"
  },
  "language_info": {
   "codemirror_mode": {
    "name": "ipython",
    "version": 3
   },
   "file_extension": ".py",
   "mimetype": "text/x-python",
   "name": "python",
   "nbconvert_exporter": "python",
   "pygments_lexer": "ipython3",
   "version": "3.11.5"
  }
 },
 "nbformat": 4,
 "nbformat_minor": 5
}
