{
 "cells": [
  {
   "cell_type": "code",
   "execution_count": 25,
   "id": "a0996124",
   "metadata": {},
   "outputs": [
    {
     "name": "stdout",
     "output_type": "stream",
     "text": [
      "{2, 3, 4, 5, 6}\n"
     ]
    },
    {
     "ename": "TypeError",
     "evalue": "set.pop() takes no arguments (1 given)",
     "output_type": "error",
     "traceback": [
      "\u001b[1;31m---------------------------------------------------------------------------\u001b[0m",
      "\u001b[1;31mTypeError\u001b[0m                                 Traceback (most recent call last)",
      "Cell \u001b[1;32mIn[25], line 4\u001b[0m\n\u001b[0;32m      2\u001b[0m a\u001b[38;5;241m.\u001b[39mpop()\n\u001b[0;32m      3\u001b[0m \u001b[38;5;28mprint\u001b[39m(a)\n\u001b[1;32m----> 4\u001b[0m a\u001b[38;5;241m.\u001b[39mpop(\u001b[38;5;241m-\u001b[39m\u001b[38;5;241m1\u001b[39m)\n",
      "\u001b[1;31mTypeError\u001b[0m: set.pop() takes no arguments (1 given)"
     ]
    }
   ],
   "source": [
    "a={1,2,3,4,5,6}\n",
    "a.pop()\n",
    "print(a)\n",
    "a.pop(-1)"
   ]
  },
  {
   "cell_type": "code",
   "execution_count": 26,
   "id": "969ee4aa",
   "metadata": {},
   "outputs": [
    {
     "data": {
      "text/plain": [
       "{2, 3, 4, 5, 6}"
      ]
     },
     "execution_count": 26,
     "metadata": {},
     "output_type": "execute_result"
    }
   ],
   "source": [
    "a"
   ]
  },
  {
   "cell_type": "code",
   "execution_count": 27,
   "id": "51b43107",
   "metadata": {},
   "outputs": [
    {
     "data": {
      "text/plain": [
       "4"
      ]
     },
     "execution_count": 27,
     "metadata": {},
     "output_type": "execute_result"
    }
   ],
   "source": [
    "a=[1,2,3,4,5]  #in the case of lists we can specify the index while using pop function but not in case of sets.\n",
    "a.pop(-2)"
   ]
  },
  {
   "cell_type": "code",
   "execution_count": 28,
   "id": "d02a7864",
   "metadata": {},
   "outputs": [
    {
     "data": {
      "text/plain": [
       "[1, 2, 3, 5]"
      ]
     },
     "execution_count": 28,
     "metadata": {},
     "output_type": "execute_result"
    }
   ],
   "source": [
    "a"
   ]
  },
  {
   "cell_type": "code",
   "execution_count": 29,
   "id": "0a632fea",
   "metadata": {},
   "outputs": [],
   "source": [
    "a.remove(2)"
   ]
  },
  {
   "cell_type": "code",
   "execution_count": 30,
   "id": "57e4bdc2",
   "metadata": {},
   "outputs": [
    {
     "data": {
      "text/plain": [
       "[1, 3, 5]"
      ]
     },
     "execution_count": 30,
     "metadata": {},
     "output_type": "execute_result"
    }
   ],
   "source": [
    "a"
   ]
  },
  {
   "cell_type": "code",
   "execution_count": 31,
   "id": "4a3d5948",
   "metadata": {},
   "outputs": [
    {
     "ename": "ValueError",
     "evalue": "list.remove(x): x not in list",
     "output_type": "error",
     "traceback": [
      "\u001b[1;31m---------------------------------------------------------------------------\u001b[0m",
      "\u001b[1;31mValueError\u001b[0m                                Traceback (most recent call last)",
      "Cell \u001b[1;32mIn[31], line 1\u001b[0m\n\u001b[1;32m----> 1\u001b[0m a\u001b[38;5;241m.\u001b[39mremove(\u001b[38;5;241m-\u001b[39m\u001b[38;5;241m1\u001b[39m)\n",
      "\u001b[1;31mValueError\u001b[0m: list.remove(x): x not in list"
     ]
    }
   ],
   "source": [
    "a.remove(-1) #in case of remove, we specify the element, not the list"
   ]
  },
  {
   "cell_type": "code",
   "execution_count": null,
   "id": "b46251a2",
   "metadata": {},
   "outputs": [],
   "source": [
    "n = int(input())\n",
    "ele = set(map(int, input().split()))\n",
    "N = int(input())\n",
    "\n",
    "for i in range(N):\n",
    "    lis = input().split()\n",
    "    if lis[0] == 'pop':\n",
    "        try:\n",
    "            ele.pop()\n",
    "        except Exception as e:\n",
    "            continue\n",
    "    elif lis[0] == 'remove':\n",
    "        try:\n",
    "            ele.remove(int(lis[1]))\n",
    "        except Exception as e:\n",
    "            continue\n",
    "    elif lis[0] == 'discard':\n",
    "        ele.discard(int(lis[1]))\n",
    "\n",
    "# Calculate the sum of elements in the set by converting it to a list and using the sum() function.\n",
    "sum_of_elements = sum(ele)\n",
    "print(sum_of_elements)\n",
    "     "
   ]
  },
  {
   "cell_type": "code",
   "execution_count": 32,
   "id": "46feb91a",
   "metadata": {},
   "outputs": [
    {
     "data": {
      "text/plain": [
       "'the deque from collections can be used for such functionalities like appending from both sides etc.'"
      ]
     },
     "execution_count": 32,
     "metadata": {},
     "output_type": "execute_result"
    }
   ],
   "source": [
    "#  from collections import deque\n",
    "# >>> d = deque()\n",
    "# >>> d.append(1)\n",
    "# >>> print d\n",
    "# deque([1])\n",
    "# >>> d.appendleft(2)\n",
    "# >>> print d\n",
    "# deque([2, 1])\n",
    "# >>> d.clear()\n",
    "# >>> print d\n",
    "# deque([])\n",
    "# >>> d.extend('1')\n",
    "# >>> print d\n",
    "# deque(['1'])\n",
    "# >>> d.extendleft('234')\n",
    "# >>> print d\n",
    "# deque(['4', '3', '2', '1'])\n",
    "# >>> d.count('1')\n",
    "# 1\n",
    "# >>> d.pop()\n",
    "# '1'\n",
    "# >>> print d\n",
    "# deque(['4', '3', '2'])\n",
    "# >>> d.popleft()\n",
    "# '4'\n",
    "# >>> print d\n",
    "# deque(['3', '2'])\n",
    "# >>> d.extend('7896')\n",
    "# >>> print d\n",
    "# deque(['3', '2', '7', '8', '9', '6'])\n",
    "# >>> d.remove('2')\n",
    "# >>> print d\n",
    "# deque(['3', '7', '8', '9', '6'])\n",
    "# >>> d.reverse()\n",
    "# >>> print d\n",
    "# deque(['6', '9', '8', '7', '3'])\n",
    "# >>> d.rotate(3)\n",
    "# >>> print d\n",
    "# deque(['8', '7', '3', '6', '9'])\n",
    "'''the deque from collections can be used for such functionalities like appending from both sides etc.'''"
   ]
  },
  {
   "cell_type": "code",
   "execution_count": null,
   "id": "9d75f6b2",
   "metadata": {},
   "outputs": [],
   "source": [
    "# Enter your code here. Read input from STDIN. Print output to STDOUT\n",
    "from collections import deque\n",
    "N = int(input())\n",
    "final=deque()\n",
    "for  i in range(N):\n",
    "    lis = input().split()\n",
    "    if lis[0] == 'append':\n",
    "        final.append(int(lis[1]))\n",
    "    elif lis[0] == 'appendleft':\n",
    "        final.appendleft(int(lis[1]))\n",
    "    elif lis[0] == 'clear':\n",
    "        final.clear()\n",
    "    elif lis[0] == 'extend':\n",
    "        final.extend(int(lis[1]))\n",
    "    elif lis[0] == 'extendleft':\n",
    "        final.extendleft(int(lis[1]))\n",
    "    elif lis[0] == 'pop':\n",
    "        final.pop()\n",
    "    elif lis[0] == 'popleft':\n",
    "        final.popleft()\n",
    "    elif lis[0] == 'remove':\n",
    "        final.remove(int(lis[1]))\n",
    "    elif lis[0] == 'reverse':\n",
    "        final.reverse()\n",
    "    elif lis[0] == 'rotate':\n",
    "        final.rotate(int(lis[1]))\n",
    "    \n",
    "print(*final)"
   ]
  },
  {
   "cell_type": "code",
   "execution_count": null,
   "id": "ff8cfa33",
   "metadata": {},
   "outputs": [],
   "source": []
  }
 ],
 "metadata": {
  "kernelspec": {
   "display_name": "Python 3 (ipykernel)",
   "language": "python",
   "name": "python3"
  },
  "language_info": {
   "codemirror_mode": {
    "name": "ipython",
    "version": 3
   },
   "file_extension": ".py",
   "mimetype": "text/x-python",
   "name": "python",
   "nbconvert_exporter": "python",
   "pygments_lexer": "ipython3",
   "version": "3.11.5"
  }
 },
 "nbformat": 4,
 "nbformat_minor": 5
}
