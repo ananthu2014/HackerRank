{
 "cells": [
  {
   "cell_type": "code",
   "execution_count": 2,
   "id": "9fd71fb0",
   "metadata": {},
   "outputs": [
    {
     "name": "stdout",
     "output_type": "stream",
     "text": [
      "3 4\n",
      "1 2\n",
      "2 3 4\n",
      "3 4 5 6\n"
     ]
    }
   ],
   "source": [
    "k, m  = map(int,input().split())\n",
    "dict1={}\n",
    "for i in range(k):\n",
    "    lis = list(map(int,input().split()))\n",
    "    dict1[lis[0]] = lis[1:]"
   ]
  },
  {
   "cell_type": "code",
   "execution_count": 3,
   "id": "cb5a07c1",
   "metadata": {},
   "outputs": [
    {
     "data": {
      "text/plain": [
       "{1: [2], 2: [3, 4], 3: [4, 5, 6]}"
      ]
     },
     "execution_count": 3,
     "metadata": {},
     "output_type": "execute_result"
    }
   ],
   "source": [
    "dict1"
   ]
  },
  {
   "cell_type": "code",
   "execution_count": 5,
   "id": "18de07e8",
   "metadata": {},
   "outputs": [
    {
     "data": {
      "text/plain": [
       "'the maximum reminder can be m-1\\ndivident  = divisor * quotient + reminder\\nso, reminder  = divident - divisor*quotient'"
      ]
     },
     "execution_count": 5,
     "metadata": {},
     "output_type": "execute_result"
    }
   ],
   "source": [
    "'''the maximum reminder can be m-1 or divisor - 1\n",
    "divident  = divisor * quotient + reminder\n",
    "so, reminder  = divident - divisor*quotient\n",
    "so to maximise the reminder, either we need to maximise the divident or minimize the divisor or quotient or both '''"
   ]
  },
  {
   "cell_type": "code",
   "execution_count": 6,
   "id": "6e70a906",
   "metadata": {},
   "outputs": [
    {
     "name": "stdout",
     "output_type": "stream",
     "text": [
      "4\n"
     ]
    }
   ],
   "source": [
    "l = [1,2,3,4,4]\n",
    "print(max(l))"
   ]
  },
  {
   "cell_type": "code",
   "execution_count": 7,
   "id": "12afa8ed",
   "metadata": {},
   "outputs": [
    {
     "name": "stdout",
     "output_type": "stream",
     "text": [
      "dict_values([[2], [3, 4], [4, 5, 6]])\n"
     ]
    }
   ],
   "source": [
    "print(dict1.values())"
   ]
  },
  {
   "cell_type": "code",
   "execution_count": 11,
   "id": "0abeb3b7",
   "metadata": {},
   "outputs": [
    {
     "name": "stdout",
     "output_type": "stream",
     "text": [
      "[[2], [3, 4], [4, 5, 6]]\n"
     ]
    }
   ],
   "source": [
    "print(list(dict1.values()))"
   ]
  },
  {
   "cell_type": "code",
   "execution_count": 12,
   "id": "d5d8ea19",
   "metadata": {},
   "outputs": [],
   "source": [
    "a = list(dict1.values())"
   ]
  },
  {
   "cell_type": "code",
   "execution_count": 13,
   "id": "9e8927a8",
   "metadata": {},
   "outputs": [
    {
     "name": "stdout",
     "output_type": "stream",
     "text": [
      "[2]\n"
     ]
    }
   ],
   "source": [
    "print(a[0])"
   ]
  },
  {
   "cell_type": "code",
   "execution_count": 15,
   "id": "b114df6c",
   "metadata": {},
   "outputs": [
    {
     "name": "stdout",
     "output_type": "stream",
     "text": [
      "2 3\n",
      "3 1 2 3\n",
      "4 2 3 4 5\n",
      "1\n"
     ]
    }
   ],
   "source": [
    "def f(x):\n",
    "    return x**2\n",
    "\n",
    "k, m  = map(int,input().split())\n",
    "dict1={}\n",
    "for i in range(k):\n",
    "    lis = list(map(int,input().split()))\n",
    "    dict1[lis[0]] = lis[1:]\n",
    "\n",
    "a = list(dict1.values())\n",
    "sum1 = 0\n",
    "for i in range(k):\n",
    "    maximum  = max(a[i])\n",
    "    sum1  = sum1 + f(maximum) '''here, i have taken maximum value from each list'''\n",
    "    \n",
    "print(sum1%m)"
   ]
  },
  {
   "cell_type": "code",
   "execution_count": 17,
   "id": "a284d608",
   "metadata": {},
   "outputs": [
    {
     "name": "stdout",
     "output_type": "stream",
     "text": [
      "2 3\n",
      "2 33 23\n",
      "3 2 4 5\n",
      "2\n"
     ]
    }
   ],
   "source": [
    "'''here, this is an optimization problem and using itertools, we ca  find all the combinations of the sum from each list\n",
    "This approach can be implemented using the product function from the itertools module, which efficiently computes the cartesian \n",
    "product of input iterables.'''\n",
    "from itertools import product\n",
    "\n",
    "def f(x):\n",
    "    return x**2\n",
    "\n",
    "k, m = map(int, input().split())\n",
    "\n",
    "# Read the lists and store them in a list of lists 'a'\n",
    "a = [list(map(int, input().split()))[1:] for _ in range(k)]\n",
    "\n",
    "# Use itertools.product to compute the cartesian product of lists in 'a',\n",
    "# which gives us all combinations of one element from each list.\n",
    "max_sum_mod = 0\n",
    "for combination in product(*a):\n",
    "    # Compute the sum of the squares of the elements in the combination\n",
    "    current_sum = sum(f(x) for x in combination)\n",
    "    # Take modulo m of the sum\n",
    "    current_sum_mod = current_sum % m\n",
    "    # Update max_sum_mod if the current sum modulo m is greater\n",
    "    max_sum_mod = max(max_sum_mod, current_sum_mod)\n",
    "\n",
    "# Output the maximum sum modulo m\n",
    "print(max_sum_mod)\n"
   ]
  },
  {
   "cell_type": "code",
   "execution_count": 16,
   "id": "c696fb7e",
   "metadata": {},
   "outputs": [
    {
     "name": "stdout",
     "output_type": "stream",
     "text": [
      "8.0\n"
     ]
    }
   ],
   "source": [
    "import math\n",
    "print(math.pow(2,3))"
   ]
  },
  {
   "cell_type": "code",
   "execution_count": 19,
   "id": "20ed979e",
   "metadata": {},
   "outputs": [
    {
     "name": "stdout",
     "output_type": "stream",
     "text": [
      "(33, 2)\n",
      "(33, 4)\n",
      "(33, 5)\n",
      "(23, 2)\n",
      "(23, 4)\n",
      "(23, 5)\n"
     ]
    }
   ],
   "source": [
    "for combination in product(*a):\n",
    "    print(combination)"
   ]
  },
  {
   "cell_type": "code",
   "execution_count": 20,
   "id": "c8793594",
   "metadata": {},
   "outputs": [
    {
     "name": "stdout",
     "output_type": "stream",
     "text": [
      "(1, 4, 7)\n",
      "(1, 4, 8)\n",
      "(1, 4, 9)\n",
      "(1, 5, 7)\n",
      "(1, 5, 8)\n",
      "(1, 5, 9)\n",
      "(1, 6, 7)\n",
      "(1, 6, 8)\n",
      "(1, 6, 9)\n",
      "(2, 4, 7)\n",
      "(2, 4, 8)\n",
      "(2, 4, 9)\n",
      "(2, 5, 7)\n",
      "(2, 5, 8)\n",
      "(2, 5, 9)\n",
      "(2, 6, 7)\n",
      "(2, 6, 8)\n",
      "(2, 6, 9)\n",
      "(3, 4, 7)\n",
      "(3, 4, 8)\n",
      "(3, 4, 9)\n",
      "(3, 5, 7)\n",
      "(3, 5, 8)\n",
      "(3, 5, 9)\n",
      "(3, 6, 7)\n",
      "(3, 6, 8)\n",
      "(3, 6, 9)\n"
     ]
    }
   ],
   "source": [
    "k = [[1,2,3],[4,5,6],[7,8,9]] #here the function takes all the combinations for single element from each list(cartesian product)\n",
    "for i in product(*k):\n",
    "    print(i)"
   ]
  },
  {
   "cell_type": "code",
   "execution_count": 25,
   "id": "dd3478ae",
   "metadata": {},
   "outputs": [],
   "source": [
    "a=(1,2)\n",
    "b = sum(x for x in a)"
   ]
  },
  {
   "cell_type": "code",
   "execution_count": 27,
   "id": "7ecbc536",
   "metadata": {},
   "outputs": [
    {
     "name": "stdout",
     "output_type": "stream",
     "text": [
      "3\n"
     ]
    }
   ],
   "source": [
    "print(b)"
   ]
  },
  {
   "cell_type": "code",
   "execution_count": 28,
   "id": "c4475709",
   "metadata": {},
   "outputs": [
    {
     "name": "stdout",
     "output_type": "stream",
     "text": [
      "4 2 3 4 5\n"
     ]
    }
   ],
   "source": [
    "print(*lis)"
   ]
  },
  {
   "cell_type": "code",
   "execution_count": null,
   "id": "38d3c467",
   "metadata": {},
   "outputs": [],
   "source": [
    "# Enter your code here. Read input from STDIN. Print output to STDOUT\n",
    "from collections import defaultdict\n",
    "n,m = map(int,input().split())\n",
    "d = defaultdict(list)\n",
    "for i in range(n):\n",
    "    d['A'].append(input())\n",
    "for j in range(m):\n",
    "    d['B'].append(input())\n",
    "    \n",
    "for i in d['B']:\n",
    "    lis=[]\n",
    "    for j,k in enumerate(d['A']):\n",
    "        if i == k:\n",
    "            lis.append(j+1)\n",
    "    if len(lis) ==0:\n",
    "        print(-1)\n",
    "    else:\n",
    "        print(*lis)"
   ]
  }
 ],
 "metadata": {
  "kernelspec": {
   "display_name": "Python 3 (ipykernel)",
   "language": "python",
   "name": "python3"
  },
  "language_info": {
   "codemirror_mode": {
    "name": "ipython",
    "version": 3
   },
   "file_extension": ".py",
   "mimetype": "text/x-python",
   "name": "python",
   "nbconvert_exporter": "python",
   "pygments_lexer": "ipython3",
   "version": "3.11.5"
  }
 },
 "nbformat": 4,
 "nbformat_minor": 5
}
