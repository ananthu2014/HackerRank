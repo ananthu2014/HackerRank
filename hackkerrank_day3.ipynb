{
 "cells": [
  {
   "cell_type": "code",
   "execution_count": 8,
   "id": "45feca60",
   "metadata": {},
   "outputs": [],
   "source": [
    "# Complete the solve function below. this function will captialize the first alphabet of each wordb\n",
    "def solve(s):\n",
    "    words = s.split(' ')\n",
    "    new=''\n",
    "    for i in words:\n",
    "        new = new + str.capitalize(i) + ' '\n",
    "    return new"
   ]
  },
  {
   "cell_type": "code",
   "execution_count": 13,
   "id": "deee2f87",
   "metadata": {},
   "outputs": [],
   "source": [
    "a=['anan','anan']\n",
    "for  i in a:\n",
    "    if i in a:\n",
    "        count = count+1"
   ]
  },
  {
   "cell_type": "code",
   "execution_count": 14,
   "id": "573c0277",
   "metadata": {},
   "outputs": [
    {
     "name": "stdout",
     "output_type": "stream",
     "text": [
      "2\n"
     ]
    }
   ],
   "source": [
    "print(count)"
   ]
  },
  {
   "cell_type": "code",
   "execution_count": 15,
   "id": "494651b7",
   "metadata": {},
   "outputs": [
    {
     "name": "stdout",
     "output_type": "stream",
     "text": [
      "['banana', 'cherry', 'apple']\n",
      "['banana', 'cherry']\n"
     ]
    }
   ],
   "source": [
    "words = [\"apple\", \"banana\", \"cherry\", \"apple\"]\n",
    "\n",
    "# Using remove() - removes the first occurrence of \"apple\"\n",
    "try:\n",
    "    words.remove(\"apple\")\n",
    "except ValueError:\n",
    "    print(\"The word is not in the list.\")\n",
    "print(words)  # [\"banana\", \"cherry\", \"apple\"]\n",
    "\n",
    "# Using list comprehension - removes all occurrences of \"apple\"\n",
    "words = [word for word in words if word != \"apple\"]\n",
    "print(words)  # [\"banana\", \"cherry\"]\n"
   ]
  },
  {
   "cell_type": "code",
   "execution_count": 16,
   "id": "9033e16f",
   "metadata": {},
   "outputs": [],
   "source": [
    "words = [\"apple\", \"banana\", \"cherry\", \"apple\"]"
   ]
  },
  {
   "cell_type": "code",
   "execution_count": 18,
   "id": "81c9353e",
   "metadata": {},
   "outputs": [
    {
     "data": {
      "text/plain": [
       "'apple'"
      ]
     },
     "execution_count": 18,
     "metadata": {},
     "output_type": "execute_result"
    }
   ],
   "source": [
    "words.pop(0)"
   ]
  },
  {
   "cell_type": "code",
   "execution_count": 19,
   "id": "43a34652",
   "metadata": {},
   "outputs": [
    {
     "data": {
      "text/plain": [
       "['banana', 'cherry', 'apple']"
      ]
     },
     "execution_count": 19,
     "metadata": {},
     "output_type": "execute_result"
    }
   ],
   "source": [
    "words"
   ]
  },
  {
   "cell_type": "code",
   "execution_count": 20,
   "id": "5bb39860",
   "metadata": {},
   "outputs": [
    {
     "data": {
      "text/plain": [
       "'banana'"
      ]
     },
     "execution_count": 20,
     "metadata": {},
     "output_type": "execute_result"
    }
   ],
   "source": [
    "words[0]"
   ]
  },
  {
   "cell_type": "code",
   "execution_count": 59,
   "id": "2a6a7d69",
   "metadata": {
    "scrolled": true
   },
   "outputs": [
    {
     "name": "stdout",
     "output_type": "stream",
     "text": [
      "5\n",
      "apple\n",
      "orange\n",
      "grape\n",
      "apple\n",
      "banana\n"
     ]
    }
   ],
   "source": [
    "# Enter your code here. Read input from STDIN. Print output to STDOUT\n",
    "n = int(input().strip())  # Read and convert the first line to an integer\n",
    "words = []  # Initialize an empty list to store the words\n",
    "\n",
    "for i in range(n):\n",
    "    word = input().strip()  # Read each word and strip whitespace\n",
    "    words.append(word)  # Add the word to the list\n",
    "\n"
   ]
  },
  {
   "cell_type": "code",
   "execution_count": 98,
   "id": "244f9f80",
   "metadata": {},
   "outputs": [
    {
     "name": "stdout",
     "output_type": "stream",
     "text": [
      "['apple', 'orange', 'grape', 'apple', 'banana']\n"
     ]
    }
   ],
   "source": [
    "list1 = words.copy()\n",
    "print(list)\n",
    "4\n",
    "bcdef\n",
    "abcdefg\n",
    "bcde\n",
    "bcdef"
   ]
  },
  {
   "cell_type": "code",
   "execution_count": 103,
   "id": "42466390",
   "metadata": {},
   "outputs": [
    {
     "name": "stdout",
     "output_type": "stream",
     "text": [
      "4\n",
      "bcdef\n",
      "abcdefg\n",
      "bcde\n",
      "bcdef\n",
      "2\n",
      "2 1 1 "
     ]
    }
   ],
   "source": [
    "# Enter your code here. Read input from STDIN. Print output to STDOUT\n",
    "n = int(input().strip())  # Read and convert the first line to an integer\n",
    "words = []  # Initialize an empty list to store the words\n",
    "\n",
    "for i in range(n):\n",
    "    word = input().strip()  # Read each word and strip whitespace\n",
    "    words.append(word)  # Add the word to the list\n",
    "\n",
    "    \n",
    "list1 = words.copy()\n",
    "unique = 0\n",
    "freq = []\n",
    "list1_copy = list1.copy()\n",
    "for i in list1_copy:\n",
    "    if i in list1:\n",
    "        count = 1\n",
    "        list1.remove(i)\n",
    "        for j in list1:\n",
    "            if i==j:\n",
    "                count = count+1\n",
    "                list1.remove(j)\n",
    "\n",
    "        freq.append(count)\n",
    "        unique = unique+1\n",
    "print(unique)\n",
    "for i in range(len(freq)):\n",
    "    print(freq[i],end=' ')\n",
    "    \n",
    "'''This code was written by me; but since the remove function is used, the code is running very slow and im getting time limit\n",
    "exceeded error. Alsoi have used nested looping, which makes the time complexity o(n2)'''"
   ]
  },
  {
   "cell_type": "code",
   "execution_count": 97,
   "id": "857a324c",
   "metadata": {},
   "outputs": [
    {
     "name": "stdout",
     "output_type": "stream",
     "text": [
      "3\n",
      "[2, 1, 1, 1]\n"
     ]
    }
   ],
   "source": [
    "print(unique)\n",
    "print(freq)"
   ]
  },
  {
   "cell_type": "code",
   "execution_count": 36,
   "id": "9b31ef81",
   "metadata": {},
   "outputs": [
    {
     "name": "stdout",
     "output_type": "stream",
     "text": [
      "['banana', 'cherry', 'apple']\n"
     ]
    }
   ],
   "source": [
    "k = [\"apple\", \"banana\", \"cherry\", \"apple\"]\n",
    "a = k.pop(0)\n",
    "print(k)"
   ]
  },
  {
   "cell_type": "code",
   "execution_count": 37,
   "id": "6e7be510",
   "metadata": {},
   "outputs": [
    {
     "name": "stdout",
     "output_type": "stream",
     "text": [
      "['banana', 'cherry', 'apple']\n"
     ]
    }
   ],
   "source": [
    "print(k)"
   ]
  },
  {
   "cell_type": "code",
   "execution_count": 38,
   "id": "f2d18322",
   "metadata": {},
   "outputs": [
    {
     "name": "stdout",
     "output_type": "stream",
     "text": [
      "apple\n"
     ]
    }
   ],
   "source": [
    "print(a)"
   ]
  },
  {
   "cell_type": "code",
   "execution_count": 47,
   "id": "5a7dd26f",
   "metadata": {},
   "outputs": [],
   "source": [
    "k = [\"apple\", \"banana\", \"cherry\", \"apple\"]\n",
    "a=k.remove('apple')"
   ]
  },
  {
   "cell_type": "code",
   "execution_count": 48,
   "id": "f8aedc5b",
   "metadata": {},
   "outputs": [
    {
     "name": "stdout",
     "output_type": "stream",
     "text": [
      "['banana', 'cherry', 'apple']\n"
     ]
    }
   ],
   "source": [
    "print(k)"
   ]
  },
  {
   "cell_type": "code",
   "execution_count": 49,
   "id": "2d91af21",
   "metadata": {},
   "outputs": [
    {
     "name": "stdout",
     "output_type": "stream",
     "text": [
      "None\n"
     ]
    }
   ],
   "source": [
    "print(a)"
   ]
  },
  {
   "cell_type": "code",
   "execution_count": 106,
   "id": "44d2e41f",
   "metadata": {},
   "outputs": [
    {
     "name": "stdout",
     "output_type": "stream",
     "text": [
      "3\n",
      "2 1 1 "
     ]
    }
   ],
   "source": [
    "'''this is another approach using dictionaries as the above code was slow to run; this code will be fast!'''\n",
    "\n",
    "unique_count = 0\n",
    "word_frequencies = {}\n",
    "order_of_words = []\n",
    "\n",
    "for word in words:\n",
    "    if word not in word_frequencies:\n",
    "        unique_count += 1\n",
    "        order_of_words.append(word)\n",
    "        word_frequencies[word] = 1\n",
    "    else:\n",
    "        word_frequencies[word] += 1\n",
    "\n",
    "# Displaying the results\n",
    "print(unique_count)\n",
    "for word in order_of_words:\n",
    "    print(word_frequencies[word], end=' ')"
   ]
  },
  {
   "cell_type": "code",
   "execution_count": 107,
   "id": "7771c8c8",
   "metadata": {},
   "outputs": [
    {
     "name": "stdout",
     "output_type": "stream",
     "text": [
      "5\n",
      "a\n",
      "v\n",
      "e\n",
      "t\n",
      "a\n",
      "4\n",
      "2 1 1 1 "
     ]
    }
   ],
   "source": [
    "'''The issue of a time limit being exceeded is likely due to the inefficiency in the algorithm used in your code, particularly\n",
    "with the nested loop structure and the use of the remove() method, which can be quite slow for large lists. Here's a breakdown\n",
    "of the inefficiencies:Nested Loop: The use of a nested loop (for j in list1) within another loop (for i in list1_copy) leads to\n",
    "a time complexity of O(n^2), which becomes problematic with larger lists.remove() Method: This method has to search through the\n",
    "list to find the element to remove, which is an O(n) operation in itself. When used within a loop, it greatly increases the time\n",
    "complexity.To optimize the code and avoid the time limit exceeded error, we can use a different approach to count the\n",
    "frequencies and identify unique elements. One efficient way is to use a dictionary (or a Counter from the collections module)\n",
    "to count occurrences. Here's how you can do it:'''\n",
    "\n",
    "from collections import Counter\n",
    "# Enter your code here. Read input from STDIN. Print output to STDOUT\n",
    "n = int(input().strip())  # Read and convert the first line to an integer\n",
    "words = []  # Initialize an empty list to store the words\n",
    "\n",
    "for i in range(n):\n",
    "    word = input().strip()  # Read each word and strip whitespace\n",
    "    words.append(word)  # Add the word to the list\n",
    "\n",
    "    \n",
    "# Assuming 'words' is the list of words you've read\n",
    "counter = Counter(words)  # Count the occurrences of each word\n",
    "unique = sum(1 for count in counter.values())  # Count unique words\n",
    "'''unique can be also the number of elements in dictionary as key value pairs which can be found out by taking the len'''\n",
    "# Display the results\n",
    "print(unique)\n",
    "for word, count in counter.items():\n",
    "    print(count, end=' ')\n"
   ]
  },
  {
   "cell_type": "code",
   "execution_count": 108,
   "id": "d20f5fdb",
   "metadata": {},
   "outputs": [
    {
     "name": "stdout",
     "output_type": "stream",
     "text": [
      "Counter({'a': 2, 'v': 1, 'e': 1, 't': 1})\n"
     ]
    }
   ],
   "source": [
    "print(counter)"
   ]
  },
  {
   "cell_type": "code",
   "execution_count": 109,
   "id": "32d21049",
   "metadata": {},
   "outputs": [
    {
     "data": {
      "text/plain": [
       "4"
      ]
     },
     "execution_count": 109,
     "metadata": {},
     "output_type": "execute_result"
    }
   ],
   "source": [
    "len(counter)"
   ]
  },
  {
   "cell_type": "code",
   "execution_count": null,
   "id": "cc1ba05c",
   "metadata": {},
   "outputs": [],
   "source": []
  }
 ],
 "metadata": {
  "kernelspec": {
   "display_name": "Python 3 (ipykernel)",
   "language": "python",
   "name": "python3"
  },
  "language_info": {
   "codemirror_mode": {
    "name": "ipython",
    "version": 3
   },
   "file_extension": ".py",
   "mimetype": "text/x-python",
   "name": "python",
   "nbconvert_exporter": "python",
   "pygments_lexer": "ipython3",
   "version": "3.11.5"
  }
 },
 "nbformat": 4,
 "nbformat_minor": 5
}
