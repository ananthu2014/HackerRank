{
 "cells": [
  {
   "cell_type": "code",
   "execution_count": 5,
   "id": "02097885",
   "metadata": {},
   "outputs": [
    {
     "name": "stdout",
     "output_type": "stream",
     "text": [
      "<class 'int'>\n",
      "95\n"
     ]
    }
   ],
   "source": [
    "a = eval('9'+'5')\n",
    "print(type(a))\n",
    "print(a)"
   ]
  },
  {
   "cell_type": "code",
   "execution_count": 6,
   "id": "9e1c264e",
   "metadata": {},
   "outputs": [
    {
     "name": "stdout",
     "output_type": "stream",
     "text": [
      "14\n",
      "5\n"
     ]
    }
   ],
   "source": [
    "a = eval(\"9 + 5\")\n",
    "print(a)\n",
    "x = 2\n",
    "b = eval(\"x + 3\")\n",
    "print(b)\n"
   ]
  },
  {
   "cell_type": "code",
   "execution_count": 11,
   "id": "929edd69",
   "metadata": {},
   "outputs": [
    {
     "name": "stdout",
     "output_type": "stream",
     "text": [
      "5\n"
     ]
    }
   ],
   "source": [
    "eval(\"print(2+3)\")"
   ]
  },
  {
   "cell_type": "markdown",
   "id": "fd11bcc0",
   "metadata": {},
   "source": [
    "The eval() expression is a very powerful built-in function of Python. It helps in evaluating an expression. The expression can be a Python statement, or a code object.  Here, eval() can also be used to work with Python keywords or defined functions and variables. These would normally be stored as strings. "
   ]
  },
  {
   "cell_type": "markdown",
   "id": "e97a1903",
   "metadata": {},
   "source": [
    " zip([iterable, ...])\n",
    "\n",
    "    This function returns a list of tuples, where the i-th tuple contains the i-th element from each of the argument sequences or iterables. The returned list is truncated in length to the length of the shortest argument sequence. When there are multiple arguments which are all of the same length, zip() is similar to map() with an initial argument of None. With a single sequence argument, it returns a list of 1-tuples. With no arguments, it returns an empty list.\n",
    "\n",
    "    The left-to-right evaluation order of the iterables is guaranteed. This makes possible an idiom for clustering a data series into n-length groups using zip(*[iter(s)]*n).\n",
    "\n",
    "    zip() in conjunction with the * operator can be used to unzip a list:\n",
    "\n"
   ]
  },
  {
   "cell_type": "code",
   "execution_count": 12,
   "id": "b3d9a95c",
   "metadata": {},
   "outputs": [],
   "source": [
    "x = [1, 2, 3]\n",
    "y = [4, 5, 6]\n",
    "zipped = zip(x, y)\n"
   ]
  },
  {
   "cell_type": "code",
   "execution_count": 13,
   "id": "9265f2ba",
   "metadata": {},
   "outputs": [
    {
     "data": {
      "text/plain": [
       "<zip at 0x2bbfcd61500>"
      ]
     },
     "execution_count": 13,
     "metadata": {},
     "output_type": "execute_result"
    }
   ],
   "source": [
    "zipped"
   ]
  },
  {
   "cell_type": "code",
   "execution_count": 14,
   "id": "70062a2e",
   "metadata": {},
   "outputs": [
    {
     "name": "stdout",
     "output_type": "stream",
     "text": [
      "[(1, 4), (2, 5), (3, 6)]\n"
     ]
    }
   ],
   "source": [
    "print(list(zipped))"
   ]
  },
  {
   "cell_type": "code",
   "execution_count": 26,
   "id": "fbdbffc5",
   "metadata": {},
   "outputs": [
    {
     "name": "stdout",
     "output_type": "stream",
     "text": [
      "[[1, 2, 3], [6, 5, 4], [7, 8, 9]]\n",
      "[1, 2, 3, 6, 5, 4, 7, 8, 9]\n",
      "(1, 6, 7) (2, 5, 8) (3, 4, 9)\n",
      "([1, 2, 3],) ([6, 5, 4],) ([7, 8, 9],)\n",
      "(1,) (2,) (3,) (6,) (5,) (4,) (7,) (8,) (9,)\n"
     ]
    }
   ],
   "source": [
    "A = [1,2,3]\n",
    "B = [6,5,4]\n",
    "C = [7,8,9]\n",
    "X = [A] + [B] + [C]\n",
    "Y = A + B + C\n",
    "print(X)\n",
    "print(Y)\n",
    "print (*zip(*X))\n",
    "print(*zip(X))\n",
    "print(*zip(Y))\n"
   ]
  },
  {
   "cell_type": "code",
   "execution_count": 28,
   "id": "c1e85af9",
   "metadata": {},
   "outputs": [],
   "source": [
    "a = ((89.0, 90.0, 91.0), (90.0, 91.0, 92.0), (78.0, 85.0, 83.0), (93.0, 88.0, 89.0), (80.0, 86.0, 90.5))"
   ]
  },
  {
   "cell_type": "code",
   "execution_count": 32,
   "id": "4a4e6468",
   "metadata": {},
   "outputs": [
    {
     "name": "stdout",
     "output_type": "stream",
     "text": [
      "4 2\n",
      "1 2 3\n",
      "1 2 3\n",
      "1.0\n",
      "2.0\n",
      "3.0\n"
     ]
    }
   ],
   "source": [
    "# Enter your code here. Read input from STDIN. Print output to STDOUT\n",
    "a = list(map(int,input().split()))\n",
    "n = a[0] #number of students\n",
    "x = a[1] #number of subjects\n",
    "data=[]\n",
    "for i in range(x):\n",
    "    marks =list(map(float,input().split()))\n",
    "    data.append(marks)\n",
    "    \n",
    "y = list(zip(*data))\n",
    "for i in y:\n",
    "    avg=0\n",
    "    for j in i:\n",
    "        avg +=j\n",
    "    print(avg/len(i))"
   ]
  },
  {
   "cell_type": "code",
   "execution_count": null,
   "id": "bcb138c1",
   "metadata": {},
   "outputs": [],
   "source": []
  }
 ],
 "metadata": {
  "kernelspec": {
   "display_name": "Python 3 (ipykernel)",
   "language": "python",
   "name": "python3"
  },
  "language_info": {
   "codemirror_mode": {
    "name": "ipython",
    "version": 3
   },
   "file_extension": ".py",
   "mimetype": "text/x-python",
   "name": "python",
   "nbconvert_exporter": "python",
   "pygments_lexer": "ipython3",
   "version": "3.11.5"
  }
 },
 "nbformat": 4,
 "nbformat_minor": 5
}
