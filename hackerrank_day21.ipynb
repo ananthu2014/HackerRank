{
 "cells": [
  {
   "cell_type": "code",
   "execution_count": 1,
   "id": "c8514b67",
   "metadata": {},
   "outputs": [
    {
     "data": {
      "text/plain": [
       "10"
      ]
     },
     "execution_count": 1,
     "metadata": {},
     "output_type": "execute_result"
    }
   ],
   "source": [
    "sum([1,2,3,4])"
   ]
  },
  {
   "cell_type": "code",
   "execution_count": 3,
   "id": "664df5c2",
   "metadata": {},
   "outputs": [
    {
     "data": {
      "text/plain": [
       "10"
      ]
     },
     "execution_count": 3,
     "metadata": {},
     "output_type": "execute_result"
    }
   ],
   "source": [
    "a=[1,2,3,4]\n",
    "sum(a)"
   ]
  },
  {
   "cell_type": "code",
   "execution_count": 6,
   "id": "4f170610",
   "metadata": {},
   "outputs": [],
   "source": [
    "# Enter your code here. Read input from STDIN. Print output to STDOUT\n",
    "a = int(input())\n",
    "s = set(map(int,input().split()))\n",
    "n = int(input())\n",
    "for i in range(n):\n",
    "    operation = input().split()\n",
    "    e = set(map(int,input().split()))\n",
    "    if operation[0] == 'intersection_update':\n",
    "        s.intersection_update(e)\n",
    "    elif operation[0] == 'symmetric_difference_update':\n",
    "        s.symmetric_difference_update(e)\n",
    "    elif operation[0] == 'difference_update':\n",
    "        s.difference_update(e)\n",
    "    elif operation[0] == 'update':\n",
    "        s.update(e)\n",
    "    elif operation[0] == 'difference_update':\n",
    "        s.difference_update(e)\n",
    "    \n",
    "    \n",
    "print(sum(s)) "
   ]
  },
  {
   "cell_type": "code",
   "execution_count": 8,
   "id": "0226b060",
   "metadata": {},
   "outputs": [
    {
     "name": "stdout",
     "output_type": "stream",
     "text": [
      "5 3\n",
      "10 2 5\n",
      "7 1 0\n",
      "9 9 9\n",
      "9 23 12\n",
      "6 5 9\n",
      "1\n"
     ]
    }
   ],
   "source": [
    "import os\n",
    "import random\n",
    "import re\n",
    "import sys\n",
    "\n",
    "\n",
    "\n",
    "if __name__ == '__main__':\n",
    "    nm = input().split()\n",
    "\n",
    "    n = int(nm[0])\n",
    "\n",
    "    m = int(nm[1])\n",
    "\n",
    "    arr = []\n",
    "\n",
    "    for _ in range(n):\n",
    "        arr.append(list(map(int, input().rstrip().split())))\n",
    "\n",
    "    k = int(input())\n",
    "    \n",
    "    \n"
   ]
  },
  {
   "cell_type": "code",
   "execution_count": 9,
   "id": "1138d15e",
   "metadata": {},
   "outputs": [
    {
     "data": {
      "text/plain": [
       "[[10, 2, 5], [7, 1, 0], [9, 9, 9], [9, 23, 12], [6, 5, 9]]"
      ]
     },
     "execution_count": 9,
     "metadata": {},
     "output_type": "execute_result"
    }
   ],
   "source": [
    "arr"
   ]
  },
  {
   "cell_type": "code",
   "execution_count": 11,
   "id": "f78829bd",
   "metadata": {},
   "outputs": [
    {
     "data": {
      "text/plain": [
       "10"
      ]
     },
     "execution_count": 11,
     "metadata": {},
     "output_type": "execute_result"
    }
   ],
   "source": [
    "arr[0][0]"
   ]
  },
  {
   "cell_type": "code",
   "execution_count": 15,
   "id": "02485fd7",
   "metadata": {},
   "outputs": [],
   "source": [
    "arr = sorted(arr,key = lambda x:arr[:k])"
   ]
  },
  {
   "cell_type": "code",
   "execution_count": 16,
   "id": "6d2f7b9a",
   "metadata": {},
   "outputs": [
    {
     "data": {
      "text/plain": [
       "[[10, 2, 5], [7, 1, 0], [9, 9, 9], [9, 23, 12], [6, 5, 9]]"
      ]
     },
     "execution_count": 16,
     "metadata": {},
     "output_type": "execute_result"
    }
   ],
   "source": [
    "arr"
   ]
  },
  {
   "cell_type": "code",
   "execution_count": 22,
   "id": "bccf01c4",
   "metadata": {},
   "outputs": [
    {
     "name": "stdout",
     "output_type": "stream",
     "text": [
      "7 1 0\n",
      "10 2 5\n",
      "6 5 9\n",
      "9 9 9\n",
      "9 23 12\n"
     ]
    }
   ],
   "source": [
    "lis=[]\n",
    "for i in range(len(arr)):\n",
    "    lis.append(arr[i][k])\n",
    "        \n",
    "lis = sorted(lis)\n",
    "new=[]\n",
    "for i in range(len(lis)):\n",
    "    for j in range(len(arr)):\n",
    "        if lis[i] == arr[j][k]:\n",
    "            print(*arr[j])\n",
    "            arr.remove(arr[j])\n",
    "            break "
   ]
  },
  {
   "cell_type": "code",
   "execution_count": 25,
   "id": "45486aba",
   "metadata": {},
   "outputs": [],
   "source": [
    " # Sorting the rows of the matrix based on the k-th column\n",
    "arr.sort(key=lambda x: x[k])\n",
    "\n",
    "    # Printing the sorted matrix\n",
    "for row in arr:\n",
    "    print(*row)"
   ]
  },
  {
   "cell_type": "code",
   "execution_count": 18,
   "id": "2ce7d81c",
   "metadata": {},
   "outputs": [
    {
     "name": "stdout",
     "output_type": "stream",
     "text": [
      "dict_items([('apple', 5), ('banana', 3), ('cherry', 8), ('date', 2)])\n",
      "Sorted Dictionary in Ascending Order: {'date': 2, 'banana': 3, 'apple': 5, 'cherry': 8}\n",
      "Sorted Dictionary in Descending Order: {'cherry': 8, 'apple': 5, 'banana': 3, 'date': 2}\n"
     ]
    }
   ],
   "source": [
    "# Define the dictionary\n",
    "my_dict = {'apple': 5, 'banana': 3, 'cherry': 8, 'date': 2}\n",
    "\n",
    "# Sort the dictionary by values in ascending order\n",
    "sorted_dict_asc = sorted(my_dict.items(), key=lambda item: item[1])\n",
    "print(my_dict.items())\n",
    "\n",
    "# To convert it back into a dictionary\n",
    "sorted_dict_asc = dict(sorted_dict_asc)\n",
    "\n",
    "# For descending order\n",
    "sorted_dict_desc = sorted(my_dict.items(), key=lambda item: item[1], reverse=True)\n",
    "sorted_dict_desc = dict(sorted_dict_desc)\n",
    "\n",
    "print(\"Sorted Dictionary in Ascending Order:\", sorted_dict_asc)\n",
    "print(\"Sorted Dictionary in Descending Order:\", sorted_dict_desc)\n"
   ]
  }
 ],
 "metadata": {
  "kernelspec": {
   "display_name": "Python 3 (ipykernel)",
   "language": "python",
   "name": "python3"
  },
  "language_info": {
   "codemirror_mode": {
    "name": "ipython",
    "version": 3
   },
   "file_extension": ".py",
   "mimetype": "text/x-python",
   "name": "python",
   "nbconvert_exporter": "python",
   "pygments_lexer": "ipython3",
   "version": "3.11.5"
  }
 },
 "nbformat": 4,
 "nbformat_minor": 5
}
