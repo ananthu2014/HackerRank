{
 "cells": [
  {
   "cell_type": "code",
   "execution_count": 1,
   "id": "15895c28",
   "metadata": {},
   "outputs": [],
   "source": [
    "import re"
   ]
  },
  {
   "cell_type": "code",
   "execution_count": 2,
   "id": "d4bc37b5",
   "metadata": {},
   "outputs": [
    {
     "name": "stdout",
     "output_type": "stream",
     "text": [
      "Found email: example@email.com\n"
     ]
    }
   ],
   "source": [
    "# Compile a regex pattern to match email addresses\n",
    "email_pattern = re.compile(r'\\b[\\w.-]+@[\\w.-]+\\.\\w+\\b')\n",
    "\n",
    "# Use the compiled regex object to search for emails in a string\n",
    "match = email_pattern.search('My email is example@email.com')\n",
    "if match:\n",
    "    print('Found email:', match.group())\n"
   ]
  },
  {
   "cell_type": "code",
   "execution_count": 3,
   "id": "68b211c8",
   "metadata": {},
   "outputs": [
    {
     "data": {
      "text/plain": [
       "'re.compile() is a Python function used in regular expressions (regex) processing.\\nIt compiles a regular expression pattern into a regex object, which can be used for efficient pattern matching.\\nThis compilation step is helpful when you need to apply the same regex pattern multiple times, as it reduces the overhead\\nof recompiling the pattern each time you use it.\\nThe re.compile() function takes a regex pattern as its argument and returns a regex object.\\nYou can then use the resulting regex object to perform various regex operations, such as searching, matching, and \\nreplacing, on strings efficiently.\\n\\nExample:\\n\\nIn summary, re.compile() compiles a regex pattern into a regex object for efficient and reusable pattern matching in Python.\\n'"
      ]
     },
     "execution_count": 3,
     "metadata": {},
     "output_type": "execute_result"
    }
   ],
   "source": [
    "'''re.compile() is a Python function used in regular expressions (regex) processing.\n",
    "It compiles a regular expression pattern into a regex object, which can be used for efficient pattern matching.\n",
    "This compilation step is helpful when you need to apply the same regex pattern multiple times, as it reduces the overhead\n",
    "of recompiling the pattern each time you use it.\n",
    "The re.compile() function takes a regex pattern as its argument and returns a regex object.\n",
    "You can then use the resulting regex object to perform various regex operations, such as searching, matching, and \n",
    "replacing, on strings efficiently.\n",
    "\n",
    "Example:\n",
    "\n",
    "In summary, re.compile() compiles a regex pattern into a regex object for efficient and reusable pattern matching in Python.\n",
    "'''"
   ]
  },
  {
   "cell_type": "code",
   "execution_count": null,
   "id": "64f8808b",
   "metadata": {},
   "outputs": [],
   "source": [
    "# Enter your code here. Read input from STDIN. Print output to STDOUT\n",
    "import re\n",
    "t = int(input())\n",
    "for i in range(t):\n",
    "    string  = input()\n",
    "    try:\n",
    "        re.compile(string)\n",
    "        print('True')\n",
    "    except:\n",
    "        print('False')"
   ]
  },
  {
   "cell_type": "code",
   "execution_count": null,
   "id": "6396a9dc",
   "metadata": {},
   "outputs": [],
   "source": [
    "'''itertools.combinations_with_replacement(iterable, r)\n",
    "This tool returns length subsequences of elements from the input iterable allowing individual elements to be repeated\n",
    "more than once.\n",
    "\n",
    "Combinations are emitted in lexicographic sorted order. So, if the input iterable is sorted, the combination tuples\n",
    "will be produced in sorted order'''"
   ]
  },
  {
   "cell_type": "code",
   "execution_count": null,
   "id": "045f5c63",
   "metadata": {},
   "outputs": [],
   "source": [
    "'''combinations ---> unique \n",
    "combinations_with_replacement ------> duplicates alos considered'''"
   ]
  },
  {
   "cell_type": "code",
   "execution_count": 4,
   "id": "1adea3e9",
   "metadata": {},
   "outputs": [
    {
     "name": "stdout",
     "output_type": "stream",
     "text": [
      "12\n"
     ]
    }
   ],
   "source": [
    "a=('1','2')\n",
    "print(''.join(a))"
   ]
  },
  {
   "cell_type": "code",
   "execution_count": null,
   "id": "dcc72a89",
   "metadata": {},
   "outputs": [],
   "source": [
    "# Enter your code here. Read input from STDIN. Print output to STDOUT\n",
    "from itertools import combinations_with_replacement\n",
    "\n",
    "inp = input().split()\n",
    "string = sorted(inp[0])\n",
    "k = int(inp[1])\n",
    "lis = list(combinations_with_replacement(string,k))\n",
    "for i in lis:\n",
    "    print(''.join(i))"
   ]
  },
  {
   "cell_type": "code",
   "execution_count": null,
   "id": "4a3d4541",
   "metadata": {},
   "outputs": [],
   "source": []
  },
  {
   "cell_type": "code",
   "execution_count": null,
   "id": "043c8420",
   "metadata": {},
   "outputs": [],
   "source": []
  }
 ],
 "metadata": {
  "kernelspec": {
   "display_name": "Python 3 (ipykernel)",
   "language": "python",
   "name": "python3"
  },
  "language_info": {
   "codemirror_mode": {
    "name": "ipython",
    "version": 3
   },
   "file_extension": ".py",
   "mimetype": "text/x-python",
   "name": "python",
   "nbconvert_exporter": "python",
   "pygments_lexer": "ipython3",
   "version": "3.11.5"
  }
 },
 "nbformat": 4,
 "nbformat_minor": 5
}
