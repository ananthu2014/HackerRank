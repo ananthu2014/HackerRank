{
 "cells": [
  {
   "cell_type": "markdown",
   "id": "091d5d19",
   "metadata": {},
   "source": [
    "\n",
    "\n",
    "The re.sub() tool (sub stands for substitution) evaluates a pattern and, for each valid match, it calls a method (or lambda).\n",
    "The method is called for all matches and can be used to modify strings in different ways.\n",
    "The re.sub() method returns the modified string as an output.\n",
    "\n",
    "Learn more about\n",
    "\n",
    ".\n",
    "\n",
    "Transformation of Strings\n",
    "\n",
    "Code\n",
    "\n",
    "import re\n",
    "\n",
    "#Squaring numbers\n",
    "def square(match):\n",
    "    number = int(match.group(0))\n",
    "    return str(number**2)\n",
    "\n",
    "print re.sub(r\"\\d+\", square, \"1 2 3 4 5 6 7 8 9\")\n"
   ]
  },
  {
   "cell_type": "code",
   "execution_count": null,
   "id": "e69e78b3",
   "metadata": {},
   "outputs": [],
   "source": [
    "import re\n",
    "\n",
    "n = int(input())\n",
    "\n",
    "for i in range(n):\n",
    "    a = input()\n",
    "    # Replace '&&' with 'and' when surrounded by single spaces\n",
    "    a = re.sub(r\"(?<= )(&&)(?= )\", \"and\", a)\n",
    "    # Replace '||' with 'or' when surrounded by single spaces\n",
    "    a = re.sub(r\"(?<= )(\\|\\|)(?= )\", \"or\", a)\n",
    "    print(a)\n",
    "\n"
   ]
  },
  {
   "cell_type": "code",
   "execution_count": null,
   "id": "46f68cf5",
   "metadata": {},
   "outputs": [],
   "source": [
    "regex_pattern = r\"^M{,3}(C[MD]|D?C{,3})(X[CL]|L?X{,3})(I[XV]|V?I{,3})$\"   # Do not delete \n",
    "\n",
    "import re\n",
    "print(str(bool(re.match(regex_pattern, input()))))"
   ]
  }
 ],
 "metadata": {
  "kernelspec": {
   "display_name": "Python 3 (ipykernel)",
   "language": "python",
   "name": "python3"
  },
  "language_info": {
   "codemirror_mode": {
    "name": "ipython",
    "version": 3
   },
   "file_extension": ".py",
   "mimetype": "text/x-python",
   "name": "python",
   "nbconvert_exporter": "python",
   "pygments_lexer": "ipython3",
   "version": "3.11.5"
  }
 },
 "nbformat": 4,
 "nbformat_minor": 5
}
