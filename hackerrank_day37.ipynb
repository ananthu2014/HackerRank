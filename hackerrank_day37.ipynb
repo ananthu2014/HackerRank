{
 "cells": [
  {
   "cell_type": "code",
   "execution_count": null,
   "id": "1d40b6e0",
   "metadata": {},
   "outputs": [],
   "source": [
    "Basic mathematical functions operate element-wise on arrays. They are available both as operator overloads and as functions in the NumPy module.\n",
    "\n",
    "import numpy\n",
    "\n",
    "a = numpy.array([1,2,3,4], float)\n",
    "b = numpy.array([5,6,7,8], float)\n",
    "\n",
    "print a + b                     #[  6.   8.  10.  12.]\n",
    "print numpy.add(a, b)           #[  6.   8.  10.  12.]\n",
    "\n",
    "print a - b                     #[-4. -4. -4. -4.]\n",
    "print numpy.subtract(a, b)      #[-4. -4. -4. -4.]\n",
    "\n",
    "print a * b                     #[  5.  12.  21.  32.]\n",
    "print numpy.multiply(a, b)      #[  5.  12.  21.  32.]\n",
    "\n",
    "print a / b                     #[ 0.2         0.33333333  0.42857143  0.5       ]\n",
    "print numpy.divide(a, b)        #[ 0.2         0.33333333  0.42857143  0.5       ]\n",
    "\n",
    "print a % b                     #[ 1.  2.  3.  4.]\n",
    "print numpy.mod(a, b)           #[ 1.  2.  3.  4.]\n",
    "\n",
    "print a**b                      #[  1.00000000e+00   6.40000000e+01   2.18700000e+03   6.55360000e+04]\n",
    "print numpy.power(a, b)         #[  1.00000000e+00   6.40000000e+01   2.18700000e+03   6.55360000e+04]\n"
   ]
  },
  {
   "cell_type": "code",
   "execution_count": null,
   "id": "67c8c590",
   "metadata": {},
   "outputs": [],
   "source": [
    "# Enter your code here. Read input from STDIN. Print output to STDOUT\n",
    "\n",
    "import numpy as np\n",
    "\n",
    "n, m = (int(n) for n in input().split(' '))\n",
    "\n",
    "a = np.array([[int(n) for n in input().split(' ')] for _ in range(n)], int)\n",
    "b = np.array([[int(n) for n in input().split(' ')] for _ in range(n)], int)\n",
    "    \n",
    "print(np.add(a, b))\n",
    "print(np.subtract(a, b))\n",
    "print(np.multiply(a, b))\n",
    "print(a // b)\n",
    "print(np.mod(a, b))\n",
    "print(np.power(a, b))"
   ]
  },
  {
   "cell_type": "code",
   "execution_count": null,
   "id": "8b4093a8",
   "metadata": {},
   "outputs": [],
   "source": [
    "floor\n",
    "The tool floor returns the floor of the input element-wise.\n",
    "The floor of is the largest integer where\n",
    "\n",
    ".\n",
    "\n",
    "import numpy\n",
    "\n",
    "my_array = numpy.array([1.1, 2.2, 3.3, 4.4, 5.5, 6.6, 7.7, 8.8, 9.9])\n",
    "print numpy.floor(my_array)         #[ 1.  2.  3.  4.  5.  6.  7.  8.  9.]\n",
    "\n",
    "ceil\n",
    "The tool ceil returns the ceiling of the input element-wise.\n",
    "The ceiling of\n",
    "is the smallest integer where\n",
    "\n",
    ".\n",
    "\n",
    "import numpy\n",
    "\n",
    "my_array = numpy.array([1.1, 2.2, 3.3, 4.4, 5.5, 6.6, 7.7, 8.8, 9.9])\n",
    "print numpy.ceil(my_array)          #[  2.   3.   4.   5.   6.   7.   8.   9.  10.]\n",
    "\n",
    "rint\n",
    "The rint tool rounds to the nearest integer of input element-wise.\n",
    "\n",
    "import numpy\n",
    "\n",
    "my_array = numpy.array([1.1, 2.2, 3.3, 4.4, 5.5, 6.6, 7.7, 8.8, 9.9])\n",
    "print numpy.rint(my_array)          #[  1.   2.   3.   4.   6.   7.   8.   9.  10.]\n"
   ]
  },
  {
   "cell_type": "code",
   "execution_count": null,
   "id": "2e5a62da",
   "metadata": {},
   "outputs": [],
   "source": [
    "import numpy as np\n",
    "\n",
    "np.set_printoptions(legacy = \"1.13\")\n",
    "\n",
    "arr = np.array(input().split(), float)\n",
    "\n",
    "print(np.floor(arr), np.ceil(arr), np.rint(arr), sep = \"\\n\")"
   ]
  }
 ],
 "metadata": {
  "kernelspec": {
   "display_name": "Python 3 (ipykernel)",
   "language": "python",
   "name": "python3"
  },
  "language_info": {
   "codemirror_mode": {
    "name": "ipython",
    "version": 3
   },
   "file_extension": ".py",
   "mimetype": "text/x-python",
   "name": "python",
   "nbconvert_exporter": "python",
   "pygments_lexer": "ipython3",
   "version": "3.11.5"
  }
 },
 "nbformat": 4,
 "nbformat_minor": 5
}
