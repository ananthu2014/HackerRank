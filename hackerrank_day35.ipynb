{
 "cells": [
  {
   "cell_type": "code",
   "execution_count": null,
   "id": "c5444df6",
   "metadata": {},
   "outputs": [],
   "source": [
    "import numpy\n",
    "\n",
    "inp = list(map(int, input().split()))\n",
    "\n",
    "print(numpy.zeros((inp), int))\n",
    "print(numpy.ones((inp), int))"
   ]
  },
  {
   "cell_type": "code",
   "execution_count": null,
   "id": "cadd7590",
   "metadata": {},
   "outputs": [],
   "source": [
    "import numpy\n",
    "\n",
    "print numpy.ones((1,2))                    #Default type is float\n",
    "#Output : [[ 1.  1.]] \n",
    "\n",
    "print numpy.ones((1,2), dtype = numpy.int) #Type changes to int\n",
    "#Output : [[1 1]]  "
   ]
  },
  {
   "cell_type": "code",
   "execution_count": null,
   "id": "56225499",
   "metadata": {},
   "outputs": [],
   "source": [
    "import numpy\n",
    "\n",
    "print numpy.zeros((1,2))                    #Default type is float\n",
    "#Output : [[ 0.  0.]] \n",
    "\n",
    "print numpy.zeros((1,2), dtype = numpy.int) #Type changes to int\n",
    "#Output : [[0 0]]"
   ]
  },
  {
   "cell_type": "code",
   "execution_count": null,
   "id": "2112eaff",
   "metadata": {},
   "outputs": [],
   "source": [
    "import numpy\n",
    "print numpy.identity(3) #3 is for  dimension 3 X 3\n",
    "\n",
    "#Output\n",
    "[[ 1.  0.  0.]\n",
    " [ 0.  1.  0.]\n",
    " [ 0.  0.  1.]]"
   ]
  },
  {
   "cell_type": "code",
   "execution_count": null,
   "id": "0640f211",
   "metadata": {},
   "outputs": [],
   "source": [
    "eye\n",
    "\n",
    "The eye tool returns a 2-D array with\n",
    "'s as the diagonal and 's elsewhere. The diagonal can be main, upper or lower depending on the optional parameter . A positive is for the upper diagonal, a negative is for the lower, and a\n",
    "\n",
    "(default) is for the main diagonal.\n",
    "\n",
    "import numpy\n",
    "print numpy.eye(8, 7, k = 1)    # 8 X 7 Dimensional array with first upper diagonal 1.\n",
    "\n",
    "#Output\n",
    "[[ 0.  1.  0.  0.  0.  0.  0.]\n",
    " [ 0.  0.  1.  0.  0.  0.  0.]\n",
    " [ 0.  0.  0.  1.  0.  0.  0.]\n",
    " [ 0.  0.  0.  0.  1.  0.  0.]\n",
    " [ 0.  0.  0.  0.  0.  1.  0.]\n",
    " [ 0.  0.  0.  0.  0.  0.  1.]\n",
    " [ 0.  0.  0.  0.  0.  0.  0.]\n",
    " [ 0.  0.  0.  0.  0.  0.  0.]]\n",
    "\n",
    "print numpy.eye(8, 7, k = -2)   # 8 X 7 Dimensional array with second lower diagonal 1.\n"
   ]
  },
  {
   "cell_type": "code",
   "execution_count": null,
   "id": "8d0d1fc0",
   "metadata": {},
   "outputs": [],
   "source": [
    "import numpy as np\n",
    "\n",
    "a = list(map(int,input().split()))\n",
    "m = a[0]\n",
    "n = a[1]\n",
    "print(np.eye(m,n,k=0))"
   ]
  },
  {
   "cell_type": "code",
   "execution_count": null,
   "id": "cedc9066",
   "metadata": {},
   "outputs": [],
   "source": [
    "# Enter your code here. Read input from STDIN. Print output to STDOUT\n",
    "\n",
    "import numpy as np\n",
    "\n",
    "a = list(map(int,input().split()))\n",
    "m = a[0]\n",
    "n = a[1]\n",
    "np.set_printoptions(legacy='1.13')\n",
    "print(np.eye(m,n,k=0))"
   ]
  }
 ],
 "metadata": {
  "kernelspec": {
   "display_name": "Python 3 (ipykernel)",
   "language": "python",
   "name": "python3"
  },
  "language_info": {
   "codemirror_mode": {
    "name": "ipython",
    "version": 3
   },
   "file_extension": ".py",
   "mimetype": "text/x-python",
   "name": "python",
   "nbconvert_exporter": "python",
   "pygments_lexer": "ipython3",
   "version": "3.11.5"
  }
 },
 "nbformat": 4,
 "nbformat_minor": 5
}
