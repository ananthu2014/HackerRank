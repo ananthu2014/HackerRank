{
 "cells": [
  {
   "cell_type": "code",
   "execution_count": 7,
   "id": "bfa6a1f7",
   "metadata": {},
   "outputs": [
    {
     "name": "stdout",
     "output_type": "stream",
     "text": [
      "AAABBBCDEEFG\n",
      "3\n",
      "A\n",
      "B\n",
      "CDE\n"
     ]
    }
   ],
   "source": [
    "'''i got one testcase error due to time limit exceeded'''\n",
    "def merge_the_tools(string, k):\n",
    "    lis=[]\n",
    "    temp=''\n",
    "    for i in range(k):\n",
    "        str1 = string[i*k:(i+1)*k]\n",
    "        for j in str1:\n",
    "            if j not in temp:\n",
    "                temp = temp+j\n",
    "        lis.append(temp)\n",
    "        temp=''\n",
    "    for i in lis:\n",
    "        print(i)\n",
    "        \n",
    "\n",
    "if __name__ == '__main__':\n",
    "    string, k = input(), int(input())\n",
    "    merge_the_tools(string, k)"
   ]
  },
  {
   "cell_type": "code",
   "execution_count": 2,
   "id": "e3a5e084",
   "metadata": {},
   "outputs": [
    {
     "data": {
      "text/plain": [
       "'ana'"
      ]
     },
     "execution_count": 2,
     "metadata": {},
     "output_type": "execute_result"
    }
   ],
   "source": [
    "string='ananthu'\n",
    "sub=string[0:3]\n",
    "sub"
   ]
  },
  {
   "cell_type": "code",
   "execution_count": 8,
   "id": "b7b14848",
   "metadata": {},
   "outputs": [],
   "source": [
    "'''this code passed all the test cases'''\n",
    "def merge_the_tools(string, k):\n",
    "    result = []  # List to store the final results\n",
    "    for i in range(0, len(string), k): #It uses range(0, len(string), k) to iterate over the string, \n",
    "#         which is a bit more idiomatic.\n",
    "        segment = string[i:i+k]\n",
    "        unique_segment = ''\n",
    "        for char in segment:\n",
    "            if char not in unique_segment:\n",
    "                unique_segment += char\n",
    "        print(unique_segment)"
   ]
  },
  {
   "cell_type": "code",
   "execution_count": 10,
   "id": "26c220be",
   "metadata": {},
   "outputs": [
    {
     "name": "stdout",
     "output_type": "stream",
     "text": [
      "Enter elements of the first list separated by space: 1 2 3\n",
      "Enter elements of the second list separated by space: 1 2 3\n",
      "List 1: [1, 2, 3]\n",
      "List 2: [1, 2, 3]\n"
     ]
    }
   ],
   "source": [
    "# Read the first line, split it into elements, and convert them to integers\n",
    "#THIS IS THE BEST WAY TO TAKE INPUT AS SPACE SEPERATED VALUES AND CONVERT IT INTO A LIST OF INTEGERS\n",
    "\n",
    "list1 = list(map(int, input(\"Enter elements of the first list separated by space: \").strip().split(' ')))#even though the space is \n",
    "#taken default, just specified it for readability.\n",
    "\n",
    "# Read the second line, split it into elements, and convert them to integers\n",
    "list2 = list(map(int, input(\"Enter elements of the second list separated by space: \").strip().split(' ')))\n",
    "\n",
    "# Now, list1 and list2 have the integer elements from the input\n",
    "print(\"List 1:\", list1)\n",
    "print(\"List 2:\", list2)\n"
   ]
  },
  {
   "cell_type": "code",
   "execution_count": 11,
   "id": "fd6d228d",
   "metadata": {},
   "outputs": [],
   "source": [
    "a = '1 2 3'\n",
    "s=a.split()"
   ]
  },
  {
   "cell_type": "code",
   "execution_count": 12,
   "id": "993c0cd0",
   "metadata": {},
   "outputs": [
    {
     "data": {
      "text/plain": [
       "['1', '2', '3']"
      ]
     },
     "execution_count": 12,
     "metadata": {},
     "output_type": "execute_result"
    }
   ],
   "source": [
    "s"
   ]
  },
  {
   "cell_type": "code",
   "execution_count": 13,
   "id": "7ce68239",
   "metadata": {},
   "outputs": [
    {
     "data": {
      "text/plain": [
       "['1', '2', '3']"
      ]
     },
     "execution_count": 13,
     "metadata": {},
     "output_type": "execute_result"
    }
   ],
   "source": [
    "k = a.split(' ')#if we didnt specify the paramaters while splitting, it takes the default as ' '\n",
    "k"
   ]
  },
  {
   "cell_type": "code",
   "execution_count": 17,
   "id": "2159d512",
   "metadata": {},
   "outputs": [
    {
     "name": "stdout",
     "output_type": "stream",
     "text": [
      "1 2 3 4 54\n",
      "['1', '2', '3', '4', '54']\n"
     ]
    }
   ],
   "source": [
    "list1 = list(input().strip().split(' '))\n",
    "print(list1)"
   ]
  },
  {
   "cell_type": "code",
   "execution_count": 27,
   "id": "cfddfbca",
   "metadata": {},
   "outputs": [
    {
     "name": "stdout",
     "output_type": "stream",
     "text": [
      "jack 2\n",
      "['jack', '2']\n",
      "\n"
     ]
    }
   ],
   "source": [
    "# Enter your code here. Read input from STDIN. Print output to STDOUT\n",
    "from itertools import permutations\n",
    "\n",
    "list1 = list(input().strip().split(' '))\n",
    "print(list1)\n",
    "integer = int(list1.pop())\n",
    "\n",
    "\n",
    "c = permutations(list1,integer)\n",
    "print(*c)"
   ]
  },
  {
   "cell_type": "code",
   "execution_count": 21,
   "id": "10fa1009",
   "metadata": {},
   "outputs": [
    {
     "name": "stdout",
     "output_type": "stream",
     "text": [
      "[1, 2, 3, 4]\n"
     ]
    }
   ],
   "source": [
    "my_list = [1, 2, 3, 4, 5]\n",
    "popped_element = my_list.pop()  # Removes and returns the last element (5)\n",
    "print(my_list)  # Output will be [1, 2, 3, 4]\n"
   ]
  },
  {
   "cell_type": "code",
   "execution_count": null,
   "id": "3ca48706",
   "metadata": {},
   "outputs": [],
   "source": [
    "my_list = ['jack',2]\n",
    "popped_element = my_list.pop() "
   ]
  },
  {
   "cell_type": "code",
   "execution_count": 32,
   "id": "0cfdeea5",
   "metadata": {
    "collapsed": true
   },
   "outputs": [
    {
     "name": "stdout",
     "output_type": "stream",
     "text": [
      "huke 2\n",
      "eh\n",
      "ek\n",
      "eu\n",
      "he\n",
      "hk\n",
      "hu\n",
      "ke\n",
      "kh\n",
      "ku\n",
      "ue\n",
      "uh\n",
      "uk\n"
     ]
    }
   ],
   "source": [
    "# Enter your code here. Read input from STDIN. Print output to STDOUT\n",
    "from itertools import permutations\n",
    "# Reading input from STDIN\n",
    "input_str = input().strip()\n",
    "# Splitting the input string to get the string part and the integer part\n",
    "string, size_str = input_str.split()\n",
    "size = int(size_str)  # Converting size to integer\n",
    "# Generating permutations of the specified size\n",
    "perm = permutations(string, size)\n",
    "# Sorting the permutations and printing each one on a separate line\n",
    "for p in sorted(perm):\n",
    "    print(''.join(p))"
   ]
  },
  {
   "cell_type": "code",
   "execution_count": 33,
   "id": "f891f2fb",
   "metadata": {},
   "outputs": [
    {
     "name": "stdout",
     "output_type": "stream",
     "text": [
      "cd\n"
     ]
    }
   ],
   "source": [
    "a=('c','d')\n",
    "e = ''.join(a)\n",
    "print(e) #in this way we can join the elements of a tuple into a string. use the .join() function"
   ]
  },
  {
   "cell_type": "code",
   "execution_count": 35,
   "id": "cdc92a95",
   "metadata": {},
   "outputs": [
    {
     "name": "stdout",
     "output_type": "stream",
     "text": [
      "cd\n"
     ]
    }
   ],
   "source": [
    "a=['c','d'] #join function can be applied to lists as well\n",
    "e = ''.join(a)\n",
    "print(e)"
   ]
  },
  {
   "cell_type": "code",
   "execution_count": 36,
   "id": "5aeb582f",
   "metadata": {},
   "outputs": [
    {
     "name": "stdout",
     "output_type": "stream",
     "text": [
      "{1, 2, 3, 4}\n"
     ]
    }
   ],
   "source": [
    "a = [1,2,3,4,4,4]\n",
    "a = set(a)\n",
    "print(a)\n"
   ]
  },
  {
   "cell_type": "code",
   "execution_count": null,
   "id": "09135051",
   "metadata": {},
   "outputs": [],
   "source": [
    "# Enter your code here. Read input from STDIN. Print output to STDOUT\n",
    "nm = list(map(int, input().strip().split(' '))) #N,M\n",
    "array = list(map(int, input().strip().split(' '))) #N INTEGERS\n",
    "A = set(map(int, input().strip().split(' '))) # M INTEGERS A\n",
    "B = set(map(int, input().strip().split(' '))) # N INTEGERS B\n",
    "\n",
    "score  = 0\n",
    "for i in array:\n",
    "    if i in A:\n",
    "        score  = score +1\n",
    "    if i in B:\n",
    "        score = score -1\n",
    "        \n",
    "print(score)"
   ]
  },
  {
   "cell_type": "code",
   "execution_count": 39,
   "id": "c1850c25",
   "metadata": {},
   "outputs": [
    {
     "name": "stdout",
     "output_type": "stream",
     "text": [
      "15\n",
      "25\n",
      "36°\n"
     ]
    }
   ],
   "source": [
    "'''one property used here is that if we draw a line to the midpoint of the hypotenuse in right-triangle it will be equidistant\n",
    "to the vertices'''\n",
    "import math\n",
    "\n",
    "from math import degrees, atan2, tan\n",
    "from math import degrees, atan2\n",
    "AB = float(input())\n",
    "BC = float(input())\n",
    "MBC = round(degrees(atan2(AB, BC)))\n",
    "print((str(MBC)), chr(176), sep='')"
   ]
  },
  {
   "cell_type": "code",
   "execution_count": 44,
   "id": "73c94125",
   "metadata": {},
   "outputs": [
    {
     "name": "stdout",
     "output_type": "stream",
     "text": [
      "°\n"
     ]
    }
   ],
   "source": [
    "print(chr(176)) #degree symbol"
   ]
  },
  {
   "cell_type": "code",
   "execution_count": null,
   "id": "4a48dccc",
   "metadata": {},
   "outputs": [],
   "source": []
  }
 ],
 "metadata": {
  "kernelspec": {
   "display_name": "Python 3 (ipykernel)",
   "language": "python",
   "name": "python3"
  },
  "language_info": {
   "codemirror_mode": {
    "name": "ipython",
    "version": 3
   },
   "file_extension": ".py",
   "mimetype": "text/x-python",
   "name": "python",
   "nbconvert_exporter": "python",
   "pygments_lexer": "ipython3",
   "version": "3.11.5"
  }
 },
 "nbformat": 4,
 "nbformat_minor": 5
}
