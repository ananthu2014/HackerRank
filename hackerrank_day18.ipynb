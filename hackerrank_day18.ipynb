{
 "cells": [
  {
   "cell_type": "code",
   "execution_count": 5,
   "id": "97e370c9",
   "metadata": {},
   "outputs": [],
   "source": [
    "a={1,2,3,4}\n",
    "b = {1,2,3}"
   ]
  },
  {
   "cell_type": "code",
   "execution_count": 3,
   "id": "1a158db1",
   "metadata": {},
   "outputs": [
    {
     "name": "stdout",
     "output_type": "stream",
     "text": [
      "False\n"
     ]
    }
   ],
   "source": [
    "if b in a:\n",
    "    print(True)\n",
    "else:\n",
    "    print(False)"
   ]
  },
  {
   "cell_type": "code",
   "execution_count": 4,
   "id": "9b3b8368",
   "metadata": {},
   "outputs": [
    {
     "ename": "TypeError",
     "evalue": "argument of type 'bool' is not iterable",
     "output_type": "error",
     "traceback": [
      "\u001b[1;31m---------------------------------------------------------------------------\u001b[0m",
      "\u001b[1;31mTypeError\u001b[0m                                 Traceback (most recent call last)",
      "Cell \u001b[1;32mIn[4], line 2\u001b[0m\n\u001b[0;32m      1\u001b[0m \u001b[38;5;28;01mfor\u001b[39;00m i \u001b[38;5;129;01min\u001b[39;00m b:\n\u001b[1;32m----> 2\u001b[0m     \u001b[38;5;28;01mif\u001b[39;00m i \u001b[38;5;129;01min\u001b[39;00m a:\n\u001b[0;32m      3\u001b[0m         a \u001b[38;5;241m=\u001b[39m \u001b[38;5;28;01mTrue\u001b[39;00m\n",
      "\u001b[1;31mTypeError\u001b[0m: argument of type 'bool' is not iterable"
     ]
    }
   ],
   "source": [
    "for i in b:\n",
    "    if i in a:\n",
    "        a = True"
   ]
  },
  {
   "cell_type": "code",
   "execution_count": 6,
   "id": "aad8f185",
   "metadata": {},
   "outputs": [],
   "source": [
    "fin = True\n",
    "for i in b:\n",
    "    if i in a:\n",
    "        fin=True\n",
    "    else:\n",
    "        fin=False\n",
    "        break"
   ]
  },
  {
   "cell_type": "code",
   "execution_count": 7,
   "id": "d63a2953",
   "metadata": {},
   "outputs": [
    {
     "name": "stdout",
     "output_type": "stream",
     "text": [
      "True\n"
     ]
    }
   ],
   "source": [
    "print(fin)"
   ]
  },
  {
   "cell_type": "code",
   "execution_count": 11,
   "id": "96baa7c1",
   "metadata": {},
   "outputs": [
    {
     "name": "stdout",
     "output_type": "stream",
     "text": [
      "1 2 3 4 5\n",
      "1\n",
      "12 3 4 5\n",
      "False\n"
     ]
    }
   ],
   "source": [
    "# Enter your code here. Read input from STDIN. Print output to STDOUT\n",
    "a = set(map(int,input().split()))\n",
    "n = int(input())\n",
    "ans = True\n",
    "for i in range(n):\n",
    "    sub = set(map(int,input().split()))\n",
    "    if len(a) > len(sub):\n",
    "        for i in sub:\n",
    "            if i in a:\n",
    "                ans = True\n",
    "            else:\n",
    "                ans = False\n",
    "                break\n",
    "print(ans)"
   ]
  },
  {
   "cell_type": "code",
   "execution_count": 12,
   "id": "207d5e85",
   "metadata": {},
   "outputs": [
    {
     "name": "stdout",
     "output_type": "stream",
     "text": [
      "1 2 3 4\n",
      "1\n",
      "1 2 3\n",
      "True\n"
     ]
    }
   ],
   "source": [
    "# Read the first set 'a' from STDIN\n",
    "a = set(map(int, input().split()))\n",
    "# Read the number of subsequent sets\n",
    "n = int(input())\n",
    "# Initialize 'ans' to True\n",
    "ans = True\n",
    "\n",
    "for _ in range(n):  # Use underscore as we don't reuse loop variable\n",
    "    # Read each subset\n",
    "    sub = set(map(int, input().split()))\n",
    "    # Check if 'a' is not a superset of 'sub'\n",
    "    if not a.issuperset(sub):\n",
    "        # If 'a' is not a superset, set 'ans' to False and break\n",
    "        ans = False\n",
    "        break\n",
    "\n",
    "# Print the final answer\n",
    "print(ans)\n"
   ]
  },
  {
   "cell_type": "code",
   "execution_count": 13,
   "id": "60b52057",
   "metadata": {},
   "outputs": [
    {
     "data": {
      "text/plain": [
       "'Python is a fully object-oriented language like C++, Java, etc. For reading about classes, refer here.\\n\\nMethods with a double underscore before and after their name are considered as built-in methods. They are used by \\ninterpreters and are generally used in the implementation of overloaded operators or other built-in functionality.\\n\\n__add__-> Can be overloaded for + operation'"
      ]
     },
     "execution_count": 13,
     "metadata": {},
     "output_type": "execute_result"
    }
   ],
   "source": [
    "'''Python is a fully object-oriented language like C++, Java, etc. For reading about classes, refer here.\n",
    "\n",
    "Methods with a double underscore before and after their name are considered as built-in methods. They are used by \n",
    "interpreters and are generally used in the implementation of overloaded operators or other built-in functionality.\n",
    "\n",
    "__add__-> Can be overloaded for + operation'''"
   ]
  },
  {
   "cell_type": "code",
   "execution_count": 17,
   "id": "6652c646",
   "metadata": {},
   "outputs": [],
   "source": [
    "class a:\n",
    "    def __init__(self,a,b):\n",
    "        self.a = a\n",
    "        self.b = b\n",
    "    def __add__(self,a,b):\n",
    "        return self.a + self.b\n",
    "        "
   ]
  },
  {
   "cell_type": "code",
   "execution_count": 18,
   "id": "7ff28a9b",
   "metadata": {},
   "outputs": [],
   "source": [
    "obj = a(3,4)"
   ]
  },
  {
   "cell_type": "code",
   "execution_count": 26,
   "id": "8992c065",
   "metadata": {},
   "outputs": [
    {
     "name": "stdout",
     "output_type": "stream",
     "text": [
      "Result: a=4, b=6\n"
     ]
    }
   ],
   "source": [
    "# Define the class A with corrected __add__ method\n",
    "class A:\n",
    "    def __init__(self, a, b):\n",
    "        self.a = a\n",
    "        self.b = b\n",
    "\n",
    "    # Corrected __add__ method to allow adding two instances of A\n",
    "    def __add__(self, other):\n",
    "        return A(self.a + other.a, self.b + other.b)\n",
    "    \n",
    "    def add(self,b,c):\n",
    "        return self.a+b, self.b+c\n",
    "\n",
    "# Create two instances of A\n",
    "instance1 = A(1, 2)  # Instance 1 with a=1, b=2\n",
    "instance2 = A(3, 4)  # Instance 2 with a=3, b=4\n",
    "\n",
    "# Add the two instances\n",
    "result = instance1 + instance2\n",
    "\n",
    "# Print the result\n",
    "print(f\"Result: a={result.a}, b={result.b}\")\n"
   ]
  },
  {
   "cell_type": "code",
   "execution_count": 28,
   "id": "da3db64c",
   "metadata": {},
   "outputs": [
    {
     "name": "stdout",
     "output_type": "stream",
     "text": [
      "Result using + operator: a=4, b=6\n",
      "Result using add method: a=4, b=6\n"
     ]
    }
   ],
   "source": [
    "class A:\n",
    "    def __init__(self, a, b):\n",
    "        self.a = a\n",
    "        self.b = b\n",
    "\n",
    "    # Overloads the + operator\n",
    "    def __add__(self, other):\n",
    "        return A(self.a + other.a, self.b + other.b)\n",
    "    \n",
    "    # Modified add method to perform similar to __add__\n",
    "    def add(self, other):\n",
    "        return A(self.a + other.a, self.b + other.b)\n",
    "\n",
    "# Create two instances of A\n",
    "instance1 = A(1, 2)  # Instance 1 with a=1, b=2\n",
    "instance2 = A(3, 4)  # Instance 2 with a=3, b=4\n",
    "\n",
    "# Use the __add__ method\n",
    "result_add_operator = instance1 + instance2\n",
    "\n",
    "# Use the modified add method\n",
    "result_add_method = instance1.add(instance2)\n",
    "\n",
    "# Print the results\n",
    "print(f\"Result using + operator: a={result_add_operator.a}, b={result_add_operator.b}\")\n",
    "print(f\"Result using add method: a={result_add_method.a}, b={result_add_method.b}\")\n"
   ]
  },
  {
   "cell_type": "markdown",
   "id": "72060e1a",
   "metadata": {},
   "source": [
    "Returning A(self.a + other.a, self.b + other.b) versus returning (self.a + other.a, self.b + other.b) represents two fundamentally different design choices in the context of object-oriented programming. Let's explore the differences between these approaches:\n",
    "1. Returning a New Instance of A:\n",
    "\n",
    "When you return A(self.a + other.a, self.b + other.b), you are creating and returning a new instance of the class A. This is significant for a few reasons:\n",
    "\n",
    "    Type Consistency: The method returns an instance of the same type as the objects being operated on. This is crucial for maintaining object-oriented principles, allowing the returned object to be used in any context where an instance of A is expected.\n",
    "    Encapsulation: By returning a new instance of A, you encapsulate the behavior and state within an instance of the class. This allows the result to have its methods and properties, maintaining consistency with the objects that were operated on.\n",
    "    Method Chaining: Returning a new instance of A allows for method chaining. For example, if A had another method multiply, you could directly call instance1.add(instance2).multiply(instance3) without needing intermediate variables.\n",
    "\n",
    "2. Returning a Tuple:\n",
    "\n",
    "Returning (self.a + other.a, self.b + other.b) would return a tuple containing the sums of the corresponding attributes. While this approach is simpler and may be suitable for functions that are purely computational (returning raw data without needing the context of an object), it has limitations in an object-oriented design:\n",
    "\n",
    "    Loss of Type: The result is no longer an instance of A but a tuple, which means you lose all the methods and properties associated with the A class. This can significantly reduce functionality and flexibility.\n",
    "    Inconsistency: If other parts of your class or application expect instances of A, returning a tuple could lead to errors or the need for additional type-checking and conversion, complicating the codebase.\n",
    "    Limited Usage: Without the context and capabilities of the A class, the returned data is limited to the specific values it contains. You cannot directly apply further operations that are specific to A instances without first converting the tuple back into an instance of A.\n",
    "\n",
    "Conclusion:\n",
    "\n",
    "Choosing to return a new instance of A aligns with object-oriented design principles by preserving type consistency, encapsulating behavior and state, and enabling method chaining. Returning a tuple might be simpler and make sense in a functional programming context or when the operation's sole purpose is to compute and return raw data. However, in the context of a class designed to represent complex numbers or any other entity where operations are expected to produce results of the same type, returning a new instance of the class is usually the preferred approach.\n"
   ]
  },
  {
   "cell_type": "code",
   "execution_count": 29,
   "id": "b44623ba",
   "metadata": {},
   "outputs": [
    {
     "name": "stdout",
     "output_type": "stream",
     "text": [
      "2 1\n",
      "3 2\n",
      "5.00+3.00i\n",
      "-1.00-1.00i\n",
      "4.00+7.00i\n",
      "0.62-0.08i\n",
      "2.24+0.00i\n",
      "3.61+0.00i\n"
     ]
    }
   ],
   "source": [
    "import math\n",
    "\n",
    "class Complex(object):\n",
    "    def __init__(self, real, imaginary):\n",
    "        self.real = real\n",
    "        self.imaginary = imaginary\n",
    "        \n",
    "    def __add__(self, no):\n",
    "        return Complex(self.real + no.real, self.imaginary + no.imaginary)\n",
    "        \n",
    "    def __sub__(self, no):\n",
    "        return Complex(self.real - no.real, self.imaginary - no.imaginary)\n",
    "        \n",
    "    def __mul__(self, no):\n",
    "        real_part = self.real * no.real - self.imaginary * no.imaginary\n",
    "        imaginary_part = self.real * no.imaginary + self.imaginary * no.real\n",
    "        return Complex(real_part, imaginary_part)\n",
    "\n",
    "    def __truediv__(self, no):\n",
    "        conjugate = Complex(no.real, -no.imaginary)\n",
    "        numerator = self * conjugate\n",
    "        denominator = no.real**2 + no.imaginary**2\n",
    "        return Complex(numerator.real / denominator, numerator.imaginary / denominator)\n",
    "\n",
    "    def mod(self):\n",
    "        return Complex(math.sqrt(self.real**2 + self.imaginary**2), 0)\n",
    "\n",
    "    def __str__(self):\n",
    "        if self.imaginary >= 0:\n",
    "            return \"%.2f+%.2fi\" % (self.real, self.imaginary)\n",
    "        else:\n",
    "            return \"%.2f%.2fi\" % (self.real, self.imaginary)\n",
    "\n",
    "if __name__ == '__main__':\n",
    "    c = map(float, input().split())\n",
    "    d = map(float, input().split())\n",
    "    x = Complex(*c)\n",
    "    y = Complex(*d)\n",
    "    print(*map(str, [x+y, x-y, x*y, x/y, x.mod(), y.mod()]), sep='\\n')"
   ]
  },
  {
   "cell_type": "code",
   "execution_count": 30,
   "id": "ed31e99c",
   "metadata": {},
   "outputs": [],
   "source": [
    "'''writing a class without __init__ method'''\n",
    "class SimpleCalculator:\n",
    "    # No __init__ method needed here\n",
    "\n",
    "    @staticmethod\n",
    "    def add(a, b):\n",
    "        return a + b\n",
    "\n",
    "    @staticmethod\n",
    "    def subtract(a, b):\n",
    "        return a - b\n",
    "\n",
    "    @staticmethod\n",
    "    def multiply(a, b):\n",
    "        return a * b\n",
    "\n",
    "    @staticmethod\n",
    "    def divide(a, b):\n",
    "        if b != 0:\n",
    "            return a / b\n",
    "        else:\n",
    "            return \"Cannot divide by zero.\"\n",
    "\n",
    "        "
   ]
  },
  {
   "cell_type": "code",
   "execution_count": 32,
   "id": "52edb084",
   "metadata": {},
   "outputs": [
    {
     "name": "stdout",
     "output_type": "stream",
     "text": [
      "2\n"
     ]
    }
   ],
   "source": [
    "calculator = SimpleCalculator()\n",
    "print(calculator.subtract(5,3))"
   ]
  },
  {
   "cell_type": "markdown",
   "id": "a43c85c3",
   "metadata": {},
   "source": [
    "A static method in Python is a method that belongs to a class but does not require an instance of the class to be called. Static methods do not access or modify the state of a specific instance of the class (i.e., they do not use self), nor do they access or modify the class state (i.e., they do not use cls). They are utility functions that perform a task in isolation, operating on their input parameters without needing reference to an instance or class variable.\n",
    "Characteristics of Static Methods:\n",
    "\n",
    "    Independence: Static methods can be called without creating an instance of the class. They do not require self or cls as the first argument.\n",
    "    Utility: They are used for functionality that is logically related to the class but does not interact with class or instance-specific data.\n",
    "    Annotation: In Python, static methods are defined using the @staticmethod decorator above the method definition. This decorator alters the method to not pass the instance reference (self) or class reference (cls) automatically as the first argument.\n",
    "\n",
    "Example of a Static Method:\n",
    "\n",
    "python\n",
    "\n",
    "class MathHelper:\n",
    "    \n",
    "    @staticmethod\n",
    "    def add(a, b):\n",
    "        return a + b\n",
    "\n",
    "    @staticmethod\n",
    "    def multiply(a, b):\n",
    "        return a * b\n",
    "\n",
    "In this example, add and multiply methods are static because they perform operations that do not depend on any state of MathHelper instances or the MathHelper class itself. They can be called using the class name directly:\n",
    "\n",
    "python\n",
    "\n",
    "result = MathHelper.add(3, 5)\n",
    "print(result)  # Outputs: 8\n",
    "\n",
    "product = MathHelper.multiply(4, 5)\n",
    "print(product)  # Outputs: 20\n",
    "\n",
    "When to Use Static Methods:\n",
    "\n",
    "    Utility Functions: When a function is a utility that could belong globally but is placed in a class for organizational or logical reasons.\n",
    "    Functionality Related to the Class: When the functionality is related to the class conceptually, but does not interact with class or instance variables.\n",
    "\n",
    "Static methods provide a way of organizing functions related to a class's functionality, keeping them encapsulated within the class namespace. This can enhance readability and maintainability of the code by grouping related functions together, even when they don't interact with instances of the class.\n"
   ]
  },
  {
   "cell_type": "code",
   "execution_count": null,
   "id": "0ecf3cb7",
   "metadata": {},
   "outputs": [],
   "source": []
  }
 ],
 "metadata": {
  "kernelspec": {
   "display_name": "Python 3 (ipykernel)",
   "language": "python",
   "name": "python3"
  },
  "language_info": {
   "codemirror_mode": {
    "name": "ipython",
    "version": 3
   },
   "file_extension": ".py",
   "mimetype": "text/x-python",
   "name": "python",
   "nbconvert_exporter": "python",
   "pygments_lexer": "ipython3",
   "version": "3.11.5"
  }
 },
 "nbformat": 4,
 "nbformat_minor": 5
}
